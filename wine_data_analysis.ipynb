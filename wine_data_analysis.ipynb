{
  "cells": [
    {
      "cell_type": "code",
      "execution_count": null,
      "metadata": {
        "id": "WWOKD83QBH0k"
      },
      "outputs": [],
      "source": [
        "import numpy as np\n",
        "import seaborn as sns\n",
        "import matplotlib.pyplot as plt\n",
        "import pandas as pd"
      ]
    },
    {
      "cell_type": "code",
      "execution_count": null,
      "metadata": {
        "colab": {
          "base_uri": "https://localhost:8080/",
          "height": 223
        },
        "id": "WuXkfrckBH0r",
        "outputId": "de40999e-fa06-48f2-ae71-af1dc9112c2a"
      },
      "outputs": [
        {
          "output_type": "execute_result",
          "data": {
            "text/plain": [
              "   fixed acidity  volatile acidity  citric acid  residual sugar  chlorides  \\\n",
              "0            7.4              0.70         0.00             1.9      0.076   \n",
              "1            7.8              0.88         0.00             2.6      0.098   \n",
              "2            7.8              0.76         0.04             2.3      0.092   \n",
              "3           11.2              0.28         0.56             1.9      0.075   \n",
              "4            7.4              0.70         0.00             1.9      0.076   \n",
              "\n",
              "   free sulfur dioxide  total sulfur dioxide  density    pH  sulphates  \\\n",
              "0                 11.0                  34.0   0.9978  3.51       0.56   \n",
              "1                 25.0                  67.0   0.9968  3.20       0.68   \n",
              "2                 15.0                  54.0   0.9970  3.26       0.65   \n",
              "3                 17.0                  60.0   0.9980  3.16       0.58   \n",
              "4                 11.0                  34.0   0.9978  3.51       0.56   \n",
              "\n",
              "   alcohol  quality  \n",
              "0      9.4        5  \n",
              "1      9.8        5  \n",
              "2      9.8        5  \n",
              "3      9.8        6  \n",
              "4      9.4        5  "
            ],
            "text/html": [
              "\n",
              "  <div id=\"df-77eadf19-60d6-40ba-adf5-a650912c7007\" class=\"colab-df-container\">\n",
              "    <div>\n",
              "<style scoped>\n",
              "    .dataframe tbody tr th:only-of-type {\n",
              "        vertical-align: middle;\n",
              "    }\n",
              "\n",
              "    .dataframe tbody tr th {\n",
              "        vertical-align: top;\n",
              "    }\n",
              "\n",
              "    .dataframe thead th {\n",
              "        text-align: right;\n",
              "    }\n",
              "</style>\n",
              "<table border=\"1\" class=\"dataframe\">\n",
              "  <thead>\n",
              "    <tr style=\"text-align: right;\">\n",
              "      <th></th>\n",
              "      <th>fixed acidity</th>\n",
              "      <th>volatile acidity</th>\n",
              "      <th>citric acid</th>\n",
              "      <th>residual sugar</th>\n",
              "      <th>chlorides</th>\n",
              "      <th>free sulfur dioxide</th>\n",
              "      <th>total sulfur dioxide</th>\n",
              "      <th>density</th>\n",
              "      <th>pH</th>\n",
              "      <th>sulphates</th>\n",
              "      <th>alcohol</th>\n",
              "      <th>quality</th>\n",
              "    </tr>\n",
              "  </thead>\n",
              "  <tbody>\n",
              "    <tr>\n",
              "      <th>0</th>\n",
              "      <td>7.4</td>\n",
              "      <td>0.70</td>\n",
              "      <td>0.00</td>\n",
              "      <td>1.9</td>\n",
              "      <td>0.076</td>\n",
              "      <td>11.0</td>\n",
              "      <td>34.0</td>\n",
              "      <td>0.9978</td>\n",
              "      <td>3.51</td>\n",
              "      <td>0.56</td>\n",
              "      <td>9.4</td>\n",
              "      <td>5</td>\n",
              "    </tr>\n",
              "    <tr>\n",
              "      <th>1</th>\n",
              "      <td>7.8</td>\n",
              "      <td>0.88</td>\n",
              "      <td>0.00</td>\n",
              "      <td>2.6</td>\n",
              "      <td>0.098</td>\n",
              "      <td>25.0</td>\n",
              "      <td>67.0</td>\n",
              "      <td>0.9968</td>\n",
              "      <td>3.20</td>\n",
              "      <td>0.68</td>\n",
              "      <td>9.8</td>\n",
              "      <td>5</td>\n",
              "    </tr>\n",
              "    <tr>\n",
              "      <th>2</th>\n",
              "      <td>7.8</td>\n",
              "      <td>0.76</td>\n",
              "      <td>0.04</td>\n",
              "      <td>2.3</td>\n",
              "      <td>0.092</td>\n",
              "      <td>15.0</td>\n",
              "      <td>54.0</td>\n",
              "      <td>0.9970</td>\n",
              "      <td>3.26</td>\n",
              "      <td>0.65</td>\n",
              "      <td>9.8</td>\n",
              "      <td>5</td>\n",
              "    </tr>\n",
              "    <tr>\n",
              "      <th>3</th>\n",
              "      <td>11.2</td>\n",
              "      <td>0.28</td>\n",
              "      <td>0.56</td>\n",
              "      <td>1.9</td>\n",
              "      <td>0.075</td>\n",
              "      <td>17.0</td>\n",
              "      <td>60.0</td>\n",
              "      <td>0.9980</td>\n",
              "      <td>3.16</td>\n",
              "      <td>0.58</td>\n",
              "      <td>9.8</td>\n",
              "      <td>6</td>\n",
              "    </tr>\n",
              "    <tr>\n",
              "      <th>4</th>\n",
              "      <td>7.4</td>\n",
              "      <td>0.70</td>\n",
              "      <td>0.00</td>\n",
              "      <td>1.9</td>\n",
              "      <td>0.076</td>\n",
              "      <td>11.0</td>\n",
              "      <td>34.0</td>\n",
              "      <td>0.9978</td>\n",
              "      <td>3.51</td>\n",
              "      <td>0.56</td>\n",
              "      <td>9.4</td>\n",
              "      <td>5</td>\n",
              "    </tr>\n",
              "  </tbody>\n",
              "</table>\n",
              "</div>\n",
              "    <div class=\"colab-df-buttons\">\n",
              "\n",
              "  <div class=\"colab-df-container\">\n",
              "    <button class=\"colab-df-convert\" onclick=\"convertToInteractive('df-77eadf19-60d6-40ba-adf5-a650912c7007')\"\n",
              "            title=\"Convert this dataframe to an interactive table.\"\n",
              "            style=\"display:none;\">\n",
              "\n",
              "  <svg xmlns=\"http://www.w3.org/2000/svg\" height=\"24px\" viewBox=\"0 -960 960 960\">\n",
              "    <path d=\"M120-120v-720h720v720H120Zm60-500h600v-160H180v160Zm220 220h160v-160H400v160Zm0 220h160v-160H400v160ZM180-400h160v-160H180v160Zm440 0h160v-160H620v160ZM180-180h160v-160H180v160Zm440 0h160v-160H620v160Z\"/>\n",
              "  </svg>\n",
              "    </button>\n",
              "\n",
              "  <style>\n",
              "    .colab-df-container {\n",
              "      display:flex;\n",
              "      gap: 12px;\n",
              "    }\n",
              "\n",
              "    .colab-df-convert {\n",
              "      background-color: #E8F0FE;\n",
              "      border: none;\n",
              "      border-radius: 50%;\n",
              "      cursor: pointer;\n",
              "      display: none;\n",
              "      fill: #1967D2;\n",
              "      height: 32px;\n",
              "      padding: 0 0 0 0;\n",
              "      width: 32px;\n",
              "    }\n",
              "\n",
              "    .colab-df-convert:hover {\n",
              "      background-color: #E2EBFA;\n",
              "      box-shadow: 0px 1px 2px rgba(60, 64, 67, 0.3), 0px 1px 3px 1px rgba(60, 64, 67, 0.15);\n",
              "      fill: #174EA6;\n",
              "    }\n",
              "\n",
              "    .colab-df-buttons div {\n",
              "      margin-bottom: 4px;\n",
              "    }\n",
              "\n",
              "    [theme=dark] .colab-df-convert {\n",
              "      background-color: #3B4455;\n",
              "      fill: #D2E3FC;\n",
              "    }\n",
              "\n",
              "    [theme=dark] .colab-df-convert:hover {\n",
              "      background-color: #434B5C;\n",
              "      box-shadow: 0px 1px 3px 1px rgba(0, 0, 0, 0.15);\n",
              "      filter: drop-shadow(0px 1px 2px rgba(0, 0, 0, 0.3));\n",
              "      fill: #FFFFFF;\n",
              "    }\n",
              "  </style>\n",
              "\n",
              "    <script>\n",
              "      const buttonEl =\n",
              "        document.querySelector('#df-77eadf19-60d6-40ba-adf5-a650912c7007 button.colab-df-convert');\n",
              "      buttonEl.style.display =\n",
              "        google.colab.kernel.accessAllowed ? 'block' : 'none';\n",
              "\n",
              "      async function convertToInteractive(key) {\n",
              "        const element = document.querySelector('#df-77eadf19-60d6-40ba-adf5-a650912c7007');\n",
              "        const dataTable =\n",
              "          await google.colab.kernel.invokeFunction('convertToInteractive',\n",
              "                                                    [key], {});\n",
              "        if (!dataTable) return;\n",
              "\n",
              "        const docLinkHtml = 'Like what you see? Visit the ' +\n",
              "          '<a target=\"_blank\" href=https://colab.research.google.com/notebooks/data_table.ipynb>data table notebook</a>'\n",
              "          + ' to learn more about interactive tables.';\n",
              "        element.innerHTML = '';\n",
              "        dataTable['output_type'] = 'display_data';\n",
              "        await google.colab.output.renderOutput(dataTable, element);\n",
              "        const docLink = document.createElement('div');\n",
              "        docLink.innerHTML = docLinkHtml;\n",
              "        element.appendChild(docLink);\n",
              "      }\n",
              "    </script>\n",
              "  </div>\n",
              "\n",
              "\n",
              "<div id=\"df-bbc24978-28ae-48e3-87bf-74df259674cc\">\n",
              "  <button class=\"colab-df-quickchart\" onclick=\"quickchart('df-bbc24978-28ae-48e3-87bf-74df259674cc')\"\n",
              "            title=\"Suggest charts\"\n",
              "            style=\"display:none;\">\n",
              "\n",
              "<svg xmlns=\"http://www.w3.org/2000/svg\" height=\"24px\"viewBox=\"0 0 24 24\"\n",
              "     width=\"24px\">\n",
              "    <g>\n",
              "        <path d=\"M19 3H5c-1.1 0-2 .9-2 2v14c0 1.1.9 2 2 2h14c1.1 0 2-.9 2-2V5c0-1.1-.9-2-2-2zM9 17H7v-7h2v7zm4 0h-2V7h2v10zm4 0h-2v-4h2v4z\"/>\n",
              "    </g>\n",
              "</svg>\n",
              "  </button>\n",
              "\n",
              "<style>\n",
              "  .colab-df-quickchart {\n",
              "      --bg-color: #E8F0FE;\n",
              "      --fill-color: #1967D2;\n",
              "      --hover-bg-color: #E2EBFA;\n",
              "      --hover-fill-color: #174EA6;\n",
              "      --disabled-fill-color: #AAA;\n",
              "      --disabled-bg-color: #DDD;\n",
              "  }\n",
              "\n",
              "  [theme=dark] .colab-df-quickchart {\n",
              "      --bg-color: #3B4455;\n",
              "      --fill-color: #D2E3FC;\n",
              "      --hover-bg-color: #434B5C;\n",
              "      --hover-fill-color: #FFFFFF;\n",
              "      --disabled-bg-color: #3B4455;\n",
              "      --disabled-fill-color: #666;\n",
              "  }\n",
              "\n",
              "  .colab-df-quickchart {\n",
              "    background-color: var(--bg-color);\n",
              "    border: none;\n",
              "    border-radius: 50%;\n",
              "    cursor: pointer;\n",
              "    display: none;\n",
              "    fill: var(--fill-color);\n",
              "    height: 32px;\n",
              "    padding: 0;\n",
              "    width: 32px;\n",
              "  }\n",
              "\n",
              "  .colab-df-quickchart:hover {\n",
              "    background-color: var(--hover-bg-color);\n",
              "    box-shadow: 0 1px 2px rgba(60, 64, 67, 0.3), 0 1px 3px 1px rgba(60, 64, 67, 0.15);\n",
              "    fill: var(--button-hover-fill-color);\n",
              "  }\n",
              "\n",
              "  .colab-df-quickchart-complete:disabled,\n",
              "  .colab-df-quickchart-complete:disabled:hover {\n",
              "    background-color: var(--disabled-bg-color);\n",
              "    fill: var(--disabled-fill-color);\n",
              "    box-shadow: none;\n",
              "  }\n",
              "\n",
              "  .colab-df-spinner {\n",
              "    border: 2px solid var(--fill-color);\n",
              "    border-color: transparent;\n",
              "    border-bottom-color: var(--fill-color);\n",
              "    animation:\n",
              "      spin 1s steps(1) infinite;\n",
              "  }\n",
              "\n",
              "  @keyframes spin {\n",
              "    0% {\n",
              "      border-color: transparent;\n",
              "      border-bottom-color: var(--fill-color);\n",
              "      border-left-color: var(--fill-color);\n",
              "    }\n",
              "    20% {\n",
              "      border-color: transparent;\n",
              "      border-left-color: var(--fill-color);\n",
              "      border-top-color: var(--fill-color);\n",
              "    }\n",
              "    30% {\n",
              "      border-color: transparent;\n",
              "      border-left-color: var(--fill-color);\n",
              "      border-top-color: var(--fill-color);\n",
              "      border-right-color: var(--fill-color);\n",
              "    }\n",
              "    40% {\n",
              "      border-color: transparent;\n",
              "      border-right-color: var(--fill-color);\n",
              "      border-top-color: var(--fill-color);\n",
              "    }\n",
              "    60% {\n",
              "      border-color: transparent;\n",
              "      border-right-color: var(--fill-color);\n",
              "    }\n",
              "    80% {\n",
              "      border-color: transparent;\n",
              "      border-right-color: var(--fill-color);\n",
              "      border-bottom-color: var(--fill-color);\n",
              "    }\n",
              "    90% {\n",
              "      border-color: transparent;\n",
              "      border-bottom-color: var(--fill-color);\n",
              "    }\n",
              "  }\n",
              "</style>\n",
              "\n",
              "  <script>\n",
              "    async function quickchart(key) {\n",
              "      const quickchartButtonEl =\n",
              "        document.querySelector('#' + key + ' button');\n",
              "      quickchartButtonEl.disabled = true;  // To prevent multiple clicks.\n",
              "      quickchartButtonEl.classList.add('colab-df-spinner');\n",
              "      try {\n",
              "        const charts = await google.colab.kernel.invokeFunction(\n",
              "            'suggestCharts', [key], {});\n",
              "      } catch (error) {\n",
              "        console.error('Error during call to suggestCharts:', error);\n",
              "      }\n",
              "      quickchartButtonEl.classList.remove('colab-df-spinner');\n",
              "      quickchartButtonEl.classList.add('colab-df-quickchart-complete');\n",
              "    }\n",
              "    (() => {\n",
              "      let quickchartButtonEl =\n",
              "        document.querySelector('#df-bbc24978-28ae-48e3-87bf-74df259674cc button');\n",
              "      quickchartButtonEl.style.display =\n",
              "        google.colab.kernel.accessAllowed ? 'block' : 'none';\n",
              "    })();\n",
              "  </script>\n",
              "</div>\n",
              "\n",
              "    </div>\n",
              "  </div>\n"
            ],
            "application/vnd.google.colaboratory.intrinsic+json": {
              "type": "dataframe",
              "variable_name": "df",
              "summary": "{\n  \"name\": \"df\",\n  \"rows\": 1599,\n  \"fields\": [\n    {\n      \"column\": \"fixed acidity\",\n      \"properties\": {\n        \"dtype\": \"number\",\n        \"std\": 1.7410963181276953,\n        \"min\": 4.6,\n        \"max\": 15.9,\n        \"num_unique_values\": 96,\n        \"samples\": [\n          5.3,\n          12.7,\n          12.6\n        ],\n        \"semantic_type\": \"\",\n        \"description\": \"\"\n      }\n    },\n    {\n      \"column\": \"volatile acidity\",\n      \"properties\": {\n        \"dtype\": \"number\",\n        \"std\": 0.17905970415353537,\n        \"min\": 0.12,\n        \"max\": 1.58,\n        \"num_unique_values\": 143,\n        \"samples\": [\n          1.025,\n          0.4,\n          0.87\n        ],\n        \"semantic_type\": \"\",\n        \"description\": \"\"\n      }\n    },\n    {\n      \"column\": \"citric acid\",\n      \"properties\": {\n        \"dtype\": \"number\",\n        \"std\": 0.19480113740531857,\n        \"min\": 0.0,\n        \"max\": 1.0,\n        \"num_unique_values\": 80,\n        \"samples\": [\n          0.37,\n          0.0,\n          0.09\n        ],\n        \"semantic_type\": \"\",\n        \"description\": \"\"\n      }\n    },\n    {\n      \"column\": \"residual sugar\",\n      \"properties\": {\n        \"dtype\": \"number\",\n        \"std\": 1.4099280595072798,\n        \"min\": 0.9,\n        \"max\": 15.5,\n        \"num_unique_values\": 91,\n        \"samples\": [\n          11.0,\n          3.0,\n          15.5\n        ],\n        \"semantic_type\": \"\",\n        \"description\": \"\"\n      }\n    },\n    {\n      \"column\": \"chlorides\",\n      \"properties\": {\n        \"dtype\": \"number\",\n        \"std\": 0.0470653020100901,\n        \"min\": 0.012,\n        \"max\": 0.611,\n        \"num_unique_values\": 153,\n        \"samples\": [\n          0.096,\n          0.3429999999999999,\n          0.159\n        ],\n        \"semantic_type\": \"\",\n        \"description\": \"\"\n      }\n    },\n    {\n      \"column\": \"free sulfur dioxide\",\n      \"properties\": {\n        \"dtype\": \"number\",\n        \"std\": 10.460156969809725,\n        \"min\": 1.0,\n        \"max\": 72.0,\n        \"num_unique_values\": 60,\n        \"samples\": [\n          11.0,\n          9.0,\n          32.0\n        ],\n        \"semantic_type\": \"\",\n        \"description\": \"\"\n      }\n    },\n    {\n      \"column\": \"total sulfur dioxide\",\n      \"properties\": {\n        \"dtype\": \"number\",\n        \"std\": 32.895324478299074,\n        \"min\": 6.0,\n        \"max\": 289.0,\n        \"num_unique_values\": 144,\n        \"samples\": [\n          68.0,\n          35.0,\n          101.0\n        ],\n        \"semantic_type\": \"\",\n        \"description\": \"\"\n      }\n    },\n    {\n      \"column\": \"density\",\n      \"properties\": {\n        \"dtype\": \"number\",\n        \"std\": 0.0018873339538425554,\n        \"min\": 0.99007,\n        \"max\": 1.00369,\n        \"num_unique_values\": 436,\n        \"samples\": [\n          0.99974,\n          1.0001,\n          0.99471\n        ],\n        \"semantic_type\": \"\",\n        \"description\": \"\"\n      }\n    },\n    {\n      \"column\": \"pH\",\n      \"properties\": {\n        \"dtype\": \"number\",\n        \"std\": 0.15438646490354277,\n        \"min\": 2.74,\n        \"max\": 4.01,\n        \"num_unique_values\": 89,\n        \"samples\": [\n          3.07,\n          3.0,\n          3.15\n        ],\n        \"semantic_type\": \"\",\n        \"description\": \"\"\n      }\n    },\n    {\n      \"column\": \"sulphates\",\n      \"properties\": {\n        \"dtype\": \"number\",\n        \"std\": 0.16950697959010996,\n        \"min\": 0.33,\n        \"max\": 2.0,\n        \"num_unique_values\": 96,\n        \"samples\": [\n          1.07,\n          1.04,\n          1.18\n        ],\n        \"semantic_type\": \"\",\n        \"description\": \"\"\n      }\n    },\n    {\n      \"column\": \"alcohol\",\n      \"properties\": {\n        \"dtype\": \"number\",\n        \"std\": 1.0656675818473946,\n        \"min\": 8.4,\n        \"max\": 14.9,\n        \"num_unique_values\": 65,\n        \"samples\": [\n          8.5,\n          9.95,\n          9.4\n        ],\n        \"semantic_type\": \"\",\n        \"description\": \"\"\n      }\n    },\n    {\n      \"column\": \"quality\",\n      \"properties\": {\n        \"dtype\": \"number\",\n        \"std\": 0,\n        \"min\": 3,\n        \"max\": 8,\n        \"num_unique_values\": 6,\n        \"samples\": [\n          5,\n          6,\n          3\n        ],\n        \"semantic_type\": \"\",\n        \"description\": \"\"\n      }\n    }\n  ]\n}"
            }
          },
          "metadata": {},
          "execution_count": 174
        }
      ],
      "source": [
        "df = pd.read_csv('/content/winequality-red.csv')\n",
        "df.head()"
      ]
    },
    {
      "cell_type": "code",
      "execution_count": null,
      "metadata": {
        "colab": {
          "base_uri": "https://localhost:8080/"
        },
        "id": "gmG61J5dBH0t",
        "outputId": "4f03ff9b-4da2-4e2e-981b-4d9e0b5b5bae"
      },
      "outputs": [
        {
          "output_type": "execute_result",
          "data": {
            "text/plain": [
              "(1599, 12)"
            ]
          },
          "metadata": {},
          "execution_count": 175
        }
      ],
      "source": [
        "df.shape"
      ]
    },
    {
      "cell_type": "code",
      "execution_count": null,
      "metadata": {
        "colab": {
          "base_uri": "https://localhost:8080/",
          "height": 570
        },
        "id": "rNhJQJ6mBH0u",
        "outputId": "77a7c836-ef4b-4af8-da04-7157435ab289"
      },
      "outputs": [
        {
          "output_type": "execute_result",
          "data": {
            "text/plain": [
              "<Axes: >"
            ]
          },
          "metadata": {},
          "execution_count": 176
        },
        {
          "output_type": "display_data",
          "data": {
            "text/plain": [
              "<Figure size 640x480 with 2 Axes>"
            ],
            "image/png": "[encoded data removed]"
          },
          "metadata": {}
        }
      ],
      "source": [
        "sns.heatmap(df.isnull())"
      ]
    },
    {
      "cell_type": "code",
      "source": [
        "sns.heatmap(df.corr(), vmin = 0, vmax = 0.5)"
      ],
      "metadata": {
        "colab": {
          "base_uri": "https://localhost:8080/",
          "height": 569
        },
        "id": "pF34ywCuOAx5",
        "outputId": "be08d0df-534c-4e54-c3b4-4f439a4c2b56"
      },
      "execution_count": null,
      "outputs": [
        {
          "output_type": "execute_result",
          "data": {
            "text/plain": [
              "<Axes: >"
            ]
          },
          "metadata": {},
          "execution_count": 177
        },
        {
          "output_type": "display_data",
          "data": {
            "text/plain": [
              "<Figure size 640x480 with 2 Axes>"
            ],
            "image/png": "[encoded data removed]"
          },
          "metadata": {}
        }
      ]
    },
    {
      "cell_type": "code",
      "execution_count": null,
      "metadata": {
        "id": "Lpu1Hp0qBH0u"
      },
      "outputs": [],
      "source": [
        "df = df.drop_duplicates()"
      ]
    },
    {
      "cell_type": "code",
      "execution_count": null,
      "metadata": {
        "id": "jjyrHZtKBH0v"
      },
      "outputs": [],
      "source": [
        "# for column in df:\n",
        "#     plt.figure(figsize=(3, 3))\n",
        "#     sns.histplot(data=df, x=column, kde=True, bins=30, color='#DDA0DD')\n",
        "#     plt.title(f'Distribution of {column}')\n",
        "#     plt.show()"
      ]
    },
    {
      "cell_type": "markdown",
      "metadata": {
        "id": "Ti1-wkLbBH0w"
      },
      "source": [
        "Comparing each attribute with 'quality'"
      ]
    },
    {
      "cell_type": "code",
      "execution_count": null,
      "metadata": {
        "id": "BRYMdBebBH0x",
        "collapsed": true
      },
      "outputs": [],
      "source": [
        "# for column in df.columns[:-1]:\n",
        "#     plt.figure(figsize = (4,4))\n",
        "#     sns.scatterplot(data = df, x = column, y = 'quality', hue = 'quality', size = 'quality')\n",
        "#     plt.show()"
      ]
    },
    {
      "cell_type": "markdown",
      "metadata": {
        "id": "TC36sFF3BH0y"
      },
      "source": [
        "Do sweeter wines receive better ratings?"
      ]
    },
    {
      "cell_type": "code",
      "execution_count": null,
      "metadata": {
        "colab": {
          "base_uri": "https://localhost:8080/",
          "height": 466
        },
        "id": "1EDW9g8MBH0z",
        "outputId": "efb4a720-c996-4fa0-b8e6-b2d76ef105b5"
      },
      "outputs": [
        {
          "output_type": "execute_result",
          "data": {
            "text/plain": [
              "<Axes: xlabel='residual sugar', ylabel='quality'>"
            ]
          },
          "metadata": {},
          "execution_count": 181
        },
        {
          "output_type": "display_data",
          "data": {
            "text/plain": [
              "<Figure size 640x480 with 1 Axes>"
            ],
            "image/png": "[encoded data removed]"
          },
          "metadata": {}
        }
      ],
      "source": [
        "# df.plot(x = 'residual sugar', y = 'quality', kind='scatter', hue)\n",
        "sns.scatterplot(data=df, x = 'residual sugar', y = 'quality',hue='quality')"
      ]
    },
    {
      "cell_type": "code",
      "execution_count": null,
      "metadata": {
        "id": "-tZRjEpEBH0z",
        "colab": {
          "base_uri": "https://localhost:8080/",
          "height": 470
        },
        "outputId": "35775d57-ea41-4cee-de51-123ce27fed6d"
      },
      "outputs": [
        {
          "output_type": "stream",
          "name": "stdout",
          "text": [
            "Average quality of wines with low sugar 5.624489795918367\n",
            "Average quality of wines with high sugar 5.620052770448549\n"
          ]
        },
        {
          "output_type": "display_data",
          "data": {
            "text/plain": [
              "<Figure size 640x480 with 1 Axes>"
            ],
            "image/png": "[encoded data removed]"
          },
          "metadata": {}
        }
      ],
      "source": [
        "mean_sugar = df['residual sugar'].mean()\n",
        "meanofhighsugar = df[df['residual sugar'] > mean_sugar].quality.mean()\n",
        "meanoflowsugar = df[df['residual sugar'] < mean_sugar].quality.mean()\n",
        "\n",
        "print(\"Average quality of wines with low sugar\", meanoflowsugar)\n",
        "print(\"Average quality of wines with high sugar\", meanofhighsugar)\n",
        "\n",
        "plt.bar(x = ['High Sugar', 'Low Sugar'], height = [meanofhighsugar, meanoflowsugar])\n",
        "plt.ylim((5.5,5.7))\n",
        "plt.show()"
      ]
    },
    {
      "cell_type": "markdown",
      "metadata": {
        "id": "hTYtaKiZBH00"
      },
      "source": [
        "There is a close competition between sweet and less sweet wines"
      ]
    },
    {
      "cell_type": "markdown",
      "metadata": {
        "id": "gsZIx-ExBH00"
      },
      "source": [
        "What level of acidity receives the highest average rating?\n"
      ]
    },
    {
      "cell_type": "code",
      "execution_count": null,
      "metadata": {
        "colab": {
          "base_uri": "https://localhost:8080/",
          "height": 470
        },
        "id": "fm7YTFMMBH00",
        "outputId": "c10d7e2d-dac5-4041-9fa7-db92ab6807ac"
      },
      "outputs": [
        {
          "output_type": "stream",
          "name": "stdout",
          "text": [
            "Average quality of wines with low acidity 5.541463414634146\n",
            "Average quality of wines with high acidity 5.747680890538033\n"
          ]
        },
        {
          "output_type": "display_data",
          "data": {
            "text/plain": [
              "<Figure size 640x480 with 1 Axes>"
            ],
            "image/png": "[encoded data removed]"
          },
          "metadata": {}
        }
      ],
      "source": [
        "mean_acidity = df['fixed acidity'].mean()\n",
        "meanofhighalc = df[df['fixed acidity'] > mean_acidity].quality.mean()\n",
        "meanoflowalc = df[df['fixed acidity'] < mean_acidity].quality.mean()\n",
        "\n",
        "print(\"Average quality of wines with low acidity\", meanoflowalc)\n",
        "print(\"Average quality of wines with high acidity\", meanofhighalc)\n",
        "\n",
        "plt.bar(x = ['High Acidity', 'Low Acidity'], height = [meanofhighalc, meanoflowalc])\n",
        "plt.ylim((5, 6))\n",
        "plt.show()"
      ]
    },
    {
      "cell_type": "markdown",
      "metadata": {
        "id": "XUBzJT1OBH01"
      },
      "source": [
        "Wines with a slight more acidity tend to have better rating"
      ]
    },
    {
      "cell_type": "markdown",
      "metadata": {
        "id": "emat6LG7BH01"
      },
      "source": [
        "Which wines are produced more? (according to quality)"
      ]
    },
    {
      "cell_type": "code",
      "execution_count": null,
      "metadata": {
        "colab": {
          "base_uri": "https://localhost:8080/",
          "height": 463
        },
        "id": "Y-v7X4HuBH01",
        "outputId": "88778135-7ed1-48e8-9db6-4de4ccec36d9"
      },
      "outputs": [
        {
          "output_type": "execute_result",
          "data": {
            "text/plain": [
              "<Axes: xlabel='Quality', ylabel='quantity'>"
            ]
          },
          "metadata": {},
          "execution_count": 184
        },
        {
          "output_type": "display_data",
          "data": {
            "text/plain": [
              "<Figure size 640x480 with 1 Axes>"
            ],
            "image/png": "[encoded data removed]"
          },
          "metadata": {}
        }
      ],
      "source": [
        "df['quality'].value_counts().sort_index().plot(kind='bar', xlabel='Quality', ylabel='quantity')"
      ]
    },
    {
      "cell_type": "code",
      "source": [
        "print(df.quality.mean())"
      ],
      "metadata": {
        "colab": {
          "base_uri": "https://localhost:8080/"
        },
        "id": "6OxFixCLMz0M",
        "outputId": "bbe2e6cb-37c3-4aa7-a05e-bca059025826"
      },
      "execution_count": null,
      "outputs": [
        {
          "output_type": "stream",
          "name": "stdout",
          "text": [
            "5.6232523914643116\n"
          ]
        }
      ]
    },
    {
      "cell_type": "markdown",
      "source": [
        "Converting data to binary classification\n"
      ],
      "metadata": {
        "id": "Ah6SzHi-OAhw"
      }
    },
    {
      "cell_type": "code",
      "source": [
        "df[\"quality\"] = np.where(df[\"quality\"] > 6, 1, 0)"
      ],
      "metadata": {
        "id": "FjL876CyULLT"
      },
      "execution_count": null,
      "outputs": []
    },
    {
      "cell_type": "code",
      "source": [
        "df.quality.value_counts()"
      ],
      "metadata": {
        "colab": {
          "base_uri": "https://localhost:8080/"
        },
        "id": "GCl1cXfXW8wI",
        "outputId": "29c3a279-9583-4342-d828-48df133d6e6f"
      },
      "execution_count": null,
      "outputs": [
        {
          "output_type": "execute_result",
          "data": {
            "text/plain": [
              "quality\n",
              "0    1175\n",
              "1     184\n",
              "Name: count, dtype: int64"
            ]
          },
          "metadata": {},
          "execution_count": 187
        }
      ]
    },
    {
      "cell_type": "markdown",
      "metadata": {
        "id": "3ZHJP5aFBH02"
      },
      "source": [
        "# Model Creation and Training"
      ]
    },
    {
      "cell_type": "code",
      "source": [
        "models = ['Logistic Regression', 'KNN Classifier', 'Decision Tree', 'Random forest', 'ANN']"
      ],
      "metadata": {
        "id": "XC7t7a2u6c97"
      },
      "execution_count": null,
      "outputs": []
    },
    {
      "cell_type": "code",
      "source": [
        "scores = []"
      ],
      "metadata": {
        "id": "mlRH3JvybcKU"
      },
      "execution_count": null,
      "outputs": []
    },
    {
      "cell_type": "code",
      "source": [
        "df.head()"
      ],
      "metadata": {
        "colab": {
          "base_uri": "https://localhost:8080/",
          "height": 223
        },
        "id": "0DLE1K1OUvhP",
        "outputId": "82d93b7f-59a9-4d72-e042-711069041ce8"
      },
      "execution_count": null,
      "outputs": [
        {
          "output_type": "execute_result",
          "data": {
            "text/plain": [
              "   fixed acidity  volatile acidity  citric acid  residual sugar  chlorides  \\\n",
              "0            7.4              0.70         0.00             1.9      0.076   \n",
              "1            7.8              0.88         0.00             2.6      0.098   \n",
              "2            7.8              0.76         0.04             2.3      0.092   \n",
              "3           11.2              0.28         0.56             1.9      0.075   \n",
              "5            7.4              0.66         0.00             1.8      0.075   \n",
              "\n",
              "   free sulfur dioxide  total sulfur dioxide  density    pH  sulphates  \\\n",
              "0                 11.0                  34.0   0.9978  3.51       0.56   \n",
              "1                 25.0                  67.0   0.9968  3.20       0.68   \n",
              "2                 15.0                  54.0   0.9970  3.26       0.65   \n",
              "3                 17.0                  60.0   0.9980  3.16       0.58   \n",
              "5                 13.0                  40.0   0.9978  3.51       0.56   \n",
              "\n",
              "   alcohol  quality  \n",
              "0      9.4        0  \n",
              "1      9.8        0  \n",
              "2      9.8        0  \n",
              "3      9.8        0  \n",
              "5      9.4        0  "
            ],
            "text/html": [
              "\n",
              "  <div id=\"df-0cebe536-8022-4f7d-85c5-beed209fa2f5\" class=\"colab-df-container\">\n",
              "    <div>\n",
              "<style scoped>\n",
              "    .dataframe tbody tr th:only-of-type {\n",
              "        vertical-align: middle;\n",
              "    }\n",
              "\n",
              "    .dataframe tbody tr th {\n",
              "        vertical-align: top;\n",
              "    }\n",
              "\n",
              "    .dataframe thead th {\n",
              "        text-align: right;\n",
              "    }\n",
              "</style>\n",
              "<table border=\"1\" class=\"dataframe\">\n",
              "  <thead>\n",
              "    <tr style=\"text-align: right;\">\n",
              "      <th></th>\n",
              "      <th>fixed acidity</th>\n",
              "      <th>volatile acidity</th>\n",
              "      <th>citric acid</th>\n",
              "      <th>residual sugar</th>\n",
              "      <th>chlorides</th>\n",
              "      <th>free sulfur dioxide</th>\n",
              "      <th>total sulfur dioxide</th>\n",
              "      <th>density</th>\n",
              "      <th>pH</th>\n",
              "      <th>sulphates</th>\n",
              "      <th>alcohol</th>\n",
              "      <th>quality</th>\n",
              "    </tr>\n",
              "  </thead>\n",
              "  <tbody>\n",
              "    <tr>\n",
              "      <th>0</th>\n",
              "      <td>7.4</td>\n",
              "      <td>0.70</td>\n",
              "      <td>0.00</td>\n",
              "      <td>1.9</td>\n",
              "      <td>0.076</td>\n",
              "      <td>11.0</td>\n",
              "      <td>34.0</td>\n",
              "      <td>0.9978</td>\n",
              "      <td>3.51</td>\n",
              "      <td>0.56</td>\n",
              "      <td>9.4</td>\n",
              "      <td>0</td>\n",
              "    </tr>\n",
              "    <tr>\n",
              "      <th>1</th>\n",
              "      <td>7.8</td>\n",
              "      <td>0.88</td>\n",
              "      <td>0.00</td>\n",
              "      <td>2.6</td>\n",
              "      <td>0.098</td>\n",
              "      <td>25.0</td>\n",
              "      <td>67.0</td>\n",
              "      <td>0.9968</td>\n",
              "      <td>3.20</td>\n",
              "      <td>0.68</td>\n",
              "      <td>9.8</td>\n",
              "      <td>0</td>\n",
              "    </tr>\n",
              "    <tr>\n",
              "      <th>2</th>\n",
              "      <td>7.8</td>\n",
              "      <td>0.76</td>\n",
              "      <td>0.04</td>\n",
              "      <td>2.3</td>\n",
              "      <td>0.092</td>\n",
              "      <td>15.0</td>\n",
              "      <td>54.0</td>\n",
              "      <td>0.9970</td>\n",
              "      <td>3.26</td>\n",
              "      <td>0.65</td>\n",
              "      <td>9.8</td>\n",
              "      <td>0</td>\n",
              "    </tr>\n",
              "    <tr>\n",
              "      <th>3</th>\n",
              "      <td>11.2</td>\n",
              "      <td>0.28</td>\n",
              "      <td>0.56</td>\n",
              "      <td>1.9</td>\n",
              "      <td>0.075</td>\n",
              "      <td>17.0</td>\n",
              "      <td>60.0</td>\n",
              "      <td>0.9980</td>\n",
              "      <td>3.16</td>\n",
              "      <td>0.58</td>\n",
              "      <td>9.8</td>\n",
              "      <td>0</td>\n",
              "    </tr>\n",
              "    <tr>\n",
              "      <th>5</th>\n",
              "      <td>7.4</td>\n",
              "      <td>0.66</td>\n",
              "      <td>0.00</td>\n",
              "      <td>1.8</td>\n",
              "      <td>0.075</td>\n",
              "      <td>13.0</td>\n",
              "      <td>40.0</td>\n",
              "      <td>0.9978</td>\n",
              "      <td>3.51</td>\n",
              "      <td>0.56</td>\n",
              "      <td>9.4</td>\n",
              "      <td>0</td>\n",
              "    </tr>\n",
              "  </tbody>\n",
              "</table>\n",
              "</div>\n",
              "    <div class=\"colab-df-buttons\">\n",
              "\n",
              "  <div class=\"colab-df-container\">\n",
              "    <button class=\"colab-df-convert\" onclick=\"convertToInteractive('df-0cebe536-8022-4f7d-85c5-beed209fa2f5')\"\n",
              "            title=\"Convert this dataframe to an interactive table.\"\n",
              "            style=\"display:none;\">\n",
              "\n",
              "  <svg xmlns=\"http://www.w3.org/2000/svg\" height=\"24px\" viewBox=\"0 -960 960 960\">\n",
              "    <path d=\"M120-120v-720h720v720H120Zm60-500h600v-160H180v160Zm220 220h160v-160H400v160Zm0 220h160v-160H400v160ZM180-400h160v-160H180v160Zm440 0h160v-160H620v160ZM180-180h160v-160H180v160Zm440 0h160v-160H620v160Z\"/>\n",
              "  </svg>\n",
              "    </button>\n",
              "\n",
              "  <style>\n",
              "    .colab-df-container {\n",
              "      display:flex;\n",
              "      gap: 12px;\n",
              "    }\n",
              "\n",
              "    .colab-df-convert {\n",
              "      background-color: #E8F0FE;\n",
              "      border: none;\n",
              "      border-radius: 50%;\n",
              "      cursor: pointer;\n",
              "      display: none;\n",
              "      fill: #1967D2;\n",
              "      height: 32px;\n",
              "      padding: 0 0 0 0;\n",
              "      width: 32px;\n",
              "    }\n",
              "\n",
              "    .colab-df-convert:hover {\n",
              "      background-color: #E2EBFA;\n",
              "      box-shadow: 0px 1px 2px rgba(60, 64, 67, 0.3), 0px 1px 3px 1px rgba(60, 64, 67, 0.15);\n",
              "      fill: #174EA6;\n",
              "    }\n",
              "\n",
              "    .colab-df-buttons div {\n",
              "      margin-bottom: 4px;\n",
              "    }\n",
              "\n",
              "    [theme=dark] .colab-df-convert {\n",
              "      background-color: #3B4455;\n",
              "      fill: #D2E3FC;\n",
              "    }\n",
              "\n",
              "    [theme=dark] .colab-df-convert:hover {\n",
              "      background-color: #434B5C;\n",
              "      box-shadow: 0px 1px 3px 1px rgba(0, 0, 0, 0.15);\n",
              "      filter: drop-shadow(0px 1px 2px rgba(0, 0, 0, 0.3));\n",
              "      fill: #FFFFFF;\n",
              "    }\n",
              "  </style>\n",
              "\n",
              "    <script>\n",
              "      const buttonEl =\n",
              "        document.querySelector('#df-0cebe536-8022-4f7d-85c5-beed209fa2f5 button.colab-df-convert');\n",
              "      buttonEl.style.display =\n",
              "        google.colab.kernel.accessAllowed ? 'block' : 'none';\n",
              "\n",
              "      async function convertToInteractive(key) {\n",
              "        const element = document.querySelector('#df-0cebe536-8022-4f7d-85c5-beed209fa2f5');\n",
              "        const dataTable =\n",
              "          await google.colab.kernel.invokeFunction('convertToInteractive',\n",
              "                                                    [key], {});\n",
              "        if (!dataTable) return;\n",
              "\n",
              "        const docLinkHtml = 'Like what you see? Visit the ' +\n",
              "          '<a target=\"_blank\" href=https://colab.research.google.com/notebooks/data_table.ipynb>data table notebook</a>'\n",
              "          + ' to learn more about interactive tables.';\n",
              "        element.innerHTML = '';\n",
              "        dataTable['output_type'] = 'display_data';\n",
              "        await google.colab.output.renderOutput(dataTable, element);\n",
              "        const docLink = document.createElement('div');\n",
              "        docLink.innerHTML = docLinkHtml;\n",
              "        element.appendChild(docLink);\n",
              "      }\n",
              "    </script>\n",
              "  </div>\n",
              "\n",
              "\n",
              "<div id=\"df-f503f9f8-b5b3-4f95-8501-c669f6d85e45\">\n",
              "  <button class=\"colab-df-quickchart\" onclick=\"quickchart('df-f503f9f8-b5b3-4f95-8501-c669f6d85e45')\"\n",
              "            title=\"Suggest charts\"\n",
              "            style=\"display:none;\">\n",
              "\n",
              "<svg xmlns=\"http://www.w3.org/2000/svg\" height=\"24px\"viewBox=\"0 0 24 24\"\n",
              "     width=\"24px\">\n",
              "    <g>\n",
              "        <path d=\"M19 3H5c-1.1 0-2 .9-2 2v14c0 1.1.9 2 2 2h14c1.1 0 2-.9 2-2V5c0-1.1-.9-2-2-2zM9 17H7v-7h2v7zm4 0h-2V7h2v10zm4 0h-2v-4h2v4z\"/>\n",
              "    </g>\n",
              "</svg>\n",
              "  </button>\n",
              "\n",
              "<style>\n",
              "  .colab-df-quickchart {\n",
              "      --bg-color: #E8F0FE;\n",
              "      --fill-color: #1967D2;\n",
              "      --hover-bg-color: #E2EBFA;\n",
              "      --hover-fill-color: #174EA6;\n",
              "      --disabled-fill-color: #AAA;\n",
              "      --disabled-bg-color: #DDD;\n",
              "  }\n",
              "\n",
              "  [theme=dark] .colab-df-quickchart {\n",
              "      --bg-color: #3B4455;\n",
              "      --fill-color: #D2E3FC;\n",
              "      --hover-bg-color: #434B5C;\n",
              "      --hover-fill-color: #FFFFFF;\n",
              "      --disabled-bg-color: #3B4455;\n",
              "      --disabled-fill-color: #666;\n",
              "  }\n",
              "\n",
              "  .colab-df-quickchart {\n",
              "    background-color: var(--bg-color);\n",
              "    border: none;\n",
              "    border-radius: 50%;\n",
              "    cursor: pointer;\n",
              "    display: none;\n",
              "    fill: var(--fill-color);\n",
              "    height: 32px;\n",
              "    padding: 0;\n",
              "    width: 32px;\n",
              "  }\n",
              "\n",
              "  .colab-df-quickchart:hover {\n",
              "    background-color: var(--hover-bg-color);\n",
              "    box-shadow: 0 1px 2px rgba(60, 64, 67, 0.3), 0 1px 3px 1px rgba(60, 64, 67, 0.15);\n",
              "    fill: var(--button-hover-fill-color);\n",
              "  }\n",
              "\n",
              "  .colab-df-quickchart-complete:disabled,\n",
              "  .colab-df-quickchart-complete:disabled:hover {\n",
              "    background-color: var(--disabled-bg-color);\n",
              "    fill: var(--disabled-fill-color);\n",
              "    box-shadow: none;\n",
              "  }\n",
              "\n",
              "  .colab-df-spinner {\n",
              "    border: 2px solid var(--fill-color);\n",
              "    border-color: transparent;\n",
              "    border-bottom-color: var(--fill-color);\n",
              "    animation:\n",
              "      spin 1s steps(1) infinite;\n",
              "  }\n",
              "\n",
              "  @keyframes spin {\n",
              "    0% {\n",
              "      border-color: transparent;\n",
              "      border-bottom-color: var(--fill-color);\n",
              "      border-left-color: var(--fill-color);\n",
              "    }\n",
              "    20% {\n",
              "      border-color: transparent;\n",
              "      border-left-color: var(--fill-color);\n",
              "      border-top-color: var(--fill-color);\n",
              "    }\n",
              "    30% {\n",
              "      border-color: transparent;\n",
              "      border-left-color: var(--fill-color);\n",
              "      border-top-color: var(--fill-color);\n",
              "      border-right-color: var(--fill-color);\n",
              "    }\n",
              "    40% {\n",
              "      border-color: transparent;\n",
              "      border-right-color: var(--fill-color);\n",
              "      border-top-color: var(--fill-color);\n",
              "    }\n",
              "    60% {\n",
              "      border-color: transparent;\n",
              "      border-right-color: var(--fill-color);\n",
              "    }\n",
              "    80% {\n",
              "      border-color: transparent;\n",
              "      border-right-color: var(--fill-color);\n",
              "      border-bottom-color: var(--fill-color);\n",
              "    }\n",
              "    90% {\n",
              "      border-color: transparent;\n",
              "      border-bottom-color: var(--fill-color);\n",
              "    }\n",
              "  }\n",
              "</style>\n",
              "\n",
              "  <script>\n",
              "    async function quickchart(key) {\n",
              "      const quickchartButtonEl =\n",
              "        document.querySelector('#' + key + ' button');\n",
              "      quickchartButtonEl.disabled = true;  // To prevent multiple clicks.\n",
              "      quickchartButtonEl.classList.add('colab-df-spinner');\n",
              "      try {\n",
              "        const charts = await google.colab.kernel.invokeFunction(\n",
              "            'suggestCharts', [key], {});\n",
              "      } catch (error) {\n",
              "        console.error('Error during call to suggestCharts:', error);\n",
              "      }\n",
              "      quickchartButtonEl.classList.remove('colab-df-spinner');\n",
              "      quickchartButtonEl.classList.add('colab-df-quickchart-complete');\n",
              "    }\n",
              "    (() => {\n",
              "      let quickchartButtonEl =\n",
              "        document.querySelector('#df-f503f9f8-b5b3-4f95-8501-c669f6d85e45 button');\n",
              "      quickchartButtonEl.style.display =\n",
              "        google.colab.kernel.accessAllowed ? 'block' : 'none';\n",
              "    })();\n",
              "  </script>\n",
              "</div>\n",
              "\n",
              "    </div>\n",
              "  </div>\n"
            ],
            "application/vnd.google.colaboratory.intrinsic+json": {
              "type": "dataframe",
              "variable_name": "df",
              "summary": "{\n  \"name\": \"df\",\n  \"rows\": 1359,\n  \"fields\": [\n    {\n      \"column\": \"fixed acidity\",\n      \"properties\": {\n        \"dtype\": \"number\",\n        \"std\": 1.7369898075324683,\n        \"min\": 4.6,\n        \"max\": 15.9,\n        \"num_unique_values\": 96,\n        \"samples\": [\n          5.3,\n          12.7,\n          12.6\n        ],\n        \"semantic_type\": \"\",\n        \"description\": \"\"\n      }\n    },\n    {\n      \"column\": \"volatile acidity\",\n      \"properties\": {\n        \"dtype\": \"number\",\n        \"std\": 0.1830313176190719,\n        \"min\": 0.12,\n        \"max\": 1.58,\n        \"num_unique_values\": 143,\n        \"samples\": [\n          1.025,\n          0.4,\n          0.87\n        ],\n        \"semantic_type\": \"\",\n        \"description\": \"\"\n      }\n    },\n    {\n      \"column\": \"citric acid\",\n      \"properties\": {\n        \"dtype\": \"number\",\n        \"std\": 0.1955365445504638,\n        \"min\": 0.0,\n        \"max\": 1.0,\n        \"num_unique_values\": 80,\n        \"samples\": [\n          0.37,\n          0.0,\n          0.09\n        ],\n        \"semantic_type\": \"\",\n        \"description\": \"\"\n      }\n    },\n    {\n      \"column\": \"residual sugar\",\n      \"properties\": {\n        \"dtype\": \"number\",\n        \"std\": 1.3523137577104225,\n        \"min\": 0.9,\n        \"max\": 15.5,\n        \"num_unique_values\": 91,\n        \"samples\": [\n          11.0,\n          3.0,\n          15.5\n        ],\n        \"semantic_type\": \"\",\n        \"description\": \"\"\n      }\n    },\n    {\n      \"column\": \"chlorides\",\n      \"properties\": {\n        \"dtype\": \"number\",\n        \"std\": 0.04937686244348607,\n        \"min\": 0.012,\n        \"max\": 0.611,\n        \"num_unique_values\": 153,\n        \"samples\": [\n          0.096,\n          0.3429999999999999,\n          0.159\n        ],\n        \"semantic_type\": \"\",\n        \"description\": \"\"\n      }\n    },\n    {\n      \"column\": \"free sulfur dioxide\",\n      \"properties\": {\n        \"dtype\": \"number\",\n        \"std\": 10.447270259048693,\n        \"min\": 1.0,\n        \"max\": 72.0,\n        \"num_unique_values\": 60,\n        \"samples\": [\n          11.0,\n          9.0,\n          32.0\n        ],\n        \"semantic_type\": \"\",\n        \"description\": \"\"\n      }\n    },\n    {\n      \"column\": \"total sulfur dioxide\",\n      \"properties\": {\n        \"dtype\": \"number\",\n        \"std\": 33.40894570661652,\n        \"min\": 6.0,\n        \"max\": 289.0,\n        \"num_unique_values\": 144,\n        \"samples\": [\n          68.0,\n          35.0,\n          101.0\n        ],\n        \"semantic_type\": \"\",\n        \"description\": \"\"\n      }\n    },\n    {\n      \"column\": \"density\",\n      \"properties\": {\n        \"dtype\": \"number\",\n        \"std\": 0.0018689171325591413,\n        \"min\": 0.99007,\n        \"max\": 1.00369,\n        \"num_unique_values\": 436,\n        \"samples\": [\n          0.99974,\n          1.0001,\n          0.99471\n        ],\n        \"semantic_type\": \"\",\n        \"description\": \"\"\n      }\n    },\n    {\n      \"column\": \"pH\",\n      \"properties\": {\n        \"dtype\": \"number\",\n        \"std\": 0.15503631128729617,\n        \"min\": 2.74,\n        \"max\": 4.01,\n        \"num_unique_values\": 89,\n        \"samples\": [\n          3.07,\n          3.0,\n          3.15\n        ],\n        \"semantic_type\": \"\",\n        \"description\": \"\"\n      }\n    },\n    {\n      \"column\": \"sulphates\",\n      \"properties\": {\n        \"dtype\": \"number\",\n        \"std\": 0.17066689057420686,\n        \"min\": 0.33,\n        \"max\": 2.0,\n        \"num_unique_values\": 96,\n        \"samples\": [\n          1.07,\n          1.04,\n          1.18\n        ],\n        \"semantic_type\": \"\",\n        \"description\": \"\"\n      }\n    },\n    {\n      \"column\": \"alcohol\",\n      \"properties\": {\n        \"dtype\": \"number\",\n        \"std\": 1.0820654499402542,\n        \"min\": 8.4,\n        \"max\": 14.9,\n        \"num_unique_values\": 65,\n        \"samples\": [\n          8.5,\n          9.95,\n          9.4\n        ],\n        \"semantic_type\": \"\",\n        \"description\": \"\"\n      }\n    },\n    {\n      \"column\": \"quality\",\n      \"properties\": {\n        \"dtype\": \"number\",\n        \"std\": 0,\n        \"min\": 0,\n        \"max\": 1,\n        \"num_unique_values\": 2,\n        \"samples\": [\n          1,\n          0\n        ],\n        \"semantic_type\": \"\",\n        \"description\": \"\"\n      }\n    }\n  ]\n}"
            }
          },
          "metadata": {},
          "execution_count": 237
        }
      ]
    },
    {
      "cell_type": "markdown",
      "source": [
        "Splitting data"
      ],
      "metadata": {
        "id": "XeB-c_brB0--"
      }
    },
    {
      "cell_type": "code",
      "source": [
        "from sklearn.model_selection import train_test_split"
      ],
      "metadata": {
        "id": "BE6svoonB0WD"
      },
      "execution_count": null,
      "outputs": []
    },
    {
      "cell_type": "code",
      "source": [
        "X_train, X_test, Y_train, Y_test = train_test_split(df.drop('quality', axis = 1), df['quality'], test_size = 0.25, random_state=42)"
      ],
      "metadata": {
        "id": "2WI_q1aIB-f9"
      },
      "execution_count": null,
      "outputs": []
    },
    {
      "cell_type": "code",
      "source": [
        "print(X_train.shape, X_test.shape, Y_train.shape, Y_test.shape)"
      ],
      "metadata": {
        "colab": {
          "base_uri": "https://localhost:8080/"
        },
        "id": "ryqs5UcuB-c-",
        "outputId": "f7194835-08d0-4fa5-d73f-50ea737c34d9"
      },
      "execution_count": null,
      "outputs": [
        {
          "output_type": "stream",
          "name": "stdout",
          "text": [
            "(1019, 11) (340, 11) (1019,) (340,)\n"
          ]
        }
      ]
    },
    {
      "cell_type": "markdown",
      "source": [
        "Scaling the data"
      ],
      "metadata": {
        "id": "GhNGj-oQBlUk"
      }
    },
    {
      "cell_type": "code",
      "source": [
        "Y_train.value_counts()"
      ],
      "metadata": {
        "colab": {
          "base_uri": "https://localhost:8080/"
        },
        "id": "MlFNvLoOs4te",
        "outputId": "1b0e9e79-a5a9-4aa5-b51a-96de4ca3fb4e"
      },
      "execution_count": null,
      "outputs": [
        {
          "output_type": "execute_result",
          "data": {
            "text/plain": [
              "quality\n",
              "0    879\n",
              "1    140\n",
              "Name: count, dtype: int64"
            ]
          },
          "metadata": {},
          "execution_count": 244
        }
      ]
    },
    {
      "cell_type": "code",
      "source": [
        "from sklearn.preprocessing import StandardScaler\n",
        "scaler = StandardScaler()\n",
        "scaler.fit(X_train)\n",
        "scaled_X_train = scaler.fit_transform(X_train)\n",
        "scaled_X_test = scaler.transform(X_test)"
      ],
      "metadata": {
        "id": "PqxhlDkpBduM"
      },
      "execution_count": null,
      "outputs": []
    },
    {
      "cell_type": "markdown",
      "source": [
        "Logisitic Regression"
      ],
      "metadata": {
        "id": "G43siOGHlLID"
      }
    },
    {
      "cell_type": "code",
      "source": [
        "from sklearn.linear_model import LogisticRegression"
      ],
      "metadata": {
        "id": "6uLIPLSUBdpV"
      },
      "execution_count": null,
      "outputs": []
    },
    {
      "cell_type": "code",
      "source": [
        "logreg = LogisticRegression();\n",
        "logreg.fit(scaled_X_train, Y_train)"
      ],
      "metadata": {
        "colab": {
          "base_uri": "https://localhost:8080/",
          "height": 74
        },
        "id": "d-EnGKxwBdmy",
        "outputId": "f4f0c0c1-2383-4a42-855b-8183485ef7fb"
      },
      "execution_count": null,
      "outputs": [
        {
          "output_type": "execute_result",
          "data": {
            "text/plain": [
              "LogisticRegression()"
            ],
            "text/html": [
              "<style>#sk-container-id-9 {color: black;background-color: white;}#sk-container-id-9 pre{padding: 0;}#sk-container-id-9 div.sk-toggleable {background-color: white;}#sk-container-id-9 label.sk-toggleable__label {cursor: pointer;display: block;width: 100%;margin-bottom: 0;padding: 0.3em;box-sizing: border-box;text-align: center;}#sk-container-id-9 label.sk-toggleable__label-arrow:before {content: \"▸\";float: left;margin-right: 0.25em;color: #696969;}#sk-container-id-9 label.sk-toggleable__label-arrow:hover:before {color: black;}#sk-container-id-9 div.sk-estimator:hover label.sk-toggleable__label-arrow:before {color: black;}#sk-container-id-9 div.sk-toggleable__content {max-height: 0;max-width: 0;overflow: hidden;text-align: left;background-color: #f0f8ff;}#sk-container-id-9 div.sk-toggleable__content pre {margin: 0.2em;color: black;border-radius: 0.25em;background-color: #f0f8ff;}#sk-container-id-9 input.sk-toggleable__control:checked~div.sk-toggleable__content {max-height: 200px;max-width: 100%;overflow: auto;}#sk-container-id-9 input.sk-toggleable__control:checked~label.sk-toggleable__label-arrow:before {content: \"▾\";}#sk-container-id-9 div.sk-estimator input.sk-toggleable__control:checked~label.sk-toggleable__label {background-color: #d4ebff;}#sk-container-id-9 div.sk-label input.sk-toggleable__control:checked~label.sk-toggleable__label {background-color: #d4ebff;}#sk-container-id-9 input.sk-hidden--visually {border: 0;clip: rect(1px 1px 1px 1px);clip: rect(1px, 1px, 1px, 1px);height: 1px;margin: -1px;overflow: hidden;padding: 0;position: absolute;width: 1px;}#sk-container-id-9 div.sk-estimator {font-family: monospace;background-color: #f0f8ff;border: 1px dotted black;border-radius: 0.25em;box-sizing: border-box;margin-bottom: 0.5em;}#sk-container-id-9 div.sk-estimator:hover {background-color: #d4ebff;}#sk-container-id-9 div.sk-parallel-item::after {content: \"\";width: 100%;border-bottom: 1px solid gray;flex-grow: 1;}#sk-container-id-9 div.sk-label:hover label.sk-toggleable__label {background-color: #d4ebff;}#sk-container-id-9 div.sk-serial::before {content: \"\";position: absolute;border-left: 1px solid gray;box-sizing: border-box;top: 0;bottom: 0;left: 50%;z-index: 0;}#sk-container-id-9 div.sk-serial {display: flex;flex-direction: column;align-items: center;background-color: white;padding-right: 0.2em;padding-left: 0.2em;position: relative;}#sk-container-id-9 div.sk-item {position: relative;z-index: 1;}#sk-container-id-9 div.sk-parallel {display: flex;align-items: stretch;justify-content: center;background-color: white;position: relative;}#sk-container-id-9 div.sk-item::before, #sk-container-id-9 div.sk-parallel-item::before {content: \"\";position: absolute;border-left: 1px solid gray;box-sizing: border-box;top: 0;bottom: 0;left: 50%;z-index: -1;}#sk-container-id-9 div.sk-parallel-item {display: flex;flex-direction: column;z-index: 1;position: relative;background-color: white;}#sk-container-id-9 div.sk-parallel-item:first-child::after {align-self: flex-end;width: 50%;}#sk-container-id-9 div.sk-parallel-item:last-child::after {align-self: flex-start;width: 50%;}#sk-container-id-9 div.sk-parallel-item:only-child::after {width: 0;}#sk-container-id-9 div.sk-dashed-wrapped {border: 1px dashed gray;margin: 0 0.4em 0.5em 0.4em;box-sizing: border-box;padding-bottom: 0.4em;background-color: white;}#sk-container-id-9 div.sk-label label {font-family: monospace;font-weight: bold;display: inline-block;line-height: 1.2em;}#sk-container-id-9 div.sk-label-container {text-align: center;}#sk-container-id-9 div.sk-container {/* jupyter's `normalize.less` sets `[hidden] { display: none; }` but bootstrap.min.css set `[hidden] { display: none !important; }` so we also need the `!important` here to be able to override the default hidden behavior on the sphinx rendered scikit-learn.org. See: https://github.com/scikit-learn/scikit-learn/issues/21755 */display: inline-block !important;position: relative;}#sk-container-id-9 div.sk-text-repr-fallback {display: none;}</style><div id=\"sk-container-id-9\" class=\"sk-top-container\"><div class=\"sk-text-repr-fallback\"><pre>LogisticRegression()</pre><b>In a Jupyter environment, please rerun this cell to show the HTML representation or trust the notebook. <br />On GitHub, the HTML representation is unable to render, please try loading this page with nbviewer.org.</b></div><div class=\"sk-container\" hidden><div class=\"sk-item\"><div class=\"sk-estimator sk-toggleable\"><input class=\"sk-toggleable__control sk-hidden--visually\" id=\"sk-estimator-id-9\" type=\"checkbox\" checked><label for=\"sk-estimator-id-9\" class=\"sk-toggleable__label sk-toggleable__label-arrow\">LogisticRegression</label><div class=\"sk-toggleable__content\"><pre>LogisticRegression()</pre></div></div></div></div></div>"
            ]
          },
          "metadata": {},
          "execution_count": 247
        }
      ]
    },
    {
      "cell_type": "code",
      "source": [
        "lg_pred = logreg.predict(scaled_X_test);"
      ],
      "metadata": {
        "id": "MMkrIJiyBdkS"
      },
      "execution_count": null,
      "outputs": []
    },
    {
      "cell_type": "code",
      "source": [
        "from sklearn.metrics import classification_report, confusion_matrix, accuracy_score"
      ],
      "metadata": {
        "id": "gJUxMUVBBda4"
      },
      "execution_count": null,
      "outputs": []
    },
    {
      "cell_type": "code",
      "source": [
        "classififcation_report = classification_report(Y_test, lg_pred)\n",
        "print(confusion_matrix(Y_test, lg_pred))\n",
        "print(classififcation_report)\n",
        "accuracy = accuracy_score(Y_test, lg_pred)\n",
        "print(\"Accuracy Score = \" ,accuracy)\n"
      ],
      "metadata": {
        "colab": {
          "base_uri": "https://localhost:8080/"
        },
        "id": "EkkRvOqNT8AH",
        "outputId": "4eac1193-5200-485f-9f3e-347df2888d44"
      },
      "execution_count": null,
      "outputs": [
        {
          "output_type": "stream",
          "name": "stdout",
          "text": [
            "[[286  10]\n",
            " [ 26  18]]\n",
            "              precision    recall  f1-score   support\n",
            "\n",
            "           0       0.92      0.97      0.94       296\n",
            "           1       0.64      0.41      0.50        44\n",
            "\n",
            "    accuracy                           0.89       340\n",
            "   macro avg       0.78      0.69      0.72       340\n",
            "weighted avg       0.88      0.89      0.88       340\n",
            "\n",
            "Accuracy Score =  0.8941176470588236\n"
          ]
        }
      ]
    },
    {
      "cell_type": "code",
      "source": [
        "scores.append(accuracy)"
      ],
      "metadata": {
        "id": "4tMF5tPRQ5Q5"
      },
      "execution_count": null,
      "outputs": []
    },
    {
      "cell_type": "markdown",
      "source": [
        "KNN Classification"
      ],
      "metadata": {
        "id": "9pJDCxPZbgRE"
      }
    },
    {
      "cell_type": "code",
      "source": [
        "from sklearn.neighbors import KNeighborsClassifier"
      ],
      "metadata": {
        "id": "NyrrTt_IbkIX"
      },
      "execution_count": null,
      "outputs": []
    },
    {
      "cell_type": "code",
      "source": [
        "knn_model = KNeighborsClassifier(n_neighbors = 5)"
      ],
      "metadata": {
        "id": "fZNU4JYGbkGa"
      },
      "execution_count": null,
      "outputs": []
    },
    {
      "cell_type": "code",
      "source": [
        "knn_model.fit(scaled_X_train, Y_train)"
      ],
      "metadata": {
        "colab": {
          "base_uri": "https://localhost:8080/",
          "height": 74
        },
        "id": "ztrpyZ9mbkDw",
        "outputId": "211303be-2cfc-4311-eaf5-618a23c59b5e"
      },
      "execution_count": null,
      "outputs": [
        {
          "output_type": "execute_result",
          "data": {
            "text/plain": [
              "KNeighborsClassifier()"
            ],
            "text/html": [
              "<style>#sk-container-id-10 {color: black;background-color: white;}#sk-container-id-10 pre{padding: 0;}#sk-container-id-10 div.sk-toggleable {background-color: white;}#sk-container-id-10 label.sk-toggleable__label {cursor: pointer;display: block;width: 100%;margin-bottom: 0;padding: 0.3em;box-sizing: border-box;text-align: center;}#sk-container-id-10 label.sk-toggleable__label-arrow:before {content: \"▸\";float: left;margin-right: 0.25em;color: #696969;}#sk-container-id-10 label.sk-toggleable__label-arrow:hover:before {color: black;}#sk-container-id-10 div.sk-estimator:hover label.sk-toggleable__label-arrow:before {color: black;}#sk-container-id-10 div.sk-toggleable__content {max-height: 0;max-width: 0;overflow: hidden;text-align: left;background-color: #f0f8ff;}#sk-container-id-10 div.sk-toggleable__content pre {margin: 0.2em;color: black;border-radius: 0.25em;background-color: #f0f8ff;}#sk-container-id-10 input.sk-toggleable__control:checked~div.sk-toggleable__content {max-height: 200px;max-width: 100%;overflow: auto;}#sk-container-id-10 input.sk-toggleable__control:checked~label.sk-toggleable__label-arrow:before {content: \"▾\";}#sk-container-id-10 div.sk-estimator input.sk-toggleable__control:checked~label.sk-toggleable__label {background-color: #d4ebff;}#sk-container-id-10 div.sk-label input.sk-toggleable__control:checked~label.sk-toggleable__label {background-color: #d4ebff;}#sk-container-id-10 input.sk-hidden--visually {border: 0;clip: rect(1px 1px 1px 1px);clip: rect(1px, 1px, 1px, 1px);height: 1px;margin: -1px;overflow: hidden;padding: 0;position: absolute;width: 1px;}#sk-container-id-10 div.sk-estimator {font-family: monospace;background-color: #f0f8ff;border: 1px dotted black;border-radius: 0.25em;box-sizing: border-box;margin-bottom: 0.5em;}#sk-container-id-10 div.sk-estimator:hover {background-color: #d4ebff;}#sk-container-id-10 div.sk-parallel-item::after {content: \"\";width: 100%;border-bottom: 1px solid gray;flex-grow: 1;}#sk-container-id-10 div.sk-label:hover label.sk-toggleable__label {background-color: #d4ebff;}#sk-container-id-10 div.sk-serial::before {content: \"\";position: absolute;border-left: 1px solid gray;box-sizing: border-box;top: 0;bottom: 0;left: 50%;z-index: 0;}#sk-container-id-10 div.sk-serial {display: flex;flex-direction: column;align-items: center;background-color: white;padding-right: 0.2em;padding-left: 0.2em;position: relative;}#sk-container-id-10 div.sk-item {position: relative;z-index: 1;}#sk-container-id-10 div.sk-parallel {display: flex;align-items: stretch;justify-content: center;background-color: white;position: relative;}#sk-container-id-10 div.sk-item::before, #sk-container-id-10 div.sk-parallel-item::before {content: \"\";position: absolute;border-left: 1px solid gray;box-sizing: border-box;top: 0;bottom: 0;left: 50%;z-index: -1;}#sk-container-id-10 div.sk-parallel-item {display: flex;flex-direction: column;z-index: 1;position: relative;background-color: white;}#sk-container-id-10 div.sk-parallel-item:first-child::after {align-self: flex-end;width: 50%;}#sk-container-id-10 div.sk-parallel-item:last-child::after {align-self: flex-start;width: 50%;}#sk-container-id-10 div.sk-parallel-item:only-child::after {width: 0;}#sk-container-id-10 div.sk-dashed-wrapped {border: 1px dashed gray;margin: 0 0.4em 0.5em 0.4em;box-sizing: border-box;padding-bottom: 0.4em;background-color: white;}#sk-container-id-10 div.sk-label label {font-family: monospace;font-weight: bold;display: inline-block;line-height: 1.2em;}#sk-container-id-10 div.sk-label-container {text-align: center;}#sk-container-id-10 div.sk-container {/* jupyter's `normalize.less` sets `[hidden] { display: none; }` but bootstrap.min.css set `[hidden] { display: none !important; }` so we also need the `!important` here to be able to override the default hidden behavior on the sphinx rendered scikit-learn.org. See: https://github.com/scikit-learn/scikit-learn/issues/21755 */display: inline-block !important;position: relative;}#sk-container-id-10 div.sk-text-repr-fallback {display: none;}</style><div id=\"sk-container-id-10\" class=\"sk-top-container\"><div class=\"sk-text-repr-fallback\"><pre>KNeighborsClassifier()</pre><b>In a Jupyter environment, please rerun this cell to show the HTML representation or trust the notebook. <br />On GitHub, the HTML representation is unable to render, please try loading this page with nbviewer.org.</b></div><div class=\"sk-container\" hidden><div class=\"sk-item\"><div class=\"sk-estimator sk-toggleable\"><input class=\"sk-toggleable__control sk-hidden--visually\" id=\"sk-estimator-id-10\" type=\"checkbox\" checked><label for=\"sk-estimator-id-10\" class=\"sk-toggleable__label sk-toggleable__label-arrow\">KNeighborsClassifier</label><div class=\"sk-toggleable__content\"><pre>KNeighborsClassifier()</pre></div></div></div></div></div>"
            ]
          },
          "metadata": {},
          "execution_count": 254
        }
      ]
    },
    {
      "cell_type": "code",
      "source": [
        "knn_pred = knn_model.predict(scaled_X_test)"
      ],
      "metadata": {
        "id": "MEO3J3EZbkB7"
      },
      "execution_count": null,
      "outputs": []
    },
    {
      "cell_type": "code",
      "source": [
        "print(classification_report(Y_test, knn_pred))"
      ],
      "metadata": {
        "colab": {
          "base_uri": "https://localhost:8080/"
        },
        "id": "080cGOkEbj-3",
        "outputId": "62d4a56f-0b21-4487-f2aa-9cddc759fbbf"
      },
      "execution_count": null,
      "outputs": [
        {
          "output_type": "stream",
          "name": "stdout",
          "text": [
            "              precision    recall  f1-score   support\n",
            "\n",
            "           0       0.92      0.94      0.93       296\n",
            "           1       0.53      0.43      0.48        44\n",
            "\n",
            "    accuracy                           0.88       340\n",
            "   macro avg       0.72      0.69      0.70       340\n",
            "weighted avg       0.87      0.88      0.87       340\n",
            "\n"
          ]
        }
      ]
    },
    {
      "cell_type": "code",
      "source": [
        "#Elbow Method"
      ],
      "metadata": {
        "id": "1F7d0ycgbj9L"
      },
      "execution_count": null,
      "outputs": []
    },
    {
      "cell_type": "code",
      "source": [
        "error_rates = []\n",
        "\n",
        "for i in range(1,31):\n",
        "    knn = KNeighborsClassifier(n_neighbors = i)\n",
        "    knn.fit(scaled_X_train, Y_train)\n",
        "    pred_i = knn.predict(scaled_X_test)\n",
        "    error_rates.append(1-accuracy_score(Y_test, pred_i))\n",
        "\n",
        "print(min(error_rates), error_rates.index(min(error_rates)))"
      ],
      "metadata": {
        "colab": {
          "base_uri": "https://localhost:8080/"
        },
        "id": "MzR4WU8J1L0z",
        "outputId": "c2ef5a39-13d4-4b65-d8ac-319aabb51144"
      },
      "execution_count": null,
      "outputs": [
        {
          "output_type": "stream",
          "name": "stdout",
          "text": [
            "0.08529411764705885 9\n"
          ]
        }
      ]
    },
    {
      "cell_type": "code",
      "source": [
        "plt.plot(range(1,31), error_rates, marker = 'o')"
      ],
      "metadata": {
        "colab": {
          "base_uri": "https://localhost:8080/",
          "height": 447
        },
        "id": "y0Y8hglJ3ztU",
        "outputId": "f6da4b2a-ce35-4c52-e1af-879fff8dfe8e"
      },
      "execution_count": null,
      "outputs": [
        {
          "output_type": "execute_result",
          "data": {
            "text/plain": [
              "[<matplotlib.lines.Line2D at 0x7fdf71407a60>]"
            ]
          },
          "metadata": {},
          "execution_count": 259
        },
        {
          "output_type": "display_data",
          "data": {
            "text/plain": [
              "<Figure size 640x480 with 1 Axes>"
            ],
            "image/png": "[encoded data removed]"
          },
          "metadata": {}
        }
      ]
    },
    {
      "cell_type": "code",
      "source": [
        "knn_model = KNeighborsClassifier(n_neighbors = error_rates.index(min(error_rates)))\n",
        "knn_model.fit(scaled_X_train, Y_train)\n",
        "knn_pred = knn_model.predict(scaled_X_test)\n",
        "print(accuracy_score(Y_test, knn_pred))\n"
      ],
      "metadata": {
        "colab": {
          "base_uri": "https://localhost:8080/"
        },
        "id": "MCwC6jPx4bm1",
        "outputId": "45a5e229-6c2b-4718-83e3-a4a3a3f65e99"
      },
      "execution_count": null,
      "outputs": [
        {
          "output_type": "stream",
          "name": "stdout",
          "text": [
            "0.9058823529411765\n"
          ]
        }
      ]
    },
    {
      "cell_type": "code",
      "source": [
        "scores.append(accuracy_score(Y_test, knn_pred))"
      ],
      "metadata": {
        "id": "6cq6S1JpJG8K"
      },
      "execution_count": null,
      "outputs": []
    },
    {
      "cell_type": "code",
      "source": [
        "print(classification_report(Y_test, knn_pred))"
      ],
      "metadata": {
        "colab": {
          "base_uri": "https://localhost:8080/"
        },
        "id": "3gdnaQ4s5J2W",
        "outputId": "e0c53482-2644-4019-968a-b8d0e34aace9"
      },
      "execution_count": null,
      "outputs": [
        {
          "output_type": "stream",
          "name": "stdout",
          "text": [
            "              precision    recall  f1-score   support\n",
            "\n",
            "           0       0.93      0.97      0.95       296\n",
            "           1       0.70      0.48      0.57        44\n",
            "\n",
            "    accuracy                           0.91       340\n",
            "   macro avg       0.81      0.72      0.76       340\n",
            "weighted avg       0.90      0.91      0.90       340\n",
            "\n"
          ]
        }
      ]
    },
    {
      "cell_type": "markdown",
      "source": [
        "Decision Tree"
      ],
      "metadata": {
        "id": "WTPruJ2aodeR"
      }
    },
    {
      "cell_type": "code",
      "source": [
        "from sklearn.tree import DecisionTreeClassifier\n",
        "model_dtree = DecisionTreeClassifier()\n",
        "model_dtree.fit(scaled_X_train, Y_train)\n",
        "dtree_pred = model_dtree.predict(scaled_X_test)\n",
        "print(classification_report(Y_test, dtree_pred))\n"
      ],
      "metadata": {
        "colab": {
          "base_uri": "https://localhost:8080/"
        },
        "id": "ydijmtYb6PdC",
        "outputId": "adf69e83-1779-4ea6-f0e9-77b4ace4f2b8"
      },
      "execution_count": null,
      "outputs": [
        {
          "output_type": "stream",
          "name": "stdout",
          "text": [
            "              precision    recall  f1-score   support\n",
            "\n",
            "           0       0.92      0.91      0.92       296\n",
            "           1       0.45      0.48      0.46        44\n",
            "\n",
            "    accuracy                           0.86       340\n",
            "   macro avg       0.68      0.69      0.69       340\n",
            "weighted avg       0.86      0.86      0.86       340\n",
            "\n"
          ]
        }
      ]
    },
    {
      "cell_type": "code",
      "source": [
        "scores.append(accuracy_score(Y_test, dtree_pred))\n",
        "print(scores)"
      ],
      "metadata": {
        "colab": {
          "base_uri": "https://localhost:8080/"
        },
        "id": "hjlNjhY8y2jX",
        "outputId": "0ddb7153-3fe9-427e-9235-c5d787df2831"
      },
      "execution_count": null,
      "outputs": [
        {
          "output_type": "stream",
          "name": "stdout",
          "text": [
            "[0.8941176470588236, 0.9058823529411765, 0.8558823529411764]\n"
          ]
        }
      ]
    },
    {
      "cell_type": "code",
      "source": [
        "# model_dtree.feature_importances_\n",
        "plt.figure(figsize = (10, 5))\n",
        "plt.bar(df.columns[:-1], model_dtree.feature_importances_)\n",
        "plt.title('Feature Importance')\n",
        "plt.xlabel('Features')\n",
        "plt.ylabel('Importance')\n",
        "plt.xticks(rotation = 45)\n",
        "plt.show()"
      ],
      "metadata": {
        "colab": {
          "base_uri": "https://localhost:8080/",
          "height": 575
        },
        "id": "LB0JnWOdo1Tx",
        "outputId": "7d233105-725d-4ef3-a41f-f75890aa9705"
      },
      "execution_count": null,
      "outputs": [
        {
          "output_type": "display_data",
          "data": {
            "text/plain": [
              "<Figure size 1000x500 with 1 Axes>"
            ],
            "image/png": "[encoded data removed]"
          },
          "metadata": {}
        }
      ]
    },
    {
      "cell_type": "markdown",
      "source": [
        "Alcohol has the highest importance in determining quality of the wine"
      ],
      "metadata": {
        "id": "04vTnONysBme"
      }
    },
    {
      "cell_type": "markdown",
      "source": [
        "Random Forest"
      ],
      "metadata": {
        "id": "d6DL9CcKz0JA"
      }
    },
    {
      "cell_type": "code",
      "source": [
        "from sklearn.ensemble import RandomForestClassifier"
      ],
      "metadata": {
        "id": "iS0-xdt_slq3"
      },
      "execution_count": null,
      "outputs": []
    },
    {
      "cell_type": "code",
      "source": [
        "rfc = RandomForestClassifier(max_features = 3, n_estimators = 169, bootstrap = True)\n",
        "rfc.fit(scaled_X_train, Y_train)\n",
        "rfc_pred = rfc.predict(scaled_X_test)\n",
        "print(classification_report(Y_test, rfc_pred))"
      ],
      "metadata": {
        "colab": {
          "base_uri": "https://localhost:8080/"
        },
        "id": "_vwJ9GKupBsW",
        "outputId": "4bf75d43-6f6b-4ed1-a6b8-57408bd0c4b2"
      },
      "execution_count": null,
      "outputs": [
        {
          "output_type": "stream",
          "name": "stdout",
          "text": [
            "              precision    recall  f1-score   support\n",
            "\n",
            "           0       0.91      0.98      0.95       296\n",
            "           1       0.76      0.36      0.49        44\n",
            "\n",
            "    accuracy                           0.90       340\n",
            "   macro avg       0.84      0.67      0.72       340\n",
            "weighted avg       0.89      0.90      0.89       340\n",
            "\n"
          ]
        }
      ]
    },
    {
      "cell_type": "code",
      "source": [
        "scores.append(accuracy_score(Y_test, rfc_pred))\n",
        "print(scores)"
      ],
      "metadata": {
        "colab": {
          "base_uri": "https://localhost:8080/"
        },
        "id": "xq9ql1bVp9TK",
        "outputId": "5253aa06-f7ea-4b36-8167-9405e88e0f16"
      },
      "execution_count": null,
      "outputs": [
        {
          "output_type": "stream",
          "name": "stdout",
          "text": [
            "[0.8941176470588236, 0.9058823529411765, 0.8558823529411764, 0.9029411764705882]\n"
          ]
        }
      ]
    },
    {
      "cell_type": "markdown",
      "source": [
        "ANN\n"
      ],
      "metadata": {
        "id": "hS3TxPV3sGv1"
      }
    },
    {
      "cell_type": "code",
      "source": [
        "import tensorflow as tf\n",
        "print(\"TensorFlow version:\", tf.__version__)"
      ],
      "metadata": {
        "colab": {
          "base_uri": "https://localhost:8080/"
        },
        "id": "196OFSwczO4p",
        "outputId": "a58bcfd9-de2c-41e7-bbd9-7f72642d9c93"
      },
      "execution_count": null,
      "outputs": [
        {
          "output_type": "stream",
          "name": "stdout",
          "text": [
            "TensorFlow version: 2.15.0\n"
          ]
        }
      ]
    },
    {
      "cell_type": "code",
      "source": [
        "nn_model = tf.keras.models.Sequential([\n",
        "    tf.keras.layers.Dense(32, activation='relu'),\n",
        "    tf.keras.layers.Dense(32, activation='relu'),\n",
        "    tf.keras.layers.Dense(32, activation='relu'),\n",
        "    tf.keras.layers.Dense(32, activation='relu'),\n",
        "    tf.keras.layers.Dense(1,activation='sigmoid')\n",
        "])\n",
        "\n",
        "nn_model.compile(optimizer=tf.keras.optimizers.Adam(learning_rate=0.001),loss='binary_crossentropy',metrics=['accuracy'])\n"
      ],
      "metadata": {
        "id": "7JH-Citi2bZa"
      },
      "execution_count": null,
      "outputs": []
    },
    {
      "cell_type": "code",
      "source": [
        "model_history=nn_model.fit(scaled_X_train,Y_train,epochs=500,batch_size=32,validation_split=0.2)"
      ],
      "metadata": {
        "colab": {
          "base_uri": "https://localhost:8080/"
        },
        "collapsed": true,
        "id": "a1QcEBaJ2-Gm",
        "outputId": "0e0be3bb-38ff-48e0-8632-13b2bea0b7dd"
      },
      "execution_count": null,
      "outputs": [
        {
          "output_type": "stream",
          "name": "stdout",
          "text": [
            "Epoch 1/500\n",
            "26/26 [==============================] - 2s 13ms/step - loss: 0.6010 - accuracy: 0.7239 - val_loss: 0.4689 - val_accuracy: 0.8578\n",
            "Epoch 2/500\n",
            "26/26 [==============================] - 0s 5ms/step - loss: 0.3988 - accuracy: 0.8638 - val_loss: 0.3765 - val_accuracy: 0.8578\n",
            "Epoch 3/500\n",
            "26/26 [==============================] - 0s 5ms/step - loss: 0.3292 - accuracy: 0.8638 - val_loss: 0.3412 - val_accuracy: 0.8578\n",
            "Epoch 4/500\n",
            "26/26 [==============================] - 0s 4ms/step - loss: 0.2934 - accuracy: 0.8638 - val_loss: 0.3297 - val_accuracy: 0.8578\n",
            "Epoch 5/500\n",
            "26/26 [==============================] - 0s 4ms/step - loss: 0.2763 - accuracy: 0.8663 - val_loss: 0.3301 - val_accuracy: 0.8578\n",
            "Epoch 6/500\n",
            "26/26 [==============================] - 0s 4ms/step - loss: 0.2669 - accuracy: 0.8724 - val_loss: 0.3317 - val_accuracy: 0.8676\n",
            "Epoch 7/500\n",
            "26/26 [==============================] - 0s 4ms/step - loss: 0.2594 - accuracy: 0.8761 - val_loss: 0.3338 - val_accuracy: 0.8627\n",
            "Epoch 8/500\n",
            "26/26 [==============================] - 0s 4ms/step - loss: 0.2524 - accuracy: 0.8859 - val_loss: 0.3379 - val_accuracy: 0.8725\n",
            "Epoch 9/500\n",
            "26/26 [==============================] - 0s 4ms/step - loss: 0.2434 - accuracy: 0.8945 - val_loss: 0.3395 - val_accuracy: 0.8725\n",
            "Epoch 10/500\n",
            "26/26 [==============================] - 0s 5ms/step - loss: 0.2364 - accuracy: 0.8994 - val_loss: 0.3487 - val_accuracy: 0.8775\n",
            "Epoch 11/500\n",
            "26/26 [==============================] - 0s 6ms/step - loss: 0.2282 - accuracy: 0.9055 - val_loss: 0.3446 - val_accuracy: 0.8676\n",
            "Epoch 12/500\n",
            "26/26 [==============================] - 0s 5ms/step - loss: 0.2207 - accuracy: 0.9104 - val_loss: 0.3528 - val_accuracy: 0.8627\n",
            "Epoch 13/500\n",
            "26/26 [==============================] - 0s 4ms/step - loss: 0.2133 - accuracy: 0.9067 - val_loss: 0.3552 - val_accuracy: 0.8578\n",
            "Epoch 14/500\n",
            "26/26 [==============================] - 0s 5ms/step - loss: 0.2051 - accuracy: 0.9129 - val_loss: 0.3845 - val_accuracy: 0.8824\n",
            "Epoch 15/500\n",
            "26/26 [==============================] - 0s 5ms/step - loss: 0.2002 - accuracy: 0.9006 - val_loss: 0.3747 - val_accuracy: 0.8676\n",
            "Epoch 16/500\n",
            "26/26 [==============================] - 0s 5ms/step - loss: 0.1901 - accuracy: 0.9129 - val_loss: 0.3831 - val_accuracy: 0.8627\n",
            "Epoch 17/500\n",
            "26/26 [==============================] - 0s 4ms/step - loss: 0.1831 - accuracy: 0.9190 - val_loss: 0.3986 - val_accuracy: 0.8676\n",
            "Epoch 18/500\n",
            "26/26 [==============================] - 0s 5ms/step - loss: 0.1771 - accuracy: 0.9276 - val_loss: 0.4109 - val_accuracy: 0.8725\n",
            "Epoch 19/500\n",
            "26/26 [==============================] - 0s 6ms/step - loss: 0.1684 - accuracy: 0.9239 - val_loss: 0.4233 - val_accuracy: 0.8775\n",
            "Epoch 20/500\n",
            "26/26 [==============================] - 0s 4ms/step - loss: 0.1640 - accuracy: 0.9264 - val_loss: 0.4207 - val_accuracy: 0.8480\n",
            "Epoch 21/500\n",
            "26/26 [==============================] - 0s 4ms/step - loss: 0.1585 - accuracy: 0.9301 - val_loss: 0.4188 - val_accuracy: 0.8529\n",
            "Epoch 22/500\n",
            "26/26 [==============================] - 0s 4ms/step - loss: 0.1484 - accuracy: 0.9423 - val_loss: 0.4474 - val_accuracy: 0.8529\n",
            "Epoch 23/500\n",
            "26/26 [==============================] - 0s 4ms/step - loss: 0.1470 - accuracy: 0.9362 - val_loss: 0.4567 - val_accuracy: 0.8529\n",
            "Epoch 24/500\n",
            "26/26 [==============================] - 0s 5ms/step - loss: 0.1360 - accuracy: 0.9472 - val_loss: 0.4566 - val_accuracy: 0.8382\n",
            "Epoch 25/500\n",
            "26/26 [==============================] - 0s 4ms/step - loss: 0.1268 - accuracy: 0.9607 - val_loss: 0.4682 - val_accuracy: 0.8382\n",
            "Epoch 26/500\n",
            "26/26 [==============================] - 0s 6ms/step - loss: 0.1279 - accuracy: 0.9472 - val_loss: 0.4883 - val_accuracy: 0.8480\n",
            "Epoch 27/500\n",
            "26/26 [==============================] - 0s 5ms/step - loss: 0.1233 - accuracy: 0.9571 - val_loss: 0.4864 - val_accuracy: 0.8333\n",
            "Epoch 28/500\n",
            "26/26 [==============================] - 0s 4ms/step - loss: 0.1130 - accuracy: 0.9632 - val_loss: 0.5071 - val_accuracy: 0.8431\n",
            "Epoch 29/500\n",
            "26/26 [==============================] - 0s 5ms/step - loss: 0.1107 - accuracy: 0.9583 - val_loss: 0.5417 - val_accuracy: 0.8627\n",
            "Epoch 30/500\n",
            "26/26 [==============================] - 0s 4ms/step - loss: 0.0995 - accuracy: 0.9656 - val_loss: 0.5290 - val_accuracy: 0.8431\n",
            "Epoch 31/500\n",
            "26/26 [==============================] - 0s 5ms/step - loss: 0.0942 - accuracy: 0.9706 - val_loss: 0.5689 - val_accuracy: 0.8431\n",
            "Epoch 32/500\n",
            "26/26 [==============================] - 0s 4ms/step - loss: 0.0886 - accuracy: 0.9693 - val_loss: 0.6212 - val_accuracy: 0.8382\n",
            "Epoch 33/500\n",
            "26/26 [==============================] - 0s 5ms/step - loss: 0.0906 - accuracy: 0.9718 - val_loss: 0.6179 - val_accuracy: 0.8627\n",
            "Epoch 34/500\n",
            "26/26 [==============================] - 0s 6ms/step - loss: 0.0844 - accuracy: 0.9755 - val_loss: 0.6082 - val_accuracy: 0.8333\n",
            "Epoch 35/500\n",
            "26/26 [==============================] - 0s 5ms/step - loss: 0.0725 - accuracy: 0.9767 - val_loss: 0.6212 - val_accuracy: 0.8431\n",
            "Epoch 36/500\n",
            "26/26 [==============================] - 0s 5ms/step - loss: 0.0691 - accuracy: 0.9791 - val_loss: 0.6620 - val_accuracy: 0.8333\n",
            "Epoch 37/500\n",
            "26/26 [==============================] - 0s 4ms/step - loss: 0.0650 - accuracy: 0.9779 - val_loss: 0.6941 - val_accuracy: 0.8431\n",
            "Epoch 38/500\n",
            "26/26 [==============================] - 0s 5ms/step - loss: 0.0615 - accuracy: 0.9779 - val_loss: 0.6803 - val_accuracy: 0.8431\n",
            "Epoch 39/500\n",
            "26/26 [==============================] - 0s 5ms/step - loss: 0.0598 - accuracy: 0.9791 - val_loss: 0.7179 - val_accuracy: 0.8480\n",
            "Epoch 40/500\n",
            "26/26 [==============================] - 0s 4ms/step - loss: 0.0543 - accuracy: 0.9804 - val_loss: 0.7639 - val_accuracy: 0.8578\n",
            "Epoch 41/500\n",
            "26/26 [==============================] - 0s 6ms/step - loss: 0.0558 - accuracy: 0.9840 - val_loss: 0.7335 - val_accuracy: 0.8480\n",
            "Epoch 42/500\n",
            "26/26 [==============================] - 0s 5ms/step - loss: 0.0548 - accuracy: 0.9816 - val_loss: 0.7598 - val_accuracy: 0.8480\n",
            "Epoch 43/500\n",
            "26/26 [==============================] - 0s 5ms/step - loss: 0.0488 - accuracy: 0.9865 - val_loss: 0.7334 - val_accuracy: 0.8529\n",
            "Epoch 44/500\n",
            "26/26 [==============================] - 0s 4ms/step - loss: 0.0455 - accuracy: 0.9865 - val_loss: 0.8098 - val_accuracy: 0.8480\n",
            "Epoch 45/500\n",
            "26/26 [==============================] - 0s 4ms/step - loss: 0.0415 - accuracy: 0.9877 - val_loss: 0.8252 - val_accuracy: 0.8529\n",
            "Epoch 46/500\n",
            "26/26 [==============================] - 0s 4ms/step - loss: 0.0372 - accuracy: 0.9865 - val_loss: 0.8187 - val_accuracy: 0.8578\n",
            "Epoch 47/500\n",
            "26/26 [==============================] - 0s 7ms/step - loss: 0.0357 - accuracy: 0.9902 - val_loss: 0.8417 - val_accuracy: 0.8480\n",
            "Epoch 48/500\n",
            "26/26 [==============================] - 0s 8ms/step - loss: 0.0393 - accuracy: 0.9865 - val_loss: 0.8833 - val_accuracy: 0.8382\n",
            "Epoch 49/500\n",
            "26/26 [==============================] - 0s 8ms/step - loss: 0.0497 - accuracy: 0.9816 - val_loss: 0.8902 - val_accuracy: 0.8480\n",
            "Epoch 50/500\n",
            "26/26 [==============================] - 0s 6ms/step - loss: 0.0364 - accuracy: 0.9926 - val_loss: 0.9236 - val_accuracy: 0.8480\n",
            "Epoch 51/500\n",
            "26/26 [==============================] - 0s 6ms/step - loss: 0.0368 - accuracy: 0.9877 - val_loss: 0.8913 - val_accuracy: 0.8529\n",
            "Epoch 52/500\n",
            "26/26 [==============================] - 0s 6ms/step - loss: 0.0307 - accuracy: 0.9890 - val_loss: 0.9027 - val_accuracy: 0.8480\n",
            "Epoch 53/500\n",
            "26/26 [==============================] - 0s 8ms/step - loss: 0.0235 - accuracy: 0.9963 - val_loss: 0.9388 - val_accuracy: 0.8431\n",
            "Epoch 54/500\n",
            "26/26 [==============================] - 0s 7ms/step - loss: 0.0200 - accuracy: 0.9975 - val_loss: 0.9436 - val_accuracy: 0.8529\n",
            "Epoch 55/500\n",
            "26/26 [==============================] - 0s 7ms/step - loss: 0.0259 - accuracy: 0.9926 - val_loss: 0.9827 - val_accuracy: 0.8480\n",
            "Epoch 56/500\n",
            "26/26 [==============================] - 0s 6ms/step - loss: 0.0292 - accuracy: 0.9926 - val_loss: 1.0076 - val_accuracy: 0.8529\n",
            "Epoch 57/500\n",
            "26/26 [==============================] - 0s 7ms/step - loss: 0.0277 - accuracy: 0.9914 - val_loss: 0.9890 - val_accuracy: 0.8529\n",
            "Epoch 58/500\n",
            "26/26 [==============================] - 0s 8ms/step - loss: 0.0190 - accuracy: 0.9963 - val_loss: 1.0285 - val_accuracy: 0.8382\n",
            "Epoch 59/500\n",
            "26/26 [==============================] - 0s 7ms/step - loss: 0.0162 - accuracy: 0.9975 - val_loss: 1.0190 - val_accuracy: 0.8578\n",
            "Epoch 60/500\n",
            "26/26 [==============================] - 0s 7ms/step - loss: 0.0243 - accuracy: 0.9963 - val_loss: 1.0173 - val_accuracy: 0.8333\n",
            "Epoch 61/500\n",
            "26/26 [==============================] - 0s 7ms/step - loss: 0.0207 - accuracy: 0.9939 - val_loss: 1.0517 - val_accuracy: 0.8431\n",
            "Epoch 62/500\n",
            "26/26 [==============================] - 0s 7ms/step - loss: 0.0135 - accuracy: 0.9975 - val_loss: 1.1213 - val_accuracy: 0.8480\n",
            "Epoch 63/500\n",
            "26/26 [==============================] - 0s 7ms/step - loss: 0.0122 - accuracy: 0.9988 - val_loss: 1.1172 - val_accuracy: 0.8480\n",
            "Epoch 64/500\n",
            "26/26 [==============================] - 0s 8ms/step - loss: 0.0098 - accuracy: 0.9988 - val_loss: 1.1248 - val_accuracy: 0.8382\n",
            "Epoch 65/500\n",
            "26/26 [==============================] - 0s 7ms/step - loss: 0.0102 - accuracy: 0.9988 - val_loss: 1.1623 - val_accuracy: 0.8333\n",
            "Epoch 66/500\n",
            "26/26 [==============================] - 0s 8ms/step - loss: 0.0089 - accuracy: 1.0000 - val_loss: 1.1721 - val_accuracy: 0.8480\n",
            "Epoch 67/500\n",
            "26/26 [==============================] - 0s 9ms/step - loss: 0.0074 - accuracy: 1.0000 - val_loss: 1.2178 - val_accuracy: 0.8480\n",
            "Epoch 68/500\n",
            "26/26 [==============================] - 0s 5ms/step - loss: 0.0064 - accuracy: 1.0000 - val_loss: 1.2265 - val_accuracy: 0.8480\n",
            "Epoch 69/500\n",
            "26/26 [==============================] - 0s 6ms/step - loss: 0.0058 - accuracy: 1.0000 - val_loss: 1.2493 - val_accuracy: 0.8480\n",
            "Epoch 70/500\n",
            "26/26 [==============================] - 0s 5ms/step - loss: 0.0054 - accuracy: 1.0000 - val_loss: 1.2567 - val_accuracy: 0.8382\n",
            "Epoch 71/500\n",
            "26/26 [==============================] - 0s 4ms/step - loss: 0.0055 - accuracy: 1.0000 - val_loss: 1.2890 - val_accuracy: 0.8480\n",
            "Epoch 72/500\n",
            "26/26 [==============================] - 0s 5ms/step - loss: 0.0045 - accuracy: 1.0000 - val_loss: 1.3110 - val_accuracy: 0.8480\n",
            "Epoch 73/500\n",
            "26/26 [==============================] - 0s 5ms/step - loss: 0.0044 - accuracy: 1.0000 - val_loss: 1.3158 - val_accuracy: 0.8480\n",
            "Epoch 74/500\n",
            "26/26 [==============================] - 0s 5ms/step - loss: 0.0040 - accuracy: 1.0000 - val_loss: 1.3287 - val_accuracy: 0.8480\n",
            "Epoch 75/500\n",
            "26/26 [==============================] - 0s 5ms/step - loss: 0.0036 - accuracy: 1.0000 - val_loss: 1.3528 - val_accuracy: 0.8480\n",
            "Epoch 76/500\n",
            "26/26 [==============================] - 0s 5ms/step - loss: 0.0035 - accuracy: 1.0000 - val_loss: 1.3706 - val_accuracy: 0.8480\n",
            "Epoch 77/500\n",
            "26/26 [==============================] - 0s 5ms/step - loss: 0.0033 - accuracy: 1.0000 - val_loss: 1.3662 - val_accuracy: 0.8480\n",
            "Epoch 78/500\n",
            "26/26 [==============================] - 0s 5ms/step - loss: 0.0034 - accuracy: 1.0000 - val_loss: 1.4073 - val_accuracy: 0.8480\n",
            "Epoch 79/500\n",
            "26/26 [==============================] - 0s 5ms/step - loss: 0.0032 - accuracy: 1.0000 - val_loss: 1.4099 - val_accuracy: 0.8480\n",
            "Epoch 80/500\n",
            "26/26 [==============================] - 0s 5ms/step - loss: 0.0028 - accuracy: 1.0000 - val_loss: 1.4227 - val_accuracy: 0.8480\n",
            "Epoch 81/500\n",
            "26/26 [==============================] - 0s 5ms/step - loss: 0.0026 - accuracy: 1.0000 - val_loss: 1.4408 - val_accuracy: 0.8480\n",
            "Epoch 82/500\n",
            "26/26 [==============================] - 0s 4ms/step - loss: 0.0024 - accuracy: 1.0000 - val_loss: 1.4598 - val_accuracy: 0.8480\n",
            "Epoch 83/500\n",
            "26/26 [==============================] - 0s 4ms/step - loss: 0.0026 - accuracy: 1.0000 - val_loss: 1.4650 - val_accuracy: 0.8480\n",
            "Epoch 84/500\n",
            "26/26 [==============================] - 0s 5ms/step - loss: 0.0027 - accuracy: 1.0000 - val_loss: 1.4675 - val_accuracy: 0.8480\n",
            "Epoch 85/500\n",
            "26/26 [==============================] - 0s 5ms/step - loss: 0.0034 - accuracy: 1.0000 - val_loss: 1.5027 - val_accuracy: 0.8480\n",
            "Epoch 86/500\n",
            "26/26 [==============================] - 0s 5ms/step - loss: 0.0027 - accuracy: 1.0000 - val_loss: 1.4838 - val_accuracy: 0.8431\n",
            "Epoch 87/500\n",
            "26/26 [==============================] - 0s 5ms/step - loss: 0.0023 - accuracy: 1.0000 - val_loss: 1.5159 - val_accuracy: 0.8480\n",
            "Epoch 88/500\n",
            "26/26 [==============================] - 0s 5ms/step - loss: 0.0020 - accuracy: 1.0000 - val_loss: 1.5332 - val_accuracy: 0.8480\n",
            "Epoch 89/500\n",
            "26/26 [==============================] - 0s 5ms/step - loss: 0.0020 - accuracy: 1.0000 - val_loss: 1.5336 - val_accuracy: 0.8431\n",
            "Epoch 90/500\n",
            "26/26 [==============================] - 0s 4ms/step - loss: 0.0018 - accuracy: 1.0000 - val_loss: 1.5529 - val_accuracy: 0.8480\n",
            "Epoch 91/500\n",
            "26/26 [==============================] - 0s 5ms/step - loss: 0.0017 - accuracy: 1.0000 - val_loss: 1.5621 - val_accuracy: 0.8480\n",
            "Epoch 92/500\n",
            "26/26 [==============================] - 0s 6ms/step - loss: 0.0016 - accuracy: 1.0000 - val_loss: 1.5805 - val_accuracy: 0.8480\n",
            "Epoch 93/500\n",
            "26/26 [==============================] - 0s 4ms/step - loss: 0.0014 - accuracy: 1.0000 - val_loss: 1.5873 - val_accuracy: 0.8480\n",
            "Epoch 94/500\n",
            "26/26 [==============================] - 0s 4ms/step - loss: 0.0014 - accuracy: 1.0000 - val_loss: 1.6036 - val_accuracy: 0.8480\n",
            "Epoch 95/500\n",
            "26/26 [==============================] - 0s 5ms/step - loss: 0.0013 - accuracy: 1.0000 - val_loss: 1.6134 - val_accuracy: 0.8480\n",
            "Epoch 96/500\n",
            "26/26 [==============================] - 0s 5ms/step - loss: 0.0013 - accuracy: 1.0000 - val_loss: 1.6137 - val_accuracy: 0.8431\n",
            "Epoch 97/500\n",
            "26/26 [==============================] - 0s 4ms/step - loss: 0.0012 - accuracy: 1.0000 - val_loss: 1.6311 - val_accuracy: 0.8480\n",
            "Epoch 98/500\n",
            "26/26 [==============================] - 0s 5ms/step - loss: 0.0011 - accuracy: 1.0000 - val_loss: 1.6370 - val_accuracy: 0.8480\n",
            "Epoch 99/500\n",
            "26/26 [==============================] - 0s 5ms/step - loss: 0.0012 - accuracy: 1.0000 - val_loss: 1.6561 - val_accuracy: 0.8480\n",
            "Epoch 100/500\n",
            "26/26 [==============================] - 0s 5ms/step - loss: 0.0011 - accuracy: 1.0000 - val_loss: 1.6626 - val_accuracy: 0.8480\n",
            "Epoch 101/500\n",
            "26/26 [==============================] - 0s 4ms/step - loss: 0.0011 - accuracy: 1.0000 - val_loss: 1.6744 - val_accuracy: 0.8480\n",
            "Epoch 102/500\n",
            "26/26 [==============================] - 0s 4ms/step - loss: 9.8878e-04 - accuracy: 1.0000 - val_loss: 1.6789 - val_accuracy: 0.8480\n",
            "Epoch 103/500\n",
            "26/26 [==============================] - 0s 4ms/step - loss: 9.3791e-04 - accuracy: 1.0000 - val_loss: 1.6928 - val_accuracy: 0.8480\n",
            "Epoch 104/500\n",
            "26/26 [==============================] - 0s 4ms/step - loss: 8.9774e-04 - accuracy: 1.0000 - val_loss: 1.6990 - val_accuracy: 0.8480\n",
            "Epoch 105/500\n",
            "26/26 [==============================] - 0s 4ms/step - loss: 9.0353e-04 - accuracy: 1.0000 - val_loss: 1.7088 - val_accuracy: 0.8480\n",
            "Epoch 106/500\n",
            "26/26 [==============================] - 0s 4ms/step - loss: 8.7806e-04 - accuracy: 1.0000 - val_loss: 1.7222 - val_accuracy: 0.8480\n",
            "Epoch 107/500\n",
            "26/26 [==============================] - 0s 5ms/step - loss: 8.6185e-04 - accuracy: 1.0000 - val_loss: 1.7290 - val_accuracy: 0.8480\n",
            "Epoch 108/500\n",
            "26/26 [==============================] - 0s 5ms/step - loss: 8.3171e-04 - accuracy: 1.0000 - val_loss: 1.7434 - val_accuracy: 0.8480\n",
            "Epoch 109/500\n",
            "26/26 [==============================] - 0s 4ms/step - loss: 8.0269e-04 - accuracy: 1.0000 - val_loss: 1.7407 - val_accuracy: 0.8480\n",
            "Epoch 110/500\n",
            "26/26 [==============================] - 0s 5ms/step - loss: 7.3931e-04 - accuracy: 1.0000 - val_loss: 1.7481 - val_accuracy: 0.8480\n",
            "Epoch 111/500\n",
            "26/26 [==============================] - 0s 4ms/step - loss: 7.1463e-04 - accuracy: 1.0000 - val_loss: 1.7534 - val_accuracy: 0.8480\n",
            "Epoch 112/500\n",
            "26/26 [==============================] - 0s 5ms/step - loss: 6.9629e-04 - accuracy: 1.0000 - val_loss: 1.7697 - val_accuracy: 0.8480\n",
            "Epoch 113/500\n",
            "26/26 [==============================] - 0s 5ms/step - loss: 6.7012e-04 - accuracy: 1.0000 - val_loss: 1.7731 - val_accuracy: 0.8480\n",
            "Epoch 114/500\n",
            "26/26 [==============================] - 0s 4ms/step - loss: 6.7586e-04 - accuracy: 1.0000 - val_loss: 1.7820 - val_accuracy: 0.8431\n",
            "Epoch 115/500\n",
            "26/26 [==============================] - 0s 5ms/step - loss: 6.5846e-04 - accuracy: 1.0000 - val_loss: 1.7935 - val_accuracy: 0.8480\n",
            "Epoch 116/500\n",
            "26/26 [==============================] - 0s 4ms/step - loss: 6.1348e-04 - accuracy: 1.0000 - val_loss: 1.7960 - val_accuracy: 0.8480\n",
            "Epoch 117/500\n",
            "26/26 [==============================] - 0s 4ms/step - loss: 5.9091e-04 - accuracy: 1.0000 - val_loss: 1.8064 - val_accuracy: 0.8480\n",
            "Epoch 118/500\n",
            "26/26 [==============================] - 0s 5ms/step - loss: 5.7064e-04 - accuracy: 1.0000 - val_loss: 1.8214 - val_accuracy: 0.8480\n",
            "Epoch 119/500\n",
            "26/26 [==============================] - 0s 4ms/step - loss: 5.7013e-04 - accuracy: 1.0000 - val_loss: 1.8221 - val_accuracy: 0.8431\n",
            "Epoch 120/500\n",
            "26/26 [==============================] - 0s 4ms/step - loss: 5.4735e-04 - accuracy: 1.0000 - val_loss: 1.8293 - val_accuracy: 0.8480\n",
            "Epoch 121/500\n",
            "26/26 [==============================] - 0s 5ms/step - loss: 5.2357e-04 - accuracy: 1.0000 - val_loss: 1.8384 - val_accuracy: 0.8480\n",
            "Epoch 122/500\n",
            "26/26 [==============================] - 0s 4ms/step - loss: 5.0308e-04 - accuracy: 1.0000 - val_loss: 1.8503 - val_accuracy: 0.8431\n",
            "Epoch 123/500\n",
            "26/26 [==============================] - 0s 6ms/step - loss: 4.9900e-04 - accuracy: 1.0000 - val_loss: 1.8558 - val_accuracy: 0.8431\n",
            "Epoch 124/500\n",
            "26/26 [==============================] - 0s 5ms/step - loss: 4.6543e-04 - accuracy: 1.0000 - val_loss: 1.8634 - val_accuracy: 0.8431\n",
            "Epoch 125/500\n",
            "26/26 [==============================] - 0s 4ms/step - loss: 4.6250e-04 - accuracy: 1.0000 - val_loss: 1.8705 - val_accuracy: 0.8431\n",
            "Epoch 126/500\n",
            "26/26 [==============================] - 0s 4ms/step - loss: 4.4945e-04 - accuracy: 1.0000 - val_loss: 1.8793 - val_accuracy: 0.8480\n",
            "Epoch 127/500\n",
            "26/26 [==============================] - 0s 4ms/step - loss: 4.4999e-04 - accuracy: 1.0000 - val_loss: 1.8828 - val_accuracy: 0.8431\n",
            "Epoch 128/500\n",
            "26/26 [==============================] - 0s 4ms/step - loss: 4.3826e-04 - accuracy: 1.0000 - val_loss: 1.8939 - val_accuracy: 0.8431\n",
            "Epoch 129/500\n",
            "26/26 [==============================] - 0s 5ms/step - loss: 4.3578e-04 - accuracy: 1.0000 - val_loss: 1.8991 - val_accuracy: 0.8431\n",
            "Epoch 130/500\n",
            "26/26 [==============================] - 0s 5ms/step - loss: 4.0989e-04 - accuracy: 1.0000 - val_loss: 1.9058 - val_accuracy: 0.8431\n",
            "Epoch 131/500\n",
            "26/26 [==============================] - 0s 5ms/step - loss: 4.3017e-04 - accuracy: 1.0000 - val_loss: 1.9168 - val_accuracy: 0.8431\n",
            "Epoch 132/500\n",
            "26/26 [==============================] - 0s 4ms/step - loss: 4.0408e-04 - accuracy: 1.0000 - val_loss: 1.9201 - val_accuracy: 0.8431\n",
            "Epoch 133/500\n",
            "26/26 [==============================] - 0s 4ms/step - loss: 3.7638e-04 - accuracy: 1.0000 - val_loss: 1.9245 - val_accuracy: 0.8431\n",
            "Epoch 134/500\n",
            "26/26 [==============================] - 0s 4ms/step - loss: 3.5238e-04 - accuracy: 1.0000 - val_loss: 1.9298 - val_accuracy: 0.8431\n",
            "Epoch 135/500\n",
            "26/26 [==============================] - 0s 4ms/step - loss: 3.5948e-04 - accuracy: 1.0000 - val_loss: 1.9381 - val_accuracy: 0.8431\n",
            "Epoch 136/500\n",
            "26/26 [==============================] - 0s 5ms/step - loss: 3.3885e-04 - accuracy: 1.0000 - val_loss: 1.9460 - val_accuracy: 0.8431\n",
            "Epoch 137/500\n",
            "26/26 [==============================] - 0s 5ms/step - loss: 3.3464e-04 - accuracy: 1.0000 - val_loss: 1.9528 - val_accuracy: 0.8431\n",
            "Epoch 138/500\n",
            "26/26 [==============================] - 0s 4ms/step - loss: 3.2340e-04 - accuracy: 1.0000 - val_loss: 1.9532 - val_accuracy: 0.8382\n",
            "Epoch 139/500\n",
            "26/26 [==============================] - 0s 5ms/step - loss: 3.2149e-04 - accuracy: 1.0000 - val_loss: 1.9645 - val_accuracy: 0.8431\n",
            "Epoch 140/500\n",
            "26/26 [==============================] - 0s 5ms/step - loss: 3.0418e-04 - accuracy: 1.0000 - val_loss: 1.9714 - val_accuracy: 0.8431\n",
            "Epoch 141/500\n",
            "26/26 [==============================] - 0s 5ms/step - loss: 3.0248e-04 - accuracy: 1.0000 - val_loss: 1.9757 - val_accuracy: 0.8431\n",
            "Epoch 142/500\n",
            "26/26 [==============================] - 0s 5ms/step - loss: 2.8446e-04 - accuracy: 1.0000 - val_loss: 1.9822 - val_accuracy: 0.8431\n",
            "Epoch 143/500\n",
            "26/26 [==============================] - 0s 5ms/step - loss: 2.8145e-04 - accuracy: 1.0000 - val_loss: 1.9887 - val_accuracy: 0.8431\n",
            "Epoch 144/500\n",
            "26/26 [==============================] - 0s 5ms/step - loss: 2.7990e-04 - accuracy: 1.0000 - val_loss: 1.9896 - val_accuracy: 0.8431\n",
            "Epoch 145/500\n",
            "26/26 [==============================] - 0s 9ms/step - loss: 2.6991e-04 - accuracy: 1.0000 - val_loss: 2.0036 - val_accuracy: 0.8431\n",
            "Epoch 146/500\n",
            "26/26 [==============================] - 0s 8ms/step - loss: 2.6237e-04 - accuracy: 1.0000 - val_loss: 2.0067 - val_accuracy: 0.8431\n",
            "Epoch 147/500\n",
            "26/26 [==============================] - 0s 6ms/step - loss: 2.5655e-04 - accuracy: 1.0000 - val_loss: 2.0129 - val_accuracy: 0.8431\n",
            "Epoch 148/500\n",
            "26/26 [==============================] - 0s 6ms/step - loss: 2.5124e-04 - accuracy: 1.0000 - val_loss: 2.0180 - val_accuracy: 0.8431\n",
            "Epoch 149/500\n",
            "26/26 [==============================] - 0s 6ms/step - loss: 2.4997e-04 - accuracy: 1.0000 - val_loss: 2.0270 - val_accuracy: 0.8431\n",
            "Epoch 150/500\n",
            "26/26 [==============================] - 0s 9ms/step - loss: 2.3699e-04 - accuracy: 1.0000 - val_loss: 2.0341 - val_accuracy: 0.8431\n",
            "Epoch 151/500\n",
            "26/26 [==============================] - 0s 7ms/step - loss: 2.2891e-04 - accuracy: 1.0000 - val_loss: 2.0357 - val_accuracy: 0.8431\n",
            "Epoch 152/500\n",
            "26/26 [==============================] - 0s 7ms/step - loss: 2.3191e-04 - accuracy: 1.0000 - val_loss: 2.0438 - val_accuracy: 0.8431\n",
            "Epoch 153/500\n",
            "26/26 [==============================] - 0s 9ms/step - loss: 2.1775e-04 - accuracy: 1.0000 - val_loss: 2.0503 - val_accuracy: 0.8431\n",
            "Epoch 154/500\n",
            "26/26 [==============================] - 0s 7ms/step - loss: 2.1223e-04 - accuracy: 1.0000 - val_loss: 2.0555 - val_accuracy: 0.8431\n",
            "Epoch 155/500\n",
            "26/26 [==============================] - 0s 10ms/step - loss: 2.0681e-04 - accuracy: 1.0000 - val_loss: 2.0624 - val_accuracy: 0.8431\n",
            "Epoch 156/500\n",
            "26/26 [==============================] - 0s 8ms/step - loss: 2.0433e-04 - accuracy: 1.0000 - val_loss: 2.0666 - val_accuracy: 0.8431\n",
            "Epoch 157/500\n",
            "26/26 [==============================] - 0s 7ms/step - loss: 2.0390e-04 - accuracy: 1.0000 - val_loss: 2.0679 - val_accuracy: 0.8431\n",
            "Epoch 158/500\n",
            "26/26 [==============================] - 0s 7ms/step - loss: 1.9459e-04 - accuracy: 1.0000 - val_loss: 2.0825 - val_accuracy: 0.8431\n",
            "Epoch 159/500\n",
            "26/26 [==============================] - 0s 9ms/step - loss: 1.8963e-04 - accuracy: 1.0000 - val_loss: 2.0846 - val_accuracy: 0.8431\n",
            "Epoch 160/500\n",
            "26/26 [==============================] - 0s 11ms/step - loss: 1.8934e-04 - accuracy: 1.0000 - val_loss: 2.0870 - val_accuracy: 0.8431\n",
            "Epoch 161/500\n",
            "26/26 [==============================] - 0s 8ms/step - loss: 1.8064e-04 - accuracy: 1.0000 - val_loss: 2.0931 - val_accuracy: 0.8431\n",
            "Epoch 162/500\n",
            "26/26 [==============================] - 0s 5ms/step - loss: 1.7633e-04 - accuracy: 1.0000 - val_loss: 2.0998 - val_accuracy: 0.8431\n",
            "Epoch 163/500\n",
            "26/26 [==============================] - 0s 5ms/step - loss: 1.7649e-04 - accuracy: 1.0000 - val_loss: 2.1030 - val_accuracy: 0.8431\n",
            "Epoch 164/500\n",
            "26/26 [==============================] - 0s 5ms/step - loss: 1.7313e-04 - accuracy: 1.0000 - val_loss: 2.1121 - val_accuracy: 0.8431\n",
            "Epoch 165/500\n",
            "26/26 [==============================] - 0s 4ms/step - loss: 1.6515e-04 - accuracy: 1.0000 - val_loss: 2.1158 - val_accuracy: 0.8431\n",
            "Epoch 166/500\n",
            "26/26 [==============================] - 0s 6ms/step - loss: 1.6043e-04 - accuracy: 1.0000 - val_loss: 2.1217 - val_accuracy: 0.8431\n",
            "Epoch 167/500\n",
            "26/26 [==============================] - 0s 5ms/step - loss: 1.5767e-04 - accuracy: 1.0000 - val_loss: 2.1262 - val_accuracy: 0.8431\n",
            "Epoch 168/500\n",
            "26/26 [==============================] - 0s 4ms/step - loss: 1.5382e-04 - accuracy: 1.0000 - val_loss: 2.1341 - val_accuracy: 0.8431\n",
            "Epoch 169/500\n",
            "26/26 [==============================] - 0s 4ms/step - loss: 1.5853e-04 - accuracy: 1.0000 - val_loss: 2.1341 - val_accuracy: 0.8431\n",
            "Epoch 170/500\n",
            "26/26 [==============================] - 0s 5ms/step - loss: 1.5104e-04 - accuracy: 1.0000 - val_loss: 2.1420 - val_accuracy: 0.8431\n",
            "Epoch 171/500\n",
            "26/26 [==============================] - 0s 4ms/step - loss: 1.4496e-04 - accuracy: 1.0000 - val_loss: 2.1489 - val_accuracy: 0.8431\n",
            "Epoch 172/500\n",
            "26/26 [==============================] - 0s 4ms/step - loss: 1.4064e-04 - accuracy: 1.0000 - val_loss: 2.1555 - val_accuracy: 0.8431\n",
            "Epoch 173/500\n",
            "26/26 [==============================] - 0s 4ms/step - loss: 1.3940e-04 - accuracy: 1.0000 - val_loss: 2.1577 - val_accuracy: 0.8431\n",
            "Epoch 174/500\n",
            "26/26 [==============================] - 0s 5ms/step - loss: 1.4000e-04 - accuracy: 1.0000 - val_loss: 2.1650 - val_accuracy: 0.8431\n",
            "Epoch 175/500\n",
            "26/26 [==============================] - 0s 5ms/step - loss: 1.3536e-04 - accuracy: 1.0000 - val_loss: 2.1718 - val_accuracy: 0.8431\n",
            "Epoch 176/500\n",
            "26/26 [==============================] - 0s 4ms/step - loss: 1.3093e-04 - accuracy: 1.0000 - val_loss: 2.1771 - val_accuracy: 0.8431\n",
            "Epoch 177/500\n",
            "26/26 [==============================] - 0s 4ms/step - loss: 1.3047e-04 - accuracy: 1.0000 - val_loss: 2.1825 - val_accuracy: 0.8431\n",
            "Epoch 178/500\n",
            "26/26 [==============================] - 0s 4ms/step - loss: 1.2662e-04 - accuracy: 1.0000 - val_loss: 2.1848 - val_accuracy: 0.8431\n",
            "Epoch 179/500\n",
            "26/26 [==============================] - 0s 5ms/step - loss: 1.2206e-04 - accuracy: 1.0000 - val_loss: 2.1930 - val_accuracy: 0.8431\n",
            "Epoch 180/500\n",
            "26/26 [==============================] - 0s 5ms/step - loss: 1.2513e-04 - accuracy: 1.0000 - val_loss: 2.1977 - val_accuracy: 0.8431\n",
            "Epoch 181/500\n",
            "26/26 [==============================] - 0s 6ms/step - loss: 1.2005e-04 - accuracy: 1.0000 - val_loss: 2.2022 - val_accuracy: 0.8431\n",
            "Epoch 182/500\n",
            "26/26 [==============================] - 0s 5ms/step - loss: 1.1526e-04 - accuracy: 1.0000 - val_loss: 2.2112 - val_accuracy: 0.8431\n",
            "Epoch 183/500\n",
            "26/26 [==============================] - 0s 5ms/step - loss: 1.1318e-04 - accuracy: 1.0000 - val_loss: 2.2109 - val_accuracy: 0.8431\n",
            "Epoch 184/500\n",
            "26/26 [==============================] - 0s 5ms/step - loss: 1.0977e-04 - accuracy: 1.0000 - val_loss: 2.2200 - val_accuracy: 0.8431\n",
            "Epoch 185/500\n",
            "26/26 [==============================] - 0s 4ms/step - loss: 1.0979e-04 - accuracy: 1.0000 - val_loss: 2.2248 - val_accuracy: 0.8431\n",
            "Epoch 186/500\n",
            "26/26 [==============================] - 0s 4ms/step - loss: 1.0559e-04 - accuracy: 1.0000 - val_loss: 2.2306 - val_accuracy: 0.8431\n",
            "Epoch 187/500\n",
            "26/26 [==============================] - 0s 4ms/step - loss: 1.0351e-04 - accuracy: 1.0000 - val_loss: 2.2375 - val_accuracy: 0.8431\n",
            "Epoch 188/500\n",
            "26/26 [==============================] - 0s 4ms/step - loss: 9.9659e-05 - accuracy: 1.0000 - val_loss: 2.2435 - val_accuracy: 0.8431\n",
            "Epoch 189/500\n",
            "26/26 [==============================] - 0s 6ms/step - loss: 1.0085e-04 - accuracy: 1.0000 - val_loss: 2.2447 - val_accuracy: 0.8431\n",
            "Epoch 190/500\n",
            "26/26 [==============================] - 0s 5ms/step - loss: 9.7848e-05 - accuracy: 1.0000 - val_loss: 2.2479 - val_accuracy: 0.8431\n",
            "Epoch 191/500\n",
            "26/26 [==============================] - 0s 5ms/step - loss: 9.4690e-05 - accuracy: 1.0000 - val_loss: 2.2574 - val_accuracy: 0.8431\n",
            "Epoch 192/500\n",
            "26/26 [==============================] - 0s 4ms/step - loss: 9.6358e-05 - accuracy: 1.0000 - val_loss: 2.2590 - val_accuracy: 0.8480\n",
            "Epoch 193/500\n",
            "26/26 [==============================] - 0s 4ms/step - loss: 9.5012e-05 - accuracy: 1.0000 - val_loss: 2.2649 - val_accuracy: 0.8431\n",
            "Epoch 194/500\n",
            "26/26 [==============================] - 0s 5ms/step - loss: 8.8248e-05 - accuracy: 1.0000 - val_loss: 2.2707 - val_accuracy: 0.8431\n",
            "Epoch 195/500\n",
            "26/26 [==============================] - 0s 4ms/step - loss: 8.6930e-05 - accuracy: 1.0000 - val_loss: 2.2743 - val_accuracy: 0.8431\n",
            "Epoch 196/500\n",
            "26/26 [==============================] - 0s 5ms/step - loss: 8.5902e-05 - accuracy: 1.0000 - val_loss: 2.2788 - val_accuracy: 0.8431\n",
            "Epoch 197/500\n",
            "26/26 [==============================] - 0s 6ms/step - loss: 8.3878e-05 - accuracy: 1.0000 - val_loss: 2.2853 - val_accuracy: 0.8431\n",
            "Epoch 198/500\n",
            "26/26 [==============================] - 0s 4ms/step - loss: 8.3237e-05 - accuracy: 1.0000 - val_loss: 2.2909 - val_accuracy: 0.8431\n",
            "Epoch 199/500\n",
            "26/26 [==============================] - 0s 5ms/step - loss: 7.9971e-05 - accuracy: 1.0000 - val_loss: 2.2953 - val_accuracy: 0.8480\n",
            "Epoch 200/500\n",
            "26/26 [==============================] - 0s 5ms/step - loss: 7.7448e-05 - accuracy: 1.0000 - val_loss: 2.3033 - val_accuracy: 0.8431\n",
            "Epoch 201/500\n",
            "26/26 [==============================] - 0s 5ms/step - loss: 7.7052e-05 - accuracy: 1.0000 - val_loss: 2.3031 - val_accuracy: 0.8480\n",
            "Epoch 202/500\n",
            "26/26 [==============================] - 0s 5ms/step - loss: 7.6827e-05 - accuracy: 1.0000 - val_loss: 2.3093 - val_accuracy: 0.8431\n",
            "Epoch 203/500\n",
            "26/26 [==============================] - 0s 4ms/step - loss: 7.3386e-05 - accuracy: 1.0000 - val_loss: 2.3143 - val_accuracy: 0.8480\n",
            "Epoch 204/500\n",
            "26/26 [==============================] - 0s 5ms/step - loss: 7.1855e-05 - accuracy: 1.0000 - val_loss: 2.3204 - val_accuracy: 0.8431\n",
            "Epoch 205/500\n",
            "26/26 [==============================] - 0s 4ms/step - loss: 7.0539e-05 - accuracy: 1.0000 - val_loss: 2.3199 - val_accuracy: 0.8480\n",
            "Epoch 206/500\n",
            "26/26 [==============================] - 0s 5ms/step - loss: 7.0831e-05 - accuracy: 1.0000 - val_loss: 2.3278 - val_accuracy: 0.8431\n",
            "Epoch 207/500\n",
            "26/26 [==============================] - 0s 4ms/step - loss: 7.1001e-05 - accuracy: 1.0000 - val_loss: 2.3351 - val_accuracy: 0.8431\n",
            "Epoch 208/500\n",
            "26/26 [==============================] - 0s 5ms/step - loss: 6.8523e-05 - accuracy: 1.0000 - val_loss: 2.3358 - val_accuracy: 0.8480\n",
            "Epoch 209/500\n",
            "26/26 [==============================] - 0s 4ms/step - loss: 6.5021e-05 - accuracy: 1.0000 - val_loss: 2.3447 - val_accuracy: 0.8431\n",
            "Epoch 210/500\n",
            "26/26 [==============================] - 0s 4ms/step - loss: 6.4855e-05 - accuracy: 1.0000 - val_loss: 2.3460 - val_accuracy: 0.8480\n",
            "Epoch 211/500\n",
            "26/26 [==============================] - 0s 5ms/step - loss: 6.2995e-05 - accuracy: 1.0000 - val_loss: 2.3505 - val_accuracy: 0.8431\n",
            "Epoch 212/500\n",
            "26/26 [==============================] - 0s 6ms/step - loss: 6.2942e-05 - accuracy: 1.0000 - val_loss: 2.3534 - val_accuracy: 0.8480\n",
            "Epoch 213/500\n",
            "26/26 [==============================] - 0s 5ms/step - loss: 6.1606e-05 - accuracy: 1.0000 - val_loss: 2.3574 - val_accuracy: 0.8480\n",
            "Epoch 214/500\n",
            "26/26 [==============================] - 0s 5ms/step - loss: 6.0084e-05 - accuracy: 1.0000 - val_loss: 2.3619 - val_accuracy: 0.8480\n",
            "Epoch 215/500\n",
            "26/26 [==============================] - 0s 4ms/step - loss: 5.8747e-05 - accuracy: 1.0000 - val_loss: 2.3696 - val_accuracy: 0.8480\n",
            "Epoch 216/500\n",
            "26/26 [==============================] - 0s 4ms/step - loss: 5.7423e-05 - accuracy: 1.0000 - val_loss: 2.3737 - val_accuracy: 0.8431\n",
            "Epoch 217/500\n",
            "26/26 [==============================] - 0s 5ms/step - loss: 5.6136e-05 - accuracy: 1.0000 - val_loss: 2.3769 - val_accuracy: 0.8480\n",
            "Epoch 218/500\n",
            "26/26 [==============================] - 0s 5ms/step - loss: 5.5306e-05 - accuracy: 1.0000 - val_loss: 2.3837 - val_accuracy: 0.8431\n",
            "Epoch 219/500\n",
            "26/26 [==============================] - 0s 5ms/step - loss: 5.5230e-05 - accuracy: 1.0000 - val_loss: 2.3863 - val_accuracy: 0.8480\n",
            "Epoch 220/500\n",
            "26/26 [==============================] - 0s 5ms/step - loss: 5.2902e-05 - accuracy: 1.0000 - val_loss: 2.3911 - val_accuracy: 0.8480\n",
            "Epoch 221/500\n",
            "26/26 [==============================] - 0s 18ms/step - loss: 5.1615e-05 - accuracy: 1.0000 - val_loss: 2.3966 - val_accuracy: 0.8431\n",
            "Epoch 222/500\n",
            "26/26 [==============================] - 0s 10ms/step - loss: 5.0866e-05 - accuracy: 1.0000 - val_loss: 2.3968 - val_accuracy: 0.8480\n",
            "Epoch 223/500\n",
            "26/26 [==============================] - 0s 11ms/step - loss: 5.0619e-05 - accuracy: 1.0000 - val_loss: 2.4016 - val_accuracy: 0.8480\n",
            "Epoch 224/500\n",
            "26/26 [==============================] - 0s 5ms/step - loss: 4.8428e-05 - accuracy: 1.0000 - val_loss: 2.4114 - val_accuracy: 0.8480\n",
            "Epoch 225/500\n",
            "26/26 [==============================] - 0s 5ms/step - loss: 4.9100e-05 - accuracy: 1.0000 - val_loss: 2.4134 - val_accuracy: 0.8480\n",
            "Epoch 226/500\n",
            "26/26 [==============================] - 0s 5ms/step - loss: 4.8877e-05 - accuracy: 1.0000 - val_loss: 2.4182 - val_accuracy: 0.8480\n",
            "Epoch 227/500\n",
            "26/26 [==============================] - 0s 5ms/step - loss: 4.6735e-05 - accuracy: 1.0000 - val_loss: 2.4185 - val_accuracy: 0.8480\n",
            "Epoch 228/500\n",
            "26/26 [==============================] - 0s 4ms/step - loss: 4.5164e-05 - accuracy: 1.0000 - val_loss: 2.4294 - val_accuracy: 0.8480\n",
            "Epoch 229/500\n",
            "26/26 [==============================] - 0s 5ms/step - loss: 4.4470e-05 - accuracy: 1.0000 - val_loss: 2.4303 - val_accuracy: 0.8480\n",
            "Epoch 230/500\n",
            "26/26 [==============================] - 0s 6ms/step - loss: 4.3644e-05 - accuracy: 1.0000 - val_loss: 2.4356 - val_accuracy: 0.8480\n",
            "Epoch 231/500\n",
            "26/26 [==============================] - 0s 4ms/step - loss: 4.3053e-05 - accuracy: 1.0000 - val_loss: 2.4399 - val_accuracy: 0.8480\n",
            "Epoch 232/500\n",
            "26/26 [==============================] - 0s 4ms/step - loss: 4.2816e-05 - accuracy: 1.0000 - val_loss: 2.4459 - val_accuracy: 0.8480\n",
            "Epoch 233/500\n",
            "26/26 [==============================] - 0s 6ms/step - loss: 4.1943e-05 - accuracy: 1.0000 - val_loss: 2.4469 - val_accuracy: 0.8480\n",
            "Epoch 234/500\n",
            "26/26 [==============================] - 0s 7ms/step - loss: 4.1698e-05 - accuracy: 1.0000 - val_loss: 2.4518 - val_accuracy: 0.8480\n",
            "Epoch 235/500\n",
            "26/26 [==============================] - 0s 10ms/step - loss: 3.9340e-05 - accuracy: 1.0000 - val_loss: 2.4607 - val_accuracy: 0.8480\n",
            "Epoch 236/500\n",
            "26/26 [==============================] - 0s 7ms/step - loss: 3.8703e-05 - accuracy: 1.0000 - val_loss: 2.4622 - val_accuracy: 0.8480\n",
            "Epoch 237/500\n",
            "26/26 [==============================] - 0s 6ms/step - loss: 3.8539e-05 - accuracy: 1.0000 - val_loss: 2.4662 - val_accuracy: 0.8480\n",
            "Epoch 238/500\n",
            "26/26 [==============================] - 0s 8ms/step - loss: 3.8387e-05 - accuracy: 1.0000 - val_loss: 2.4676 - val_accuracy: 0.8480\n",
            "Epoch 239/500\n",
            "26/26 [==============================] - 0s 7ms/step - loss: 3.7265e-05 - accuracy: 1.0000 - val_loss: 2.4740 - val_accuracy: 0.8480\n",
            "Epoch 240/500\n",
            "26/26 [==============================] - 0s 7ms/step - loss: 3.6977e-05 - accuracy: 1.0000 - val_loss: 2.4793 - val_accuracy: 0.8480\n",
            "Epoch 241/500\n",
            "26/26 [==============================] - 0s 10ms/step - loss: 3.5204e-05 - accuracy: 1.0000 - val_loss: 2.4820 - val_accuracy: 0.8480\n",
            "Epoch 242/500\n",
            "26/26 [==============================] - 0s 7ms/step - loss: 3.4534e-05 - accuracy: 1.0000 - val_loss: 2.4898 - val_accuracy: 0.8480\n",
            "Epoch 243/500\n",
            "26/26 [==============================] - 0s 7ms/step - loss: 3.4382e-05 - accuracy: 1.0000 - val_loss: 2.4914 - val_accuracy: 0.8480\n",
            "Epoch 244/500\n",
            "26/26 [==============================] - 0s 7ms/step - loss: 3.3419e-05 - accuracy: 1.0000 - val_loss: 2.4966 - val_accuracy: 0.8480\n",
            "Epoch 245/500\n",
            "26/26 [==============================] - 0s 7ms/step - loss: 3.2913e-05 - accuracy: 1.0000 - val_loss: 2.5014 - val_accuracy: 0.8480\n",
            "Epoch 246/500\n",
            "26/26 [==============================] - 0s 8ms/step - loss: 3.2481e-05 - accuracy: 1.0000 - val_loss: 2.5043 - val_accuracy: 0.8480\n",
            "Epoch 247/500\n",
            "26/26 [==============================] - 0s 6ms/step - loss: 3.1308e-05 - accuracy: 1.0000 - val_loss: 2.5109 - val_accuracy: 0.8480\n",
            "Epoch 248/500\n",
            "26/26 [==============================] - 0s 6ms/step - loss: 3.1370e-05 - accuracy: 1.0000 - val_loss: 2.5125 - val_accuracy: 0.8480\n",
            "Epoch 249/500\n",
            "26/26 [==============================] - 0s 8ms/step - loss: 3.0556e-05 - accuracy: 1.0000 - val_loss: 2.5181 - val_accuracy: 0.8480\n",
            "Epoch 250/500\n",
            "26/26 [==============================] - 0s 9ms/step - loss: 3.0536e-05 - accuracy: 1.0000 - val_loss: 2.5215 - val_accuracy: 0.8480\n",
            "Epoch 251/500\n",
            "26/26 [==============================] - 0s 7ms/step - loss: 2.9727e-05 - accuracy: 1.0000 - val_loss: 2.5292 - val_accuracy: 0.8480\n",
            "Epoch 252/500\n",
            "26/26 [==============================] - 0s 4ms/step - loss: 2.9511e-05 - accuracy: 1.0000 - val_loss: 2.5288 - val_accuracy: 0.8480\n",
            "Epoch 253/500\n",
            "26/26 [==============================] - 0s 4ms/step - loss: 2.8954e-05 - accuracy: 1.0000 - val_loss: 2.5353 - val_accuracy: 0.8480\n",
            "Epoch 254/500\n",
            "26/26 [==============================] - 0s 4ms/step - loss: 2.7858e-05 - accuracy: 1.0000 - val_loss: 2.5376 - val_accuracy: 0.8480\n",
            "Epoch 255/500\n",
            "26/26 [==============================] - 0s 5ms/step - loss: 2.7556e-05 - accuracy: 1.0000 - val_loss: 2.5426 - val_accuracy: 0.8480\n",
            "Epoch 256/500\n",
            "26/26 [==============================] - 0s 5ms/step - loss: 2.7040e-05 - accuracy: 1.0000 - val_loss: 2.5470 - val_accuracy: 0.8480\n",
            "Epoch 257/500\n",
            "26/26 [==============================] - 0s 5ms/step - loss: 2.6377e-05 - accuracy: 1.0000 - val_loss: 2.5524 - val_accuracy: 0.8480\n",
            "Epoch 258/500\n",
            "26/26 [==============================] - 0s 5ms/step - loss: 2.6103e-05 - accuracy: 1.0000 - val_loss: 2.5586 - val_accuracy: 0.8480\n",
            "Epoch 259/500\n",
            "26/26 [==============================] - 0s 5ms/step - loss: 2.5375e-05 - accuracy: 1.0000 - val_loss: 2.5618 - val_accuracy: 0.8480\n",
            "Epoch 260/500\n",
            "26/26 [==============================] - 0s 4ms/step - loss: 2.5513e-05 - accuracy: 1.0000 - val_loss: 2.5626 - val_accuracy: 0.8480\n",
            "Epoch 261/500\n",
            "26/26 [==============================] - 0s 5ms/step - loss: 2.5059e-05 - accuracy: 1.0000 - val_loss: 2.5679 - val_accuracy: 0.8480\n",
            "Epoch 262/500\n",
            "26/26 [==============================] - 0s 4ms/step - loss: 2.4462e-05 - accuracy: 1.0000 - val_loss: 2.5719 - val_accuracy: 0.8480\n",
            "Epoch 263/500\n",
            "26/26 [==============================] - 0s 5ms/step - loss: 2.3981e-05 - accuracy: 1.0000 - val_loss: 2.5787 - val_accuracy: 0.8480\n",
            "Epoch 264/500\n",
            "26/26 [==============================] - 0s 5ms/step - loss: 2.3235e-05 - accuracy: 1.0000 - val_loss: 2.5800 - val_accuracy: 0.8480\n",
            "Epoch 265/500\n",
            "26/26 [==============================] - 0s 5ms/step - loss: 2.2775e-05 - accuracy: 1.0000 - val_loss: 2.5881 - val_accuracy: 0.8480\n",
            "Epoch 266/500\n",
            "26/26 [==============================] - 0s 4ms/step - loss: 2.2792e-05 - accuracy: 1.0000 - val_loss: 2.5930 - val_accuracy: 0.8480\n",
            "Epoch 267/500\n",
            "26/26 [==============================] - 0s 5ms/step - loss: 2.2610e-05 - accuracy: 1.0000 - val_loss: 2.5934 - val_accuracy: 0.8480\n",
            "Epoch 268/500\n",
            "26/26 [==============================] - 0s 5ms/step - loss: 2.1637e-05 - accuracy: 1.0000 - val_loss: 2.5989 - val_accuracy: 0.8480\n",
            "Epoch 269/500\n",
            "26/26 [==============================] - 0s 5ms/step - loss: 2.1365e-05 - accuracy: 1.0000 - val_loss: 2.6021 - val_accuracy: 0.8480\n",
            "Epoch 270/500\n",
            "26/26 [==============================] - 0s 5ms/step - loss: 2.1014e-05 - accuracy: 1.0000 - val_loss: 2.6066 - val_accuracy: 0.8480\n",
            "Epoch 271/500\n",
            "26/26 [==============================] - 0s 5ms/step - loss: 2.0699e-05 - accuracy: 1.0000 - val_loss: 2.6103 - val_accuracy: 0.8480\n",
            "Epoch 272/500\n",
            "26/26 [==============================] - 0s 6ms/step - loss: 2.0378e-05 - accuracy: 1.0000 - val_loss: 2.6164 - val_accuracy: 0.8480\n",
            "Epoch 273/500\n",
            "26/26 [==============================] - 0s 5ms/step - loss: 2.0002e-05 - accuracy: 1.0000 - val_loss: 2.6225 - val_accuracy: 0.8480\n",
            "Epoch 274/500\n",
            "26/26 [==============================] - 0s 4ms/step - loss: 1.9793e-05 - accuracy: 1.0000 - val_loss: 2.6226 - val_accuracy: 0.8480\n",
            "Epoch 275/500\n",
            "26/26 [==============================] - 0s 5ms/step - loss: 1.9525e-05 - accuracy: 1.0000 - val_loss: 2.6306 - val_accuracy: 0.8480\n",
            "Epoch 276/500\n",
            "26/26 [==============================] - 0s 5ms/step - loss: 1.9217e-05 - accuracy: 1.0000 - val_loss: 2.6330 - val_accuracy: 0.8480\n",
            "Epoch 277/500\n",
            "26/26 [==============================] - 0s 5ms/step - loss: 1.8530e-05 - accuracy: 1.0000 - val_loss: 2.6361 - val_accuracy: 0.8480\n",
            "Epoch 278/500\n",
            "26/26 [==============================] - 0s 6ms/step - loss: 1.8357e-05 - accuracy: 1.0000 - val_loss: 2.6423 - val_accuracy: 0.8480\n",
            "Epoch 279/500\n",
            "26/26 [==============================] - 0s 6ms/step - loss: 1.8178e-05 - accuracy: 1.0000 - val_loss: 2.6439 - val_accuracy: 0.8480\n",
            "Epoch 280/500\n",
            "26/26 [==============================] - 0s 5ms/step - loss: 1.7810e-05 - accuracy: 1.0000 - val_loss: 2.6492 - val_accuracy: 0.8480\n",
            "Epoch 281/500\n",
            "26/26 [==============================] - 0s 5ms/step - loss: 1.7493e-05 - accuracy: 1.0000 - val_loss: 2.6537 - val_accuracy: 0.8480\n",
            "Epoch 282/500\n",
            "26/26 [==============================] - 0s 4ms/step - loss: 1.7268e-05 - accuracy: 1.0000 - val_loss: 2.6588 - val_accuracy: 0.8480\n",
            "Epoch 283/500\n",
            "26/26 [==============================] - 0s 5ms/step - loss: 1.6718e-05 - accuracy: 1.0000 - val_loss: 2.6603 - val_accuracy: 0.8480\n",
            "Epoch 284/500\n",
            "26/26 [==============================] - 0s 4ms/step - loss: 1.6543e-05 - accuracy: 1.0000 - val_loss: 2.6677 - val_accuracy: 0.8480\n",
            "Epoch 285/500\n",
            "26/26 [==============================] - 0s 5ms/step - loss: 1.6396e-05 - accuracy: 1.0000 - val_loss: 2.6691 - val_accuracy: 0.8480\n",
            "Epoch 286/500\n",
            "26/26 [==============================] - 0s 6ms/step - loss: 1.5941e-05 - accuracy: 1.0000 - val_loss: 2.6725 - val_accuracy: 0.8480\n",
            "Epoch 287/500\n",
            "26/26 [==============================] - 0s 5ms/step - loss: 1.5790e-05 - accuracy: 1.0000 - val_loss: 2.6763 - val_accuracy: 0.8480\n",
            "Epoch 288/500\n",
            "26/26 [==============================] - 0s 4ms/step - loss: 1.5849e-05 - accuracy: 1.0000 - val_loss: 2.6800 - val_accuracy: 0.8480\n",
            "Epoch 289/500\n",
            "26/26 [==============================] - 0s 5ms/step - loss: 1.5210e-05 - accuracy: 1.0000 - val_loss: 2.6875 - val_accuracy: 0.8480\n",
            "Epoch 290/500\n",
            "26/26 [==============================] - 0s 5ms/step - loss: 1.4945e-05 - accuracy: 1.0000 - val_loss: 2.6925 - val_accuracy: 0.8480\n",
            "Epoch 291/500\n",
            "26/26 [==============================] - 0s 5ms/step - loss: 1.4957e-05 - accuracy: 1.0000 - val_loss: 2.6916 - val_accuracy: 0.8480\n",
            "Epoch 292/500\n",
            "26/26 [==============================] - 0s 5ms/step - loss: 1.4485e-05 - accuracy: 1.0000 - val_loss: 2.6992 - val_accuracy: 0.8480\n",
            "Epoch 293/500\n",
            "26/26 [==============================] - 0s 6ms/step - loss: 1.4107e-05 - accuracy: 1.0000 - val_loss: 2.7024 - val_accuracy: 0.8480\n",
            "Epoch 294/500\n",
            "26/26 [==============================] - 0s 5ms/step - loss: 1.4158e-05 - accuracy: 1.0000 - val_loss: 2.7070 - val_accuracy: 0.8480\n",
            "Epoch 295/500\n",
            "26/26 [==============================] - 0s 4ms/step - loss: 1.3778e-05 - accuracy: 1.0000 - val_loss: 2.7147 - val_accuracy: 0.8480\n",
            "Epoch 296/500\n",
            "26/26 [==============================] - 0s 5ms/step - loss: 1.3472e-05 - accuracy: 1.0000 - val_loss: 2.7157 - val_accuracy: 0.8480\n",
            "Epoch 297/500\n",
            "26/26 [==============================] - 0s 4ms/step - loss: 1.3349e-05 - accuracy: 1.0000 - val_loss: 2.7228 - val_accuracy: 0.8480\n",
            "Epoch 298/500\n",
            "26/26 [==============================] - 0s 4ms/step - loss: 1.3357e-05 - accuracy: 1.0000 - val_loss: 2.7227 - val_accuracy: 0.8480\n",
            "Epoch 299/500\n",
            "26/26 [==============================] - 0s 5ms/step - loss: 1.2961e-05 - accuracy: 1.0000 - val_loss: 2.7259 - val_accuracy: 0.8480\n",
            "Epoch 300/500\n",
            "26/26 [==============================] - 0s 5ms/step - loss: 1.2846e-05 - accuracy: 1.0000 - val_loss: 2.7327 - val_accuracy: 0.8480\n",
            "Epoch 301/500\n",
            "26/26 [==============================] - 0s 6ms/step - loss: 1.2454e-05 - accuracy: 1.0000 - val_loss: 2.7351 - val_accuracy: 0.8480\n",
            "Epoch 302/500\n",
            "26/26 [==============================] - 0s 5ms/step - loss: 1.2334e-05 - accuracy: 1.0000 - val_loss: 2.7382 - val_accuracy: 0.8480\n",
            "Epoch 303/500\n",
            "26/26 [==============================] - 0s 5ms/step - loss: 1.2111e-05 - accuracy: 1.0000 - val_loss: 2.7460 - val_accuracy: 0.8480\n",
            "Epoch 304/500\n",
            "26/26 [==============================] - 0s 5ms/step - loss: 1.1872e-05 - accuracy: 1.0000 - val_loss: 2.7486 - val_accuracy: 0.8480\n",
            "Epoch 305/500\n",
            "26/26 [==============================] - 0s 5ms/step - loss: 1.1656e-05 - accuracy: 1.0000 - val_loss: 2.7525 - val_accuracy: 0.8480\n",
            "Epoch 306/500\n",
            "26/26 [==============================] - 0s 5ms/step - loss: 1.1473e-05 - accuracy: 1.0000 - val_loss: 2.7515 - val_accuracy: 0.8480\n",
            "Epoch 307/500\n",
            "26/26 [==============================] - 0s 5ms/step - loss: 1.1505e-05 - accuracy: 1.0000 - val_loss: 2.7578 - val_accuracy: 0.8480\n",
            "Epoch 308/500\n",
            "26/26 [==============================] - 0s 7ms/step - loss: 1.1319e-05 - accuracy: 1.0000 - val_loss: 2.7639 - val_accuracy: 0.8480\n",
            "Epoch 309/500\n",
            "26/26 [==============================] - 0s 5ms/step - loss: 1.1050e-05 - accuracy: 1.0000 - val_loss: 2.7659 - val_accuracy: 0.8480\n",
            "Epoch 310/500\n",
            "26/26 [==============================] - 0s 5ms/step - loss: 1.0950e-05 - accuracy: 1.0000 - val_loss: 2.7672 - val_accuracy: 0.8480\n",
            "Epoch 311/500\n",
            "26/26 [==============================] - 0s 4ms/step - loss: 1.0932e-05 - accuracy: 1.0000 - val_loss: 2.7792 - val_accuracy: 0.8480\n",
            "Epoch 312/500\n",
            "26/26 [==============================] - 0s 5ms/step - loss: 1.0376e-05 - accuracy: 1.0000 - val_loss: 2.7801 - val_accuracy: 0.8480\n",
            "Epoch 313/500\n",
            "26/26 [==============================] - 0s 5ms/step - loss: 1.0146e-05 - accuracy: 1.0000 - val_loss: 2.7827 - val_accuracy: 0.8480\n",
            "Epoch 314/500\n",
            "26/26 [==============================] - 0s 5ms/step - loss: 1.0090e-05 - accuracy: 1.0000 - val_loss: 2.7875 - val_accuracy: 0.8480\n",
            "Epoch 315/500\n",
            "26/26 [==============================] - 0s 6ms/step - loss: 9.9532e-06 - accuracy: 1.0000 - val_loss: 2.7936 - val_accuracy: 0.8480\n",
            "Epoch 316/500\n",
            "26/26 [==============================] - 0s 7ms/step - loss: 9.7682e-06 - accuracy: 1.0000 - val_loss: 2.7950 - val_accuracy: 0.8480\n",
            "Epoch 317/500\n",
            "26/26 [==============================] - 0s 5ms/step - loss: 9.6663e-06 - accuracy: 1.0000 - val_loss: 2.8003 - val_accuracy: 0.8480\n",
            "Epoch 318/500\n",
            "26/26 [==============================] - 0s 5ms/step - loss: 9.4456e-06 - accuracy: 1.0000 - val_loss: 2.8051 - val_accuracy: 0.8480\n",
            "Epoch 319/500\n",
            "26/26 [==============================] - 0s 5ms/step - loss: 9.7680e-06 - accuracy: 1.0000 - val_loss: 2.8027 - val_accuracy: 0.8480\n",
            "Epoch 320/500\n",
            "26/26 [==============================] - 0s 5ms/step - loss: 9.2063e-06 - accuracy: 1.0000 - val_loss: 2.8098 - val_accuracy: 0.8480\n",
            "Epoch 321/500\n",
            "26/26 [==============================] - 0s 4ms/step - loss: 9.1004e-06 - accuracy: 1.0000 - val_loss: 2.8166 - val_accuracy: 0.8480\n",
            "Epoch 322/500\n",
            "26/26 [==============================] - 0s 5ms/step - loss: 8.7726e-06 - accuracy: 1.0000 - val_loss: 2.8214 - val_accuracy: 0.8480\n",
            "Epoch 323/500\n",
            "26/26 [==============================] - 0s 7ms/step - loss: 8.5988e-06 - accuracy: 1.0000 - val_loss: 2.8250 - val_accuracy: 0.8480\n",
            "Epoch 324/500\n",
            "26/26 [==============================] - 0s 6ms/step - loss: 8.4709e-06 - accuracy: 1.0000 - val_loss: 2.8272 - val_accuracy: 0.8480\n",
            "Epoch 325/500\n",
            "26/26 [==============================] - 0s 7ms/step - loss: 8.3261e-06 - accuracy: 1.0000 - val_loss: 2.8310 - val_accuracy: 0.8480\n",
            "Epoch 326/500\n",
            "26/26 [==============================] - 0s 8ms/step - loss: 8.1746e-06 - accuracy: 1.0000 - val_loss: 2.8378 - val_accuracy: 0.8480\n",
            "Epoch 327/500\n",
            "26/26 [==============================] - 0s 7ms/step - loss: 8.1180e-06 - accuracy: 1.0000 - val_loss: 2.8400 - val_accuracy: 0.8480\n",
            "Epoch 328/500\n",
            "26/26 [==============================] - 0s 9ms/step - loss: 7.9143e-06 - accuracy: 1.0000 - val_loss: 2.8466 - val_accuracy: 0.8480\n",
            "Epoch 329/500\n",
            "26/26 [==============================] - 0s 7ms/step - loss: 7.9090e-06 - accuracy: 1.0000 - val_loss: 2.8452 - val_accuracy: 0.8480\n",
            "Epoch 330/500\n",
            "26/26 [==============================] - 0s 6ms/step - loss: 7.6965e-06 - accuracy: 1.0000 - val_loss: 2.8511 - val_accuracy: 0.8480\n",
            "Epoch 331/500\n",
            "26/26 [==============================] - 0s 6ms/step - loss: 7.5783e-06 - accuracy: 1.0000 - val_loss: 2.8536 - val_accuracy: 0.8480\n",
            "Epoch 332/500\n",
            "26/26 [==============================] - 0s 6ms/step - loss: 7.5629e-06 - accuracy: 1.0000 - val_loss: 2.8587 - val_accuracy: 0.8480\n",
            "Epoch 333/500\n",
            "26/26 [==============================] - 0s 8ms/step - loss: 7.3735e-06 - accuracy: 1.0000 - val_loss: 2.8615 - val_accuracy: 0.8480\n",
            "Epoch 334/500\n",
            "26/26 [==============================] - 0s 7ms/step - loss: 7.2185e-06 - accuracy: 1.0000 - val_loss: 2.8645 - val_accuracy: 0.8480\n",
            "Epoch 335/500\n",
            "26/26 [==============================] - 0s 7ms/step - loss: 7.0664e-06 - accuracy: 1.0000 - val_loss: 2.8701 - val_accuracy: 0.8480\n",
            "Epoch 336/500\n",
            "26/26 [==============================] - 0s 6ms/step - loss: 7.0337e-06 - accuracy: 1.0000 - val_loss: 2.8727 - val_accuracy: 0.8480\n",
            "Epoch 337/500\n",
            "26/26 [==============================] - 0s 7ms/step - loss: 7.0089e-06 - accuracy: 1.0000 - val_loss: 2.8757 - val_accuracy: 0.8480\n",
            "Epoch 338/500\n",
            "26/26 [==============================] - 0s 7ms/step - loss: 6.8260e-06 - accuracy: 1.0000 - val_loss: 2.8827 - val_accuracy: 0.8480\n",
            "Epoch 339/500\n",
            "26/26 [==============================] - 0s 7ms/step - loss: 6.7603e-06 - accuracy: 1.0000 - val_loss: 2.8874 - val_accuracy: 0.8480\n",
            "Epoch 340/500\n",
            "26/26 [==============================] - 0s 7ms/step - loss: 6.7092e-06 - accuracy: 1.0000 - val_loss: 2.8928 - val_accuracy: 0.8480\n",
            "Epoch 341/500\n",
            "26/26 [==============================] - 0s 7ms/step - loss: 6.5571e-06 - accuracy: 1.0000 - val_loss: 2.8973 - val_accuracy: 0.8480\n",
            "Epoch 342/500\n",
            "26/26 [==============================] - 0s 8ms/step - loss: 6.4073e-06 - accuracy: 1.0000 - val_loss: 2.8966 - val_accuracy: 0.8480\n",
            "Epoch 343/500\n",
            "26/26 [==============================] - 0s 7ms/step - loss: 6.2676e-06 - accuracy: 1.0000 - val_loss: 2.8993 - val_accuracy: 0.8480\n",
            "Epoch 344/500\n",
            "26/26 [==============================] - 0s 7ms/step - loss: 6.1737e-06 - accuracy: 1.0000 - val_loss: 2.9068 - val_accuracy: 0.8480\n",
            "Epoch 345/500\n",
            "26/26 [==============================] - 0s 8ms/step - loss: 6.1762e-06 - accuracy: 1.0000 - val_loss: 2.9084 - val_accuracy: 0.8480\n",
            "Epoch 346/500\n",
            "26/26 [==============================] - 0s 5ms/step - loss: 5.8912e-06 - accuracy: 1.0000 - val_loss: 2.9121 - val_accuracy: 0.8480\n",
            "Epoch 347/500\n",
            "26/26 [==============================] - 0s 4ms/step - loss: 5.8389e-06 - accuracy: 1.0000 - val_loss: 2.9162 - val_accuracy: 0.8480\n",
            "Epoch 348/500\n",
            "26/26 [==============================] - 0s 5ms/step - loss: 5.8637e-06 - accuracy: 1.0000 - val_loss: 2.9150 - val_accuracy: 0.8480\n",
            "Epoch 349/500\n",
            "26/26 [==============================] - 0s 5ms/step - loss: 5.6622e-06 - accuracy: 1.0000 - val_loss: 2.9276 - val_accuracy: 0.8480\n",
            "Epoch 350/500\n",
            "26/26 [==============================] - 0s 6ms/step - loss: 5.5316e-06 - accuracy: 1.0000 - val_loss: 2.9289 - val_accuracy: 0.8480\n",
            "Epoch 351/500\n",
            "26/26 [==============================] - 0s 5ms/step - loss: 5.4223e-06 - accuracy: 1.0000 - val_loss: 2.9309 - val_accuracy: 0.8480\n",
            "Epoch 352/500\n",
            "26/26 [==============================] - 0s 5ms/step - loss: 5.4049e-06 - accuracy: 1.0000 - val_loss: 2.9360 - val_accuracy: 0.8480\n",
            "Epoch 353/500\n",
            "26/26 [==============================] - 0s 5ms/step - loss: 5.2418e-06 - accuracy: 1.0000 - val_loss: 2.9396 - val_accuracy: 0.8480\n",
            "Epoch 354/500\n",
            "26/26 [==============================] - 0s 5ms/step - loss: 5.2701e-06 - accuracy: 1.0000 - val_loss: 2.9425 - val_accuracy: 0.8480\n",
            "Epoch 355/500\n",
            "26/26 [==============================] - 0s 5ms/step - loss: 5.2223e-06 - accuracy: 1.0000 - val_loss: 2.9500 - val_accuracy: 0.8480\n",
            "Epoch 356/500\n",
            "26/26 [==============================] - 0s 5ms/step - loss: 5.0662e-06 - accuracy: 1.0000 - val_loss: 2.9508 - val_accuracy: 0.8480\n",
            "Epoch 357/500\n",
            "26/26 [==============================] - 0s 6ms/step - loss: 4.9396e-06 - accuracy: 1.0000 - val_loss: 2.9547 - val_accuracy: 0.8480\n",
            "Epoch 358/500\n",
            "26/26 [==============================] - 0s 5ms/step - loss: 4.9460e-06 - accuracy: 1.0000 - val_loss: 2.9581 - val_accuracy: 0.8480\n",
            "Epoch 359/500\n",
            "26/26 [==============================] - 0s 5ms/step - loss: 4.8645e-06 - accuracy: 1.0000 - val_loss: 2.9627 - val_accuracy: 0.8480\n",
            "Epoch 360/500\n",
            "26/26 [==============================] - 0s 5ms/step - loss: 4.7444e-06 - accuracy: 1.0000 - val_loss: 2.9675 - val_accuracy: 0.8480\n",
            "Epoch 361/500\n",
            "26/26 [==============================] - 0s 5ms/step - loss: 4.6885e-06 - accuracy: 1.0000 - val_loss: 2.9689 - val_accuracy: 0.8480\n",
            "Epoch 362/500\n",
            "26/26 [==============================] - 0s 5ms/step - loss: 4.6873e-06 - accuracy: 1.0000 - val_loss: 2.9725 - val_accuracy: 0.8480\n",
            "Epoch 363/500\n",
            "26/26 [==============================] - 0s 5ms/step - loss: 4.5548e-06 - accuracy: 1.0000 - val_loss: 2.9771 - val_accuracy: 0.8480\n",
            "Epoch 364/500\n",
            "26/26 [==============================] - 0s 6ms/step - loss: 4.4407e-06 - accuracy: 1.0000 - val_loss: 2.9820 - val_accuracy: 0.8480\n",
            "Epoch 365/500\n",
            "26/26 [==============================] - 0s 5ms/step - loss: 4.3478e-06 - accuracy: 1.0000 - val_loss: 2.9850 - val_accuracy: 0.8480\n",
            "Epoch 366/500\n",
            "26/26 [==============================] - 0s 4ms/step - loss: 4.2820e-06 - accuracy: 1.0000 - val_loss: 2.9908 - val_accuracy: 0.8480\n",
            "Epoch 367/500\n",
            "26/26 [==============================] - 0s 5ms/step - loss: 4.2030e-06 - accuracy: 1.0000 - val_loss: 2.9930 - val_accuracy: 0.8480\n",
            "Epoch 368/500\n",
            "26/26 [==============================] - 0s 4ms/step - loss: 4.1607e-06 - accuracy: 1.0000 - val_loss: 2.9949 - val_accuracy: 0.8480\n",
            "Epoch 369/500\n",
            "26/26 [==============================] - 0s 5ms/step - loss: 4.2912e-06 - accuracy: 1.0000 - val_loss: 3.0016 - val_accuracy: 0.8480\n",
            "Epoch 370/500\n",
            "26/26 [==============================] - 0s 4ms/step - loss: 4.1438e-06 - accuracy: 1.0000 - val_loss: 3.0023 - val_accuracy: 0.8480\n",
            "Epoch 371/500\n",
            "26/26 [==============================] - 0s 5ms/step - loss: 3.9486e-06 - accuracy: 1.0000 - val_loss: 3.0072 - val_accuracy: 0.8480\n",
            "Epoch 372/500\n",
            "26/26 [==============================] - 0s 6ms/step - loss: 3.9328e-06 - accuracy: 1.0000 - val_loss: 3.0098 - val_accuracy: 0.8480\n",
            "Epoch 373/500\n",
            "26/26 [==============================] - 0s 5ms/step - loss: 3.8287e-06 - accuracy: 1.0000 - val_loss: 3.0163 - val_accuracy: 0.8480\n",
            "Epoch 374/500\n",
            "26/26 [==============================] - 0s 4ms/step - loss: 3.8023e-06 - accuracy: 1.0000 - val_loss: 3.0182 - val_accuracy: 0.8480\n",
            "Epoch 375/500\n",
            "26/26 [==============================] - 0s 5ms/step - loss: 3.7924e-06 - accuracy: 1.0000 - val_loss: 3.0226 - val_accuracy: 0.8480\n",
            "Epoch 376/500\n",
            "26/26 [==============================] - 0s 5ms/step - loss: 3.6728e-06 - accuracy: 1.0000 - val_loss: 3.0234 - val_accuracy: 0.8480\n",
            "Epoch 377/500\n",
            "26/26 [==============================] - 0s 5ms/step - loss: 3.6427e-06 - accuracy: 1.0000 - val_loss: 3.0304 - val_accuracy: 0.8480\n",
            "Epoch 378/500\n",
            "26/26 [==============================] - 0s 7ms/step - loss: 3.6144e-06 - accuracy: 1.0000 - val_loss: 3.0340 - val_accuracy: 0.8480\n",
            "Epoch 379/500\n",
            "26/26 [==============================] - 0s 6ms/step - loss: 3.6471e-06 - accuracy: 1.0000 - val_loss: 3.0321 - val_accuracy: 0.8480\n",
            "Epoch 380/500\n",
            "26/26 [==============================] - 0s 4ms/step - loss: 3.5646e-06 - accuracy: 1.0000 - val_loss: 3.0431 - val_accuracy: 0.8480\n",
            "Epoch 381/500\n",
            "26/26 [==============================] - 0s 5ms/step - loss: 3.4087e-06 - accuracy: 1.0000 - val_loss: 3.0477 - val_accuracy: 0.8480\n",
            "Epoch 382/500\n",
            "26/26 [==============================] - 0s 5ms/step - loss: 3.3791e-06 - accuracy: 1.0000 - val_loss: 3.0503 - val_accuracy: 0.8480\n",
            "Epoch 383/500\n",
            "26/26 [==============================] - 0s 5ms/step - loss: 3.3992e-06 - accuracy: 1.0000 - val_loss: 3.0503 - val_accuracy: 0.8480\n",
            "Epoch 384/500\n",
            "26/26 [==============================] - 0s 5ms/step - loss: 3.3294e-06 - accuracy: 1.0000 - val_loss: 3.0529 - val_accuracy: 0.8480\n",
            "Epoch 385/500\n",
            "26/26 [==============================] - 0s 5ms/step - loss: 3.2288e-06 - accuracy: 1.0000 - val_loss: 3.0603 - val_accuracy: 0.8480\n",
            "Epoch 386/500\n",
            "26/26 [==============================] - 0s 6ms/step - loss: 3.1566e-06 - accuracy: 1.0000 - val_loss: 3.0633 - val_accuracy: 0.8480\n",
            "Epoch 387/500\n",
            "26/26 [==============================] - 0s 5ms/step - loss: 3.0944e-06 - accuracy: 1.0000 - val_loss: 3.0643 - val_accuracy: 0.8480\n",
            "Epoch 388/500\n",
            "26/26 [==============================] - 0s 5ms/step - loss: 3.0664e-06 - accuracy: 1.0000 - val_loss: 3.0686 - val_accuracy: 0.8480\n",
            "Epoch 389/500\n",
            "26/26 [==============================] - 0s 5ms/step - loss: 2.9772e-06 - accuracy: 1.0000 - val_loss: 3.0751 - val_accuracy: 0.8480\n",
            "Epoch 390/500\n",
            "26/26 [==============================] - 0s 6ms/step - loss: 2.9553e-06 - accuracy: 1.0000 - val_loss: 3.0759 - val_accuracy: 0.8480\n",
            "Epoch 391/500\n",
            "26/26 [==============================] - 0s 5ms/step - loss: 2.9241e-06 - accuracy: 1.0000 - val_loss: 3.0825 - val_accuracy: 0.8480\n",
            "Epoch 392/500\n",
            "26/26 [==============================] - 0s 4ms/step - loss: 2.8554e-06 - accuracy: 1.0000 - val_loss: 3.0852 - val_accuracy: 0.8480\n",
            "Epoch 393/500\n",
            "26/26 [==============================] - 0s 6ms/step - loss: 2.8143e-06 - accuracy: 1.0000 - val_loss: 3.0890 - val_accuracy: 0.8480\n",
            "Epoch 394/500\n",
            "26/26 [==============================] - 0s 5ms/step - loss: 2.7745e-06 - accuracy: 1.0000 - val_loss: 3.0925 - val_accuracy: 0.8480\n",
            "Epoch 395/500\n",
            "26/26 [==============================] - 0s 5ms/step - loss: 2.7943e-06 - accuracy: 1.0000 - val_loss: 3.0927 - val_accuracy: 0.8480\n",
            "Epoch 396/500\n",
            "26/26 [==============================] - 0s 5ms/step - loss: 2.7062e-06 - accuracy: 1.0000 - val_loss: 3.0988 - val_accuracy: 0.8480\n",
            "Epoch 397/500\n",
            "26/26 [==============================] - 0s 5ms/step - loss: 2.6599e-06 - accuracy: 1.0000 - val_loss: 3.1006 - val_accuracy: 0.8480\n",
            "Epoch 398/500\n",
            "26/26 [==============================] - 0s 5ms/step - loss: 2.6112e-06 - accuracy: 1.0000 - val_loss: 3.1069 - val_accuracy: 0.8480\n",
            "Epoch 399/500\n",
            "26/26 [==============================] - 0s 5ms/step - loss: 2.6114e-06 - accuracy: 1.0000 - val_loss: 3.1126 - val_accuracy: 0.8480\n",
            "Epoch 400/500\n",
            "26/26 [==============================] - 0s 6ms/step - loss: 2.5189e-06 - accuracy: 1.0000 - val_loss: 3.1149 - val_accuracy: 0.8480\n",
            "Epoch 401/500\n",
            "26/26 [==============================] - 0s 5ms/step - loss: 2.5196e-06 - accuracy: 1.0000 - val_loss: 3.1164 - val_accuracy: 0.8480\n",
            "Epoch 402/500\n",
            "26/26 [==============================] - 0s 5ms/step - loss: 2.4668e-06 - accuracy: 1.0000 - val_loss: 3.1196 - val_accuracy: 0.8480\n",
            "Epoch 403/500\n",
            "26/26 [==============================] - 0s 5ms/step - loss: 2.4147e-06 - accuracy: 1.0000 - val_loss: 3.1241 - val_accuracy: 0.8480\n",
            "Epoch 404/500\n",
            "26/26 [==============================] - 0s 5ms/step - loss: 2.4036e-06 - accuracy: 1.0000 - val_loss: 3.1266 - val_accuracy: 0.8480\n",
            "Epoch 405/500\n",
            "26/26 [==============================] - 0s 5ms/step - loss: 2.3667e-06 - accuracy: 1.0000 - val_loss: 3.1310 - val_accuracy: 0.8480\n",
            "Epoch 406/500\n",
            "26/26 [==============================] - 0s 5ms/step - loss: 2.2974e-06 - accuracy: 1.0000 - val_loss: 3.1355 - val_accuracy: 0.8480\n",
            "Epoch 407/500\n",
            "26/26 [==============================] - 0s 5ms/step - loss: 2.2748e-06 - accuracy: 1.0000 - val_loss: 3.1375 - val_accuracy: 0.8480\n",
            "Epoch 408/500\n",
            "26/26 [==============================] - 0s 5ms/step - loss: 2.2273e-06 - accuracy: 1.0000 - val_loss: 3.1425 - val_accuracy: 0.8480\n",
            "Epoch 409/500\n",
            "26/26 [==============================] - 0s 5ms/step - loss: 2.2236e-06 - accuracy: 1.0000 - val_loss: 3.1441 - val_accuracy: 0.8480\n",
            "Epoch 410/500\n",
            "26/26 [==============================] - 0s 5ms/step - loss: 2.1488e-06 - accuracy: 1.0000 - val_loss: 3.1511 - val_accuracy: 0.8480\n",
            "Epoch 411/500\n",
            "26/26 [==============================] - 0s 5ms/step - loss: 2.1358e-06 - accuracy: 1.0000 - val_loss: 3.1539 - val_accuracy: 0.8480\n",
            "Epoch 412/500\n",
            "26/26 [==============================] - 0s 5ms/step - loss: 2.1000e-06 - accuracy: 1.0000 - val_loss: 3.1572 - val_accuracy: 0.8480\n",
            "Epoch 413/500\n",
            "26/26 [==============================] - 0s 5ms/step - loss: 2.0616e-06 - accuracy: 1.0000 - val_loss: 3.1630 - val_accuracy: 0.8480\n",
            "Epoch 414/500\n",
            "26/26 [==============================] - 0s 5ms/step - loss: 2.0157e-06 - accuracy: 1.0000 - val_loss: 3.1634 - val_accuracy: 0.8480\n",
            "Epoch 415/500\n",
            "26/26 [==============================] - 0s 6ms/step - loss: 1.9658e-06 - accuracy: 1.0000 - val_loss: 3.1689 - val_accuracy: 0.8480\n",
            "Epoch 416/500\n",
            "26/26 [==============================] - 0s 5ms/step - loss: 2.0085e-06 - accuracy: 1.0000 - val_loss: 3.1725 - val_accuracy: 0.8480\n",
            "Epoch 417/500\n",
            "26/26 [==============================] - 0s 6ms/step - loss: 1.9519e-06 - accuracy: 1.0000 - val_loss: 3.1741 - val_accuracy: 0.8480\n",
            "Epoch 418/500\n",
            "26/26 [==============================] - 0s 9ms/step - loss: 1.8855e-06 - accuracy: 1.0000 - val_loss: 3.1795 - val_accuracy: 0.8480\n",
            "Epoch 419/500\n",
            "26/26 [==============================] - 0s 8ms/step - loss: 1.8674e-06 - accuracy: 1.0000 - val_loss: 3.1819 - val_accuracy: 0.8480\n",
            "Epoch 420/500\n",
            "26/26 [==============================] - 0s 10ms/step - loss: 1.8179e-06 - accuracy: 1.0000 - val_loss: 3.1838 - val_accuracy: 0.8480\n",
            "Epoch 421/500\n",
            "26/26 [==============================] - 0s 7ms/step - loss: 1.8091e-06 - accuracy: 1.0000 - val_loss: 3.1875 - val_accuracy: 0.8480\n",
            "Epoch 422/500\n",
            "26/26 [==============================] - 0s 6ms/step - loss: 1.7853e-06 - accuracy: 1.0000 - val_loss: 3.1944 - val_accuracy: 0.8480\n",
            "Epoch 423/500\n",
            "26/26 [==============================] - 0s 8ms/step - loss: 1.7776e-06 - accuracy: 1.0000 - val_loss: 3.1979 - val_accuracy: 0.8480\n",
            "Epoch 424/500\n",
            "26/26 [==============================] - 0s 8ms/step - loss: 1.7341e-06 - accuracy: 1.0000 - val_loss: 3.1974 - val_accuracy: 0.8480\n",
            "Epoch 425/500\n",
            "26/26 [==============================] - 0s 8ms/step - loss: 1.7318e-06 - accuracy: 1.0000 - val_loss: 3.2070 - val_accuracy: 0.8480\n",
            "Epoch 426/500\n",
            "26/26 [==============================] - 0s 8ms/step - loss: 1.6852e-06 - accuracy: 1.0000 - val_loss: 3.2067 - val_accuracy: 0.8480\n",
            "Epoch 427/500\n",
            "26/26 [==============================] - 0s 7ms/step - loss: 1.6507e-06 - accuracy: 1.0000 - val_loss: 3.2122 - val_accuracy: 0.8480\n",
            "Epoch 428/500\n",
            "26/26 [==============================] - 0s 7ms/step - loss: 1.6229e-06 - accuracy: 1.0000 - val_loss: 3.2136 - val_accuracy: 0.8480\n",
            "Epoch 429/500\n",
            "26/26 [==============================] - 0s 7ms/step - loss: 1.5904e-06 - accuracy: 1.0000 - val_loss: 3.2196 - val_accuracy: 0.8480\n",
            "Epoch 430/500\n",
            "26/26 [==============================] - 0s 8ms/step - loss: 1.5651e-06 - accuracy: 1.0000 - val_loss: 3.2215 - val_accuracy: 0.8480\n",
            "Epoch 431/500\n",
            "26/26 [==============================] - 0s 6ms/step - loss: 1.5429e-06 - accuracy: 1.0000 - val_loss: 3.2247 - val_accuracy: 0.8480\n",
            "Epoch 432/500\n",
            "26/26 [==============================] - 0s 9ms/step - loss: 1.5115e-06 - accuracy: 1.0000 - val_loss: 3.2287 - val_accuracy: 0.8480\n",
            "Epoch 433/500\n",
            "26/26 [==============================] - 0s 7ms/step - loss: 1.4996e-06 - accuracy: 1.0000 - val_loss: 3.2317 - val_accuracy: 0.8480\n",
            "Epoch 434/500\n",
            "26/26 [==============================] - 0s 7ms/step - loss: 1.4659e-06 - accuracy: 1.0000 - val_loss: 3.2389 - val_accuracy: 0.8480\n",
            "Epoch 435/500\n",
            "26/26 [==============================] - 0s 8ms/step - loss: 1.4644e-06 - accuracy: 1.0000 - val_loss: 3.2405 - val_accuracy: 0.8480\n",
            "Epoch 436/500\n",
            "26/26 [==============================] - 0s 8ms/step - loss: 1.4310e-06 - accuracy: 1.0000 - val_loss: 3.2448 - val_accuracy: 0.8480\n",
            "Epoch 437/500\n",
            "26/26 [==============================] - 0s 7ms/step - loss: 1.4448e-06 - accuracy: 1.0000 - val_loss: 3.2482 - val_accuracy: 0.8480\n",
            "Epoch 438/500\n",
            "26/26 [==============================] - 0s 5ms/step - loss: 1.3963e-06 - accuracy: 1.0000 - val_loss: 3.2505 - val_accuracy: 0.8480\n",
            "Epoch 439/500\n",
            "26/26 [==============================] - 0s 4ms/step - loss: 1.3735e-06 - accuracy: 1.0000 - val_loss: 3.2551 - val_accuracy: 0.8480\n",
            "Epoch 440/500\n",
            "26/26 [==============================] - 0s 5ms/step - loss: 1.3368e-06 - accuracy: 1.0000 - val_loss: 3.2555 - val_accuracy: 0.8480\n",
            "Epoch 441/500\n",
            "26/26 [==============================] - 0s 6ms/step - loss: 1.3196e-06 - accuracy: 1.0000 - val_loss: 3.2613 - val_accuracy: 0.8480\n",
            "Epoch 442/500\n",
            "26/26 [==============================] - 0s 5ms/step - loss: 1.3152e-06 - accuracy: 1.0000 - val_loss: 3.2642 - val_accuracy: 0.8480\n",
            "Epoch 443/500\n",
            "26/26 [==============================] - 0s 5ms/step - loss: 1.2850e-06 - accuracy: 1.0000 - val_loss: 3.2698 - val_accuracy: 0.8480\n",
            "Epoch 444/500\n",
            "26/26 [==============================] - 0s 4ms/step - loss: 1.2554e-06 - accuracy: 1.0000 - val_loss: 3.2718 - val_accuracy: 0.8480\n",
            "Epoch 445/500\n",
            "26/26 [==============================] - 0s 15ms/step - loss: 1.2577e-06 - accuracy: 1.0000 - val_loss: 3.2737 - val_accuracy: 0.8480\n",
            "Epoch 446/500\n",
            "26/26 [==============================] - 1s 20ms/step - loss: 1.2366e-06 - accuracy: 1.0000 - val_loss: 3.2823 - val_accuracy: 0.8480\n",
            "Epoch 447/500\n",
            "26/26 [==============================] - 0s 9ms/step - loss: 1.2000e-06 - accuracy: 1.0000 - val_loss: 3.2840 - val_accuracy: 0.8480\n",
            "Epoch 448/500\n",
            "26/26 [==============================] - 0s 4ms/step - loss: 1.1770e-06 - accuracy: 1.0000 - val_loss: 3.2856 - val_accuracy: 0.8480\n",
            "Epoch 449/500\n",
            "26/26 [==============================] - 0s 5ms/step - loss: 1.1632e-06 - accuracy: 1.0000 - val_loss: 3.2906 - val_accuracy: 0.8480\n",
            "Epoch 450/500\n",
            "26/26 [==============================] - 0s 10ms/step - loss: 1.1704e-06 - accuracy: 1.0000 - val_loss: 3.2949 - val_accuracy: 0.8480\n",
            "Epoch 451/500\n",
            "26/26 [==============================] - 1s 22ms/step - loss: 1.1318e-06 - accuracy: 1.0000 - val_loss: 3.2952 - val_accuracy: 0.8480\n",
            "Epoch 452/500\n",
            "26/26 [==============================] - 0s 12ms/step - loss: 1.1057e-06 - accuracy: 1.0000 - val_loss: 3.2978 - val_accuracy: 0.8480\n",
            "Epoch 453/500\n",
            "26/26 [==============================] - 0s 5ms/step - loss: 1.1105e-06 - accuracy: 1.0000 - val_loss: 3.3048 - val_accuracy: 0.8480\n",
            "Epoch 454/500\n",
            "26/26 [==============================] - 0s 5ms/step - loss: 1.0758e-06 - accuracy: 1.0000 - val_loss: 3.3084 - val_accuracy: 0.8480\n",
            "Epoch 455/500\n",
            "26/26 [==============================] - 0s 5ms/step - loss: 1.0663e-06 - accuracy: 1.0000 - val_loss: 3.3090 - val_accuracy: 0.8480\n",
            "Epoch 456/500\n",
            "26/26 [==============================] - 0s 5ms/step - loss: 1.0408e-06 - accuracy: 1.0000 - val_loss: 3.3138 - val_accuracy: 0.8480\n",
            "Epoch 457/500\n",
            "26/26 [==============================] - 0s 4ms/step - loss: 1.0231e-06 - accuracy: 1.0000 - val_loss: 3.3174 - val_accuracy: 0.8480\n",
            "Epoch 458/500\n",
            "26/26 [==============================] - 0s 5ms/step - loss: 1.0110e-06 - accuracy: 1.0000 - val_loss: 3.3221 - val_accuracy: 0.8480\n",
            "Epoch 459/500\n",
            "26/26 [==============================] - 0s 5ms/step - loss: 1.0046e-06 - accuracy: 1.0000 - val_loss: 3.3230 - val_accuracy: 0.8480\n",
            "Epoch 460/500\n",
            "26/26 [==============================] - 0s 7ms/step - loss: 9.8212e-07 - accuracy: 1.0000 - val_loss: 3.3291 - val_accuracy: 0.8480\n",
            "Epoch 461/500\n",
            "26/26 [==============================] - 0s 5ms/step - loss: 9.8448e-07 - accuracy: 1.0000 - val_loss: 3.3310 - val_accuracy: 0.8480\n",
            "Epoch 462/500\n",
            "26/26 [==============================] - 0s 5ms/step - loss: 9.4945e-07 - accuracy: 1.0000 - val_loss: 3.3340 - val_accuracy: 0.8480\n",
            "Epoch 463/500\n",
            "26/26 [==============================] - 0s 5ms/step - loss: 9.3194e-07 - accuracy: 1.0000 - val_loss: 3.3389 - val_accuracy: 0.8480\n",
            "Epoch 464/500\n",
            "26/26 [==============================] - 0s 5ms/step - loss: 9.1002e-07 - accuracy: 1.0000 - val_loss: 3.3415 - val_accuracy: 0.8480\n",
            "Epoch 465/500\n",
            "26/26 [==============================] - 0s 5ms/step - loss: 9.0350e-07 - accuracy: 1.0000 - val_loss: 3.3457 - val_accuracy: 0.8480\n",
            "Epoch 466/500\n",
            "26/26 [==============================] - 0s 5ms/step - loss: 8.9247e-07 - accuracy: 1.0000 - val_loss: 3.3506 - val_accuracy: 0.8480\n",
            "Epoch 467/500\n",
            "26/26 [==============================] - 0s 7ms/step - loss: 8.8895e-07 - accuracy: 1.0000 - val_loss: 3.3533 - val_accuracy: 0.8480\n",
            "Epoch 468/500\n",
            "26/26 [==============================] - 0s 5ms/step - loss: 8.5827e-07 - accuracy: 1.0000 - val_loss: 3.3561 - val_accuracy: 0.8480\n",
            "Epoch 469/500\n",
            "26/26 [==============================] - 0s 5ms/step - loss: 8.6262e-07 - accuracy: 1.0000 - val_loss: 3.3590 - val_accuracy: 0.8480\n",
            "Epoch 470/500\n",
            "26/26 [==============================] - 0s 5ms/step - loss: 8.7654e-07 - accuracy: 1.0000 - val_loss: 3.3628 - val_accuracy: 0.8480\n",
            "Epoch 471/500\n",
            "26/26 [==============================] - 0s 5ms/step - loss: 8.3754e-07 - accuracy: 1.0000 - val_loss: 3.3667 - val_accuracy: 0.8480\n",
            "Epoch 472/500\n",
            "26/26 [==============================] - 0s 5ms/step - loss: 8.3526e-07 - accuracy: 1.0000 - val_loss: 3.3711 - val_accuracy: 0.8480\n",
            "Epoch 473/500\n",
            "26/26 [==============================] - 0s 6ms/step - loss: 7.9850e-07 - accuracy: 1.0000 - val_loss: 3.3756 - val_accuracy: 0.8480\n",
            "Epoch 474/500\n",
            "26/26 [==============================] - 0s 6ms/step - loss: 7.9577e-07 - accuracy: 1.0000 - val_loss: 3.3779 - val_accuracy: 0.8480\n",
            "Epoch 475/500\n",
            "26/26 [==============================] - 0s 5ms/step - loss: 7.9112e-07 - accuracy: 1.0000 - val_loss: 3.3817 - val_accuracy: 0.8480\n",
            "Epoch 476/500\n",
            "26/26 [==============================] - 0s 5ms/step - loss: 7.6845e-07 - accuracy: 1.0000 - val_loss: 3.3862 - val_accuracy: 0.8480\n",
            "Epoch 477/500\n",
            "26/26 [==============================] - 0s 5ms/step - loss: 7.4465e-07 - accuracy: 1.0000 - val_loss: 3.3866 - val_accuracy: 0.8480\n",
            "Epoch 478/500\n",
            "26/26 [==============================] - 0s 5ms/step - loss: 7.3286e-07 - accuracy: 1.0000 - val_loss: 3.3912 - val_accuracy: 0.8480\n",
            "Epoch 479/500\n",
            "26/26 [==============================] - 0s 5ms/step - loss: 7.3536e-07 - accuracy: 1.0000 - val_loss: 3.3927 - val_accuracy: 0.8480\n",
            "Epoch 480/500\n",
            "26/26 [==============================] - 0s 6ms/step - loss: 7.2520e-07 - accuracy: 1.0000 - val_loss: 3.3989 - val_accuracy: 0.8480\n",
            "Epoch 481/500\n",
            "26/26 [==============================] - 0s 6ms/step - loss: 7.1126e-07 - accuracy: 1.0000 - val_loss: 3.4036 - val_accuracy: 0.8480\n",
            "Epoch 482/500\n",
            "26/26 [==============================] - 0s 5ms/step - loss: 6.9684e-07 - accuracy: 1.0000 - val_loss: 3.4072 - val_accuracy: 0.8480\n",
            "Epoch 483/500\n",
            "26/26 [==============================] - 0s 5ms/step - loss: 6.9125e-07 - accuracy: 1.0000 - val_loss: 3.4083 - val_accuracy: 0.8480\n",
            "Epoch 484/500\n",
            "26/26 [==============================] - 0s 5ms/step - loss: 6.7205e-07 - accuracy: 1.0000 - val_loss: 3.4110 - val_accuracy: 0.8480\n",
            "Epoch 485/500\n",
            "26/26 [==============================] - 0s 5ms/step - loss: 6.6070e-07 - accuracy: 1.0000 - val_loss: 3.4163 - val_accuracy: 0.8480\n",
            "Epoch 486/500\n",
            "26/26 [==============================] - 0s 6ms/step - loss: 6.5783e-07 - accuracy: 1.0000 - val_loss: 3.4205 - val_accuracy: 0.8480\n",
            "Epoch 487/500\n",
            "26/26 [==============================] - 0s 5ms/step - loss: 6.4960e-07 - accuracy: 1.0000 - val_loss: 3.4251 - val_accuracy: 0.8480\n",
            "Epoch 488/500\n",
            "26/26 [==============================] - 0s 5ms/step - loss: 6.3260e-07 - accuracy: 1.0000 - val_loss: 3.4251 - val_accuracy: 0.8480\n",
            "Epoch 489/500\n",
            "26/26 [==============================] - 0s 5ms/step - loss: 6.2328e-07 - accuracy: 1.0000 - val_loss: 3.4275 - val_accuracy: 0.8480\n",
            "Epoch 490/500\n",
            "26/26 [==============================] - 0s 5ms/step - loss: 6.1106e-07 - accuracy: 1.0000 - val_loss: 3.4335 - val_accuracy: 0.8480\n",
            "Epoch 491/500\n",
            "26/26 [==============================] - 0s 5ms/step - loss: 6.0713e-07 - accuracy: 1.0000 - val_loss: 3.4363 - val_accuracy: 0.8480\n",
            "Epoch 492/500\n",
            "26/26 [==============================] - 0s 5ms/step - loss: 6.0544e-07 - accuracy: 1.0000 - val_loss: 3.4388 - val_accuracy: 0.8480\n",
            "Epoch 493/500\n",
            "26/26 [==============================] - 0s 7ms/step - loss: 6.0153e-07 - accuracy: 1.0000 - val_loss: 3.4415 - val_accuracy: 0.8480\n",
            "Epoch 494/500\n",
            "26/26 [==============================] - 0s 5ms/step - loss: 5.7603e-07 - accuracy: 1.0000 - val_loss: 3.4472 - val_accuracy: 0.8480\n",
            "Epoch 495/500\n",
            "26/26 [==============================] - 0s 5ms/step - loss: 5.7015e-07 - accuracy: 1.0000 - val_loss: 3.4488 - val_accuracy: 0.8480\n",
            "Epoch 496/500\n",
            "26/26 [==============================] - 0s 5ms/step - loss: 5.6123e-07 - accuracy: 1.0000 - val_loss: 3.4542 - val_accuracy: 0.8480\n",
            "Epoch 497/500\n",
            "26/26 [==============================] - 0s 6ms/step - loss: 5.5073e-07 - accuracy: 1.0000 - val_loss: 3.4577 - val_accuracy: 0.8480\n",
            "Epoch 498/500\n",
            "26/26 [==============================] - 0s 7ms/step - loss: 5.4578e-07 - accuracy: 1.0000 - val_loss: 3.4635 - val_accuracy: 0.8480\n",
            "Epoch 499/500\n",
            "26/26 [==============================] - 0s 8ms/step - loss: 5.3987e-07 - accuracy: 1.0000 - val_loss: 3.4654 - val_accuracy: 0.8480\n",
            "Epoch 500/500\n",
            "26/26 [==============================] - 0s 8ms/step - loss: 5.4231e-07 - accuracy: 1.0000 - val_loss: 3.4673 - val_accuracy: 0.8480\n"
          ]
        }
      ]
    },
    {
      "cell_type": "code",
      "source": [
        "plt.plot(model_history.history['accuracy'])\n",
        "plt.plot(model_history.history['val_accuracy'])\n",
        "plt.title('model accuracy')\n",
        "plt.ylabel('accuracy')\n",
        "plt.xlabel('epoch')\n",
        "plt.legend(['train', 'test'], loc='upper left')\n",
        "plt.show()\n",
        "\n",
        "# summarize history for loss\n",
        "plt.plot(model_history.history['loss'])\n",
        "plt.plot(model_history.history['val_loss'])\n",
        "plt.title('model loss')\n",
        "plt.ylabel('loss')\n",
        "plt.xlabel('epoch')\n",
        "plt.legend(['train', 'test'], loc='upper left')\n",
        "plt.show()"
      ],
      "metadata": {
        "colab": {
          "base_uri": "https://localhost:8080/",
          "height": 927
        },
        "id": "yVeSg73I2-D_",
        "outputId": "2264c174-6d43-49a2-b441-13f17ac0ddb3"
      },
      "execution_count": null,
      "outputs": [
        {
          "output_type": "display_data",
          "data": {
            "text/plain": [
              "<Figure size 640x480 with 1 Axes>"
            ],
            "image/png": "[encoded data removed]"
          },
          "metadata": {}
        },
        {
          "output_type": "display_data",
          "data": {
            "text/plain": [
              "<Figure size 640x480 with 1 Axes>"
            ],
            "image/png": "[encoded data removed]"
          },
          "metadata": {}
        }
      ]
    },
    {
      "cell_type": "code",
      "source": [
        "y_pred=nn_model.predict(X_test)\n",
        "y_pred=(y_pred>0.5)"
      ],
      "metadata": {
        "colab": {
          "base_uri": "https://localhost:8080/"
        },
        "id": "ZH1mqRg54aNU",
        "outputId": "5f96e2ac-9765-4874-c539-c5ec3da9439b"
      },
      "execution_count": null,
      "outputs": [
        {
          "output_type": "stream",
          "name": "stdout",
          "text": [
            "11/11 [==============================] - 0s 3ms/step\n"
          ]
        }
      ]
    },
    {
      "cell_type": "code",
      "source": [
        "from sklearn.metrics import accuracy_score\n",
        "print(accuracy_score(Y_test, y_pred))\n",
        "\n",
        "print(classification_report(Y_test,y_pred))"
      ],
      "metadata": {
        "colab": {
          "base_uri": "https://localhost:8080/"
        },
        "id": "MTaV-rlm2-Ba",
        "outputId": "4e1f5a08-dddf-4464-dd50-03fe1689c02d"
      },
      "execution_count": null,
      "outputs": [
        {
          "output_type": "stream",
          "name": "stdout",
          "text": [
            "0.8705882352941177\n",
            "              precision    recall  f1-score   support\n",
            "\n",
            "           0       0.87      1.00      0.93       296\n",
            "           1       0.00      0.00      0.00        44\n",
            "\n",
            "    accuracy                           0.87       340\n",
            "   macro avg       0.44      0.50      0.47       340\n",
            "weighted avg       0.76      0.87      0.81       340\n",
            "\n"
          ]
        },
        {
          "output_type": "stream",
          "name": "stderr",
          "text": [
            "/usr/local/lib/python3.10/dist-packages/sklearn/metrics/_classification.py:1344: UndefinedMetricWarning: Precision and F-score are ill-defined and being set to 0.0 in labels with no predicted samples. Use `zero_division` parameter to control this behavior.\n",
            "  _warn_prf(average, modifier, msg_start, len(result))\n",
            "/usr/local/lib/python3.10/dist-packages/sklearn/metrics/_classification.py:1344: UndefinedMetricWarning: Precision and F-score are ill-defined and being set to 0.0 in labels with no predicted samples. Use `zero_division` parameter to control this behavior.\n",
            "  _warn_prf(average, modifier, msg_start, len(result))\n",
            "/usr/local/lib/python3.10/dist-packages/sklearn/metrics/_classification.py:1344: UndefinedMetricWarning: Precision and F-score are ill-defined and being set to 0.0 in labels with no predicted samples. Use `zero_division` parameter to control this behavior.\n",
            "  _warn_prf(average, modifier, msg_start, len(result))\n"
          ]
        }
      ]
    },
    {
      "cell_type": "code",
      "source": [
        "scores.append(accuracy_score(Y_test, y_pred))\n",
        "print(scores)"
      ],
      "metadata": {
        "colab": {
          "base_uri": "https://localhost:8080/"
        },
        "id": "f9noJ5_84i9W",
        "outputId": "05a24ee1-eb1a-4e77-d10b-e2769eaad13f"
      },
      "execution_count": null,
      "outputs": [
        {
          "output_type": "stream",
          "name": "stdout",
          "text": [
            "[0.8941176470588236, 0.9058823529411765, 0.8558823529411764, 0.9029411764705882, 0.8705882352941177]\n"
          ]
        }
      ]
    },
    {
      "cell_type": "code",
      "source": [
        "for i in range(len(scores)):\n",
        "    scores[i] = round(scores[i]*100, 2)\n",
        "print(scores)"
      ],
      "metadata": {
        "colab": {
          "base_uri": "https://localhost:8080/"
        },
        "id": "wrX-bS-aWJJO",
        "outputId": "61fe277a-4173-4381-f875-c447539bfada"
      },
      "execution_count": null,
      "outputs": [
        {
          "output_type": "stream",
          "name": "stdout",
          "text": [
            "[89.41, 90.59, 85.59, 90.29, 87.06]\n"
          ]
        }
      ]
    },
    {
      "cell_type": "code",
      "source": [
        "res = pd.DataFrame({'Model': models, 'Accuracy': scores})\n",
        "res.set_index('Model', inplace = True)\n",
        "res"
      ],
      "metadata": {
        "colab": {
          "base_uri": "https://localhost:8080/",
          "height": 237
        },
        "id": "HD14yViHSmRV",
        "outputId": "6df07e3a-633a-424b-a920-54ffe4593547"
      },
      "execution_count": null,
      "outputs": [
        {
          "output_type": "execute_result",
          "data": {
            "text/plain": [
              "                     Accuracy\n",
              "Model                        \n",
              "Logistic Regression     89.41\n",
              "KNN Classifier          90.59\n",
              "Decision Tree           85.59\n",
              "Random forest           90.29\n",
              "ANN                     87.06"
            ],
            "text/html": [
              "\n",
              "  <div id=\"df-a34190a6-b0f8-42bd-be41-a9b417b447f8\" class=\"colab-df-container\">\n",
              "    <div>\n",
              "<style scoped>\n",
              "    .dataframe tbody tr th:only-of-type {\n",
              "        vertical-align: middle;\n",
              "    }\n",
              "\n",
              "    .dataframe tbody tr th {\n",
              "        vertical-align: top;\n",
              "    }\n",
              "\n",
              "    .dataframe thead th {\n",
              "        text-align: right;\n",
              "    }\n",
              "</style>\n",
              "<table border=\"1\" class=\"dataframe\">\n",
              "  <thead>\n",
              "    <tr style=\"text-align: right;\">\n",
              "      <th></th>\n",
              "      <th>Accuracy</th>\n",
              "    </tr>\n",
              "    <tr>\n",
              "      <th>Model</th>\n",
              "      <th></th>\n",
              "    </tr>\n",
              "  </thead>\n",
              "  <tbody>\n",
              "    <tr>\n",
              "      <th>Logistic Regression</th>\n",
              "      <td>89.41</td>\n",
              "    </tr>\n",
              "    <tr>\n",
              "      <th>KNN Classifier</th>\n",
              "      <td>90.59</td>\n",
              "    </tr>\n",
              "    <tr>\n",
              "      <th>Decision Tree</th>\n",
              "      <td>85.59</td>\n",
              "    </tr>\n",
              "    <tr>\n",
              "      <th>Random forest</th>\n",
              "      <td>90.29</td>\n",
              "    </tr>\n",
              "    <tr>\n",
              "      <th>ANN</th>\n",
              "      <td>87.06</td>\n",
              "    </tr>\n",
              "  </tbody>\n",
              "</table>\n",
              "</div>\n",
              "    <div class=\"colab-df-buttons\">\n",
              "\n",
              "  <div class=\"colab-df-container\">\n",
              "    <button class=\"colab-df-convert\" onclick=\"convertToInteractive('df-a34190a6-b0f8-42bd-be41-a9b417b447f8')\"\n",
              "            title=\"Convert this dataframe to an interactive table.\"\n",
              "            style=\"display:none;\">\n",
              "\n",
              "  <svg xmlns=\"http://www.w3.org/2000/svg\" height=\"24px\" viewBox=\"0 -960 960 960\">\n",
              "    <path d=\"M120-120v-720h720v720H120Zm60-500h600v-160H180v160Zm220 220h160v-160H400v160Zm0 220h160v-160H400v160ZM180-400h160v-160H180v160Zm440 0h160v-160H620v160ZM180-180h160v-160H180v160Zm440 0h160v-160H620v160Z\"/>\n",
              "  </svg>\n",
              "    </button>\n",
              "\n",
              "  <style>\n",
              "    .colab-df-container {\n",
              "      display:flex;\n",
              "      gap: 12px;\n",
              "    }\n",
              "\n",
              "    .colab-df-convert {\n",
              "      background-color: #E8F0FE;\n",
              "      border: none;\n",
              "      border-radius: 50%;\n",
              "      cursor: pointer;\n",
              "      display: none;\n",
              "      fill: #1967D2;\n",
              "      height: 32px;\n",
              "      padding: 0 0 0 0;\n",
              "      width: 32px;\n",
              "    }\n",
              "\n",
              "    .colab-df-convert:hover {\n",
              "      background-color: #E2EBFA;\n",
              "      box-shadow: 0px 1px 2px rgba(60, 64, 67, 0.3), 0px 1px 3px 1px rgba(60, 64, 67, 0.15);\n",
              "      fill: #174EA6;\n",
              "    }\n",
              "\n",
              "    .colab-df-buttons div {\n",
              "      margin-bottom: 4px;\n",
              "    }\n",
              "\n",
              "    [theme=dark] .colab-df-convert {\n",
              "      background-color: #3B4455;\n",
              "      fill: #D2E3FC;\n",
              "    }\n",
              "\n",
              "    [theme=dark] .colab-df-convert:hover {\n",
              "      background-color: #434B5C;\n",
              "      box-shadow: 0px 1px 3px 1px rgba(0, 0, 0, 0.15);\n",
              "      filter: drop-shadow(0px 1px 2px rgba(0, 0, 0, 0.3));\n",
              "      fill: #FFFFFF;\n",
              "    }\n",
              "  </style>\n",
              "\n",
              "    <script>\n",
              "      const buttonEl =\n",
              "        document.querySelector('#df-a34190a6-b0f8-42bd-be41-a9b417b447f8 button.colab-df-convert');\n",
              "      buttonEl.style.display =\n",
              "        google.colab.kernel.accessAllowed ? 'block' : 'none';\n",
              "\n",
              "      async function convertToInteractive(key) {\n",
              "        const element = document.querySelector('#df-a34190a6-b0f8-42bd-be41-a9b417b447f8');\n",
              "        const dataTable =\n",
              "          await google.colab.kernel.invokeFunction('convertToInteractive',\n",
              "                                                    [key], {});\n",
              "        if (!dataTable) return;\n",
              "\n",
              "        const docLinkHtml = 'Like what you see? Visit the ' +\n",
              "          '<a target=\"_blank\" href=https://colab.research.google.com/notebooks/data_table.ipynb>data table notebook</a>'\n",
              "          + ' to learn more about interactive tables.';\n",
              "        element.innerHTML = '';\n",
              "        dataTable['output_type'] = 'display_data';\n",
              "        await google.colab.output.renderOutput(dataTable, element);\n",
              "        const docLink = document.createElement('div');\n",
              "        docLink.innerHTML = docLinkHtml;\n",
              "        element.appendChild(docLink);\n",
              "      }\n",
              "    </script>\n",
              "  </div>\n",
              "\n",
              "\n",
              "<div id=\"df-44a807bb-75b7-47ba-9f0c-e568c36156c2\">\n",
              "  <button class=\"colab-df-quickchart\" onclick=\"quickchart('df-44a807bb-75b7-47ba-9f0c-e568c36156c2')\"\n",
              "            title=\"Suggest charts\"\n",
              "            style=\"display:none;\">\n",
              "\n",
              "<svg xmlns=\"http://www.w3.org/2000/svg\" height=\"24px\"viewBox=\"0 0 24 24\"\n",
              "     width=\"24px\">\n",
              "    <g>\n",
              "        <path d=\"M19 3H5c-1.1 0-2 .9-2 2v14c0 1.1.9 2 2 2h14c1.1 0 2-.9 2-2V5c0-1.1-.9-2-2-2zM9 17H7v-7h2v7zm4 0h-2V7h2v10zm4 0h-2v-4h2v4z\"/>\n",
              "    </g>\n",
              "</svg>\n",
              "  </button>\n",
              "\n",
              "<style>\n",
              "  .colab-df-quickchart {\n",
              "      --bg-color: #E8F0FE;\n",
              "      --fill-color: #1967D2;\n",
              "      --hover-bg-color: #E2EBFA;\n",
              "      --hover-fill-color: #174EA6;\n",
              "      --disabled-fill-color: #AAA;\n",
              "      --disabled-bg-color: #DDD;\n",
              "  }\n",
              "\n",
              "  [theme=dark] .colab-df-quickchart {\n",
              "      --bg-color: #3B4455;\n",
              "      --fill-color: #D2E3FC;\n",
              "      --hover-bg-color: #434B5C;\n",
              "      --hover-fill-color: #FFFFFF;\n",
              "      --disabled-bg-color: #3B4455;\n",
              "      --disabled-fill-color: #666;\n",
              "  }\n",
              "\n",
              "  .colab-df-quickchart {\n",
              "    background-color: var(--bg-color);\n",
              "    border: none;\n",
              "    border-radius: 50%;\n",
              "    cursor: pointer;\n",
              "    display: none;\n",
              "    fill: var(--fill-color);\n",
              "    height: 32px;\n",
              "    padding: 0;\n",
              "    width: 32px;\n",
              "  }\n",
              "\n",
              "  .colab-df-quickchart:hover {\n",
              "    background-color: var(--hover-bg-color);\n",
              "    box-shadow: 0 1px 2px rgba(60, 64, 67, 0.3), 0 1px 3px 1px rgba(60, 64, 67, 0.15);\n",
              "    fill: var(--button-hover-fill-color);\n",
              "  }\n",
              "\n",
              "  .colab-df-quickchart-complete:disabled,\n",
              "  .colab-df-quickchart-complete:disabled:hover {\n",
              "    background-color: var(--disabled-bg-color);\n",
              "    fill: var(--disabled-fill-color);\n",
              "    box-shadow: none;\n",
              "  }\n",
              "\n",
              "  .colab-df-spinner {\n",
              "    border: 2px solid var(--fill-color);\n",
              "    border-color: transparent;\n",
              "    border-bottom-color: var(--fill-color);\n",
              "    animation:\n",
              "      spin 1s steps(1) infinite;\n",
              "  }\n",
              "\n",
              "  @keyframes spin {\n",
              "    0% {\n",
              "      border-color: transparent;\n",
              "      border-bottom-color: var(--fill-color);\n",
              "      border-left-color: var(--fill-color);\n",
              "    }\n",
              "    20% {\n",
              "      border-color: transparent;\n",
              "      border-left-color: var(--fill-color);\n",
              "      border-top-color: var(--fill-color);\n",
              "    }\n",
              "    30% {\n",
              "      border-color: transparent;\n",
              "      border-left-color: var(--fill-color);\n",
              "      border-top-color: var(--fill-color);\n",
              "      border-right-color: var(--fill-color);\n",
              "    }\n",
              "    40% {\n",
              "      border-color: transparent;\n",
              "      border-right-color: var(--fill-color);\n",
              "      border-top-color: var(--fill-color);\n",
              "    }\n",
              "    60% {\n",
              "      border-color: transparent;\n",
              "      border-right-color: var(--fill-color);\n",
              "    }\n",
              "    80% {\n",
              "      border-color: transparent;\n",
              "      border-right-color: var(--fill-color);\n",
              "      border-bottom-color: var(--fill-color);\n",
              "    }\n",
              "    90% {\n",
              "      border-color: transparent;\n",
              "      border-bottom-color: var(--fill-color);\n",
              "    }\n",
              "  }\n",
              "</style>\n",
              "\n",
              "  <script>\n",
              "    async function quickchart(key) {\n",
              "      const quickchartButtonEl =\n",
              "        document.querySelector('#' + key + ' button');\n",
              "      quickchartButtonEl.disabled = true;  // To prevent multiple clicks.\n",
              "      quickchartButtonEl.classList.add('colab-df-spinner');\n",
              "      try {\n",
              "        const charts = await google.colab.kernel.invokeFunction(\n",
              "            'suggestCharts', [key], {});\n",
              "      } catch (error) {\n",
              "        console.error('Error during call to suggestCharts:', error);\n",
              "      }\n",
              "      quickchartButtonEl.classList.remove('colab-df-spinner');\n",
              "      quickchartButtonEl.classList.add('colab-df-quickchart-complete');\n",
              "    }\n",
              "    (() => {\n",
              "      let quickchartButtonEl =\n",
              "        document.querySelector('#df-44a807bb-75b7-47ba-9f0c-e568c36156c2 button');\n",
              "      quickchartButtonEl.style.display =\n",
              "        google.colab.kernel.accessAllowed ? 'block' : 'none';\n",
              "    })();\n",
              "  </script>\n",
              "</div>\n",
              "\n",
              "  <div id=\"id_7ec59554-218f-47af-86b1-2f3ba01de399\">\n",
              "    <style>\n",
              "      .colab-df-generate {\n",
              "        background-color: #E8F0FE;\n",
              "        border: none;\n",
              "        border-radius: 50%;\n",
              "        cursor: pointer;\n",
              "        display: none;\n",
              "        fill: #1967D2;\n",
              "        height: 32px;\n",
              "        padding: 0 0 0 0;\n",
              "        width: 32px;\n",
              "      }\n",
              "\n",
              "      .colab-df-generate:hover {\n",
              "        background-color: #E2EBFA;\n",
              "        box-shadow: 0px 1px 2px rgba(60, 64, 67, 0.3), 0px 1px 3px 1px rgba(60, 64, 67, 0.15);\n",
              "        fill: #174EA6;\n",
              "      }\n",
              "\n",
              "      [theme=dark] .colab-df-generate {\n",
              "        background-color: #3B4455;\n",
              "        fill: #D2E3FC;\n",
              "      }\n",
              "\n",
              "      [theme=dark] .colab-df-generate:hover {\n",
              "        background-color: #434B5C;\n",
              "        box-shadow: 0px 1px 3px 1px rgba(0, 0, 0, 0.15);\n",
              "        filter: drop-shadow(0px 1px 2px rgba(0, 0, 0, 0.3));\n",
              "        fill: #FFFFFF;\n",
              "      }\n",
              "    </style>\n",
              "    <button class=\"colab-df-generate\" onclick=\"generateWithVariable('res')\"\n",
              "            title=\"Generate code using this dataframe.\"\n",
              "            style=\"display:none;\">\n",
              "\n",
              "  <svg xmlns=\"http://www.w3.org/2000/svg\" height=\"24px\"viewBox=\"0 0 24 24\"\n",
              "       width=\"24px\">\n",
              "    <path d=\"M7,19H8.4L18.45,9,17,7.55,7,17.6ZM5,21V16.75L18.45,3.32a2,2,0,0,1,2.83,0l1.4,1.43a1.91,1.91,0,0,1,.58,1.4,1.91,1.91,0,0,1-.58,1.4L9.25,21ZM18.45,9,17,7.55Zm-12,3A5.31,5.31,0,0,0,4.9,8.1,5.31,5.31,0,0,0,1,6.5,5.31,5.31,0,0,0,4.9,4.9,5.31,5.31,0,0,0,6.5,1,5.31,5.31,0,0,0,8.1,4.9,5.31,5.31,0,0,0,12,6.5,5.46,5.46,0,0,0,6.5,12Z\"/>\n",
              "  </svg>\n",
              "    </button>\n",
              "    <script>\n",
              "      (() => {\n",
              "      const buttonEl =\n",
              "        document.querySelector('#id_7ec59554-218f-47af-86b1-2f3ba01de399 button.colab-df-generate');\n",
              "      buttonEl.style.display =\n",
              "        google.colab.kernel.accessAllowed ? 'block' : 'none';\n",
              "\n",
              "      buttonEl.onclick = () => {\n",
              "        google.colab.notebook.generateWithVariable('res');\n",
              "      }\n",
              "      })();\n",
              "    </script>\n",
              "  </div>\n",
              "\n",
              "    </div>\n",
              "  </div>\n"
            ],
            "application/vnd.google.colaboratory.intrinsic+json": {
              "type": "dataframe",
              "variable_name": "res",
              "summary": "{\n  \"name\": \"res\",\n  \"rows\": 5,\n  \"fields\": [\n    {\n      \"column\": \"Model\",\n      \"properties\": {\n        \"dtype\": \"string\",\n        \"num_unique_values\": 5,\n        \"samples\": [\n          \"KNN Classifier\",\n          \"ANN\",\n          \"Decision Tree\"\n        ],\n        \"semantic_type\": \"\",\n        \"description\": \"\"\n      }\n    },\n    {\n      \"column\": \"Accuracy\",\n      \"properties\": {\n        \"dtype\": \"number\",\n        \"std\": 2.1738951216652564,\n        \"min\": 85.59,\n        \"max\": 90.59,\n        \"num_unique_values\": 5,\n        \"samples\": [\n          90.59,\n          87.06,\n          85.59\n        ],\n        \"semantic_type\": \"\",\n        \"description\": \"\"\n      }\n    }\n  ]\n}"
            }
          },
          "metadata": {},
          "execution_count": 290
        }
      ]
    },
    {
      "cell_type": "code",
      "source": [
        "plt.figure(figsize = (8, 5), dpi = 120)\n",
        "ax = sns.barplot(x = models, y = scores, hue = models, data = res, err_kws={'linewidth': 0});\n",
        "plt.ylim(75,100)\n",
        "plt.title('Model Accuracy')\n",
        "plt.xlabel('Models')\n",
        "plt.ylabel('Accuracy')\n",
        "for i in ax.containers:\n",
        "    ax.bar_label(i,)\n",
        "plt.show();"
      ],
      "metadata": {
        "colab": {
          "base_uri": "https://localhost:8080/",
          "height": 582
        },
        "id": "I7cKOy2bR7pn",
        "outputId": "678e2d74-836e-4750-b68d-20510780f9cf"
      },
      "execution_count": null,
      "outputs": [
        {
          "output_type": "display_data",
          "data": {
            "text/plain": [
              "<Figure size 960x600 with 1 Axes>"
            ],
            "image/png": "[encoded data removed]"
          },
          "metadata": {}
        }
      ]
    },
    {
      "cell_type": "markdown",
      "source": [
        "The best Machine Learning Model for this data set is - KNN Classifier"
      ],
      "metadata": {
        "id": "kY18ZyT7a25X"
      }
    },
    {
      "cell_type": "code",
      "source": [],
      "metadata": {
        "id": "qFbIuXD5vdb-"
      },
      "execution_count": null,
      "outputs": []
    }
  ],
  "metadata": {
    "kernelspec": {
      "display_name": "Python 3",
      "language": "python",
      "name": "python3"
    },
    "language_info": {
      "codemirror_mode": {
        "name": "ipython",
        "version": 3
      },
      "file_extension": ".py",
      "mimetype": "text/x-python",
      "name": "python",
      "nbconvert_exporter": "python",
      "pygments_lexer": "ipython3",
      "version": "3.8.8"
    },
    "colab": {
      "provenance": []
    }
  },
  "nbformat": 4,
  "nbformat_minor": 0
}
